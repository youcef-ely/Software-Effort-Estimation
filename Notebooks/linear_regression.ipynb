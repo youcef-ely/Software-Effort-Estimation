{
  "nbformat": 4,
  "nbformat_minor": 0,
  "metadata": {
    "colab": {
      "name": "linear_regression.ipynb",
      "provenance": [],
      "collapsed_sections": []
    },
    "kernelspec": {
      "name": "python3",
      "display_name": "Python 3"
    },
    "language_info": {
      "name": "python"
    }
  },
  "cells": [
    {
      "cell_type": "code",
      "source": [
        "import sys\n",
        "import os\n",
        "\n",
        "module_path = os.path.abspath(os.path.join('..'))\n",
        "if module_path not in sys.path:\n",
        "    sys.path.append(module_path+\"\\\\src\")\n",
        "    sys.path.append(module_path+\"\\\\References\")\n",
        "\n",
        "\n",
        "import data_preprocessing as dp\n",
        "import metrics\n",
        "import genetic_algorithm as ga"
      ],
      "metadata": {
        "id": "9AQzjOPzRdmH"
      },
      "execution_count": 1,
      "outputs": []
    },
    {
      "cell_type": "code",
      "execution_count": 2,
      "metadata": {
        "id": "nNCf2F25Yivv"
      },
      "outputs": [],
      "source": [
        "import pandas as pd\n",
        "import numpy as np\n",
        "import random\n",
        "from sklearn.model_selection import train_test_split, cross_val_score"
      ]
    },
    {
      "cell_type": "code",
      "source": [
        "data = pd.read_excel('/content/final_data.xlsx')\n",
        "data.head()"
      ],
      "metadata": {
        "colab": {
          "base_uri": "https://localhost:8080/",
          "height": 473
        },
        "id": "k-0VRFoygvc_",
        "outputId": "18b01841-fbcf-4883-e6ea-1ab7439f2828"
      },
      "execution_count": 5,
      "outputs": [
        {
          "output_type": "execute_result",
          "data": {
            "text/plain": [
              "   Unnamed: 0  Team size**1 x Actual duration**1  \\\n",
              "0           0                               18.0   \n",
              "1           1                                9.0   \n",
              "2           2                               30.0   \n",
              "3           3                               36.0   \n",
              "4           4                              216.0   \n",
              "\n",
              "   Dedicated team members**1 x Actual duration**1  \\\n",
              "0                                            18.0   \n",
              "1                                             9.0   \n",
              "2                                            30.0   \n",
              "3                                            24.0   \n",
              "4                                           216.0   \n",
              "\n",
              "   Actual duration**1 x Development environment adequacy**1 x 11-20**1  \\\n",
              "0                                                  0                     \n",
              "1                                                  0                     \n",
              "2                                                  0                     \n",
              "3                                                  6                     \n",
              "4                                                 24                     \n",
              "\n",
              "   Team size**1 x 21-30**1 x Inaccurate requirements specifications and required the re-analysis of the software requirements**1  \\\n",
              "0                                                  0                                                                               \n",
              "1                                                  0                                                                               \n",
              "2                                                  0                                                                               \n",
              "3                                                  0                                                                               \n",
              "4                                                  0                                                                               \n",
              "\n",
              "   User resistance**1 x Project manager**1 x 21-30**1  \\\n",
              "0                                                0.0    \n",
              "1                                                0.0    \n",
              "2                                                0.0    \n",
              "3                                                0.0    \n",
              "4                                                0.0    \n",
              "\n",
              "   Development environment adequacy**1 x 21-30**1 x Inaccurate requirements specifications and required the re-analysis of the software requirements**1  \\\n",
              "0                                                  0                                                                                                      \n",
              "1                                                  0                                                                                                      \n",
              "2                                                  0                                                                                                      \n",
              "3                                                  0                                                                                                      \n",
              "4                                                  0                                                                                                      \n",
              "\n",
              "   Actual duration**1 x 21-30**1 x Inaccurate requirements specifications and required the re-analysis of the software requirements**1  \\\n",
              "0                                                  0                                                                                     \n",
              "1                                                  0                                                                                     \n",
              "2                                                  0                                                                                     \n",
              "3                                                  0                                                                                     \n",
              "4                                                  0                                                                                     \n",
              "\n",
              "   Requirment stability**1 x 21-30**1 x Inaccurate requirements specifications and required the re-analysis of the software requirements**1  \\\n",
              "0                                                0.0                                                                                          \n",
              "1                                                0.0                                                                                          \n",
              "2                                                0.0                                                                                          \n",
              "3                                                0.0                                                                                          \n",
              "4                                                0.0                                                                                          \n",
              "\n",
              "   Dedicated team members**1 x Technical stability**1 x Tool availability**1  \\\n",
              "0                                                 42                           \n",
              "1                                                 24                           \n",
              "2                                                 48                           \n",
              "3                                                 32                           \n",
              "4                                                 36                           \n",
              "\n",
              "   ...  \\\n",
              "0  ...   \n",
              "1  ...   \n",
              "2  ...   \n",
              "3  ...   \n",
              "4  ...   \n",
              "\n",
              "   Dedicated team members**1 x Actual duration**1 x Economic instability impact**1  \\\n",
              "0                                               18.0                                 \n",
              "1                                               27.0                                 \n",
              "2                                               60.0                                 \n",
              "3                                               24.0                                 \n",
              "4                                              648.0                                 \n",
              "\n",
              "   Technical stability**1 x 21-30**1 x Accurate requirements specifications used to develop the software system**1  \\\n",
              "0                                                  0                                                                 \n",
              "1                                                  0                                                                 \n",
              "2                                                  0                                                                 \n",
              "3                                                  0                                                                 \n",
              "4                                                  0                                                                 \n",
              "\n",
              "   Dedicated team members**1 x Actual duration**1 x Accurate requirements specifications used to develop the software system**1  \\\n",
              "0                                               18.0                                                                              \n",
              "1                                                0.0                                                                              \n",
              "2                                                0.0                                                                              \n",
              "3                                               24.0                                                                              \n",
              "4                                              216.0                                                                              \n",
              "\n",
              "   Dedicated team members**1 x Users stability**1 x 1-5**1  \\\n",
              "0                                                0.0         \n",
              "1                                                0.0         \n",
              "2                                                0.0         \n",
              "3                                                0.0         \n",
              "4                                                0.0         \n",
              "\n",
              "   Object points**1 x Project manager**1 x >500**1  \\\n",
              "0                                                0   \n",
              "1                                                0   \n",
              "2                                                0   \n",
              "3                                                0   \n",
              "4                                                0   \n",
              "\n",
              "   Team size**1 x Developer**1 x >500**1  \\\n",
              "0                                      6   \n",
              "1                                      0   \n",
              "2                                      0   \n",
              "3                                      0   \n",
              "4                                      0   \n",
              "\n",
              "   Dedicated team members**1 x Users stability**1 x Accurate requirements specifications used to develop the software system**1  \\\n",
              "0                                          11.333333                                                                              \n",
              "1                                           0.000000                                                                              \n",
              "2                                           0.000000                                                                              \n",
              "3                                          20.000000                                                                              \n",
              "4                                          17.000000                                                                              \n",
              "\n",
              "   Dedicated team members**1 x Team cohesion**1 x Developer incentives policy**1  \\\n",
              "0                                                 96                               \n",
              "1                                                108                               \n",
              "2                                                180                               \n",
              "3                                                 16                               \n",
              "4                                                 54                               \n",
              "\n",
              "   Requirment stability**1 x Tool availability**1 x 11-20**1  Actual effort  \n",
              "0                                           0.000000                 3168.0  \n",
              "1                                           0.000000                 1584.0  \n",
              "2                                           0.000000                 5280.0  \n",
              "3                                          10.031746                 5280.0  \n",
              "4                                          18.603175                38016.0  \n",
              "\n",
              "[5 rows x 44 columns]"
            ],
            "text/html": [
              "\n",
              "  <div id=\"df-9b5b59f4-5c6a-46ce-93fd-4d8cb319756b\">\n",
              "    <div class=\"colab-df-container\">\n",
              "      <div>\n",
              "<style scoped>\n",
              "    .dataframe tbody tr th:only-of-type {\n",
              "        vertical-align: middle;\n",
              "    }\n",
              "\n",
              "    .dataframe tbody tr th {\n",
              "        vertical-align: top;\n",
              "    }\n",
              "\n",
              "    .dataframe thead th {\n",
              "        text-align: right;\n",
              "    }\n",
              "</style>\n",
              "<table border=\"1\" class=\"dataframe\">\n",
              "  <thead>\n",
              "    <tr style=\"text-align: right;\">\n",
              "      <th></th>\n",
              "      <th>Unnamed: 0</th>\n",
              "      <th>Team size**1 x Actual duration**1</th>\n",
              "      <th>Dedicated team members**1 x Actual duration**1</th>\n",
              "      <th>Actual duration**1 x Development environment adequacy**1 x 11-20**1</th>\n",
              "      <th>Team size**1 x 21-30**1 x Inaccurate requirements specifications and required the re-analysis of the software requirements**1</th>\n",
              "      <th>User resistance**1 x Project manager**1 x 21-30**1</th>\n",
              "      <th>Development environment adequacy**1 x 21-30**1 x Inaccurate requirements specifications and required the re-analysis of the software requirements**1</th>\n",
              "      <th>Actual duration**1 x 21-30**1 x Inaccurate requirements specifications and required the re-analysis of the software requirements**1</th>\n",
              "      <th>Requirment stability**1 x 21-30**1 x Inaccurate requirements specifications and required the re-analysis of the software requirements**1</th>\n",
              "      <th>Dedicated team members**1 x Technical stability**1 x Tool availability**1</th>\n",
              "      <th>...</th>\n",
              "      <th>Dedicated team members**1 x Actual duration**1 x Economic instability impact**1</th>\n",
              "      <th>Technical stability**1 x 21-30**1 x Accurate requirements specifications used to develop the software system**1</th>\n",
              "      <th>Dedicated team members**1 x Actual duration**1 x Accurate requirements specifications used to develop the software system**1</th>\n",
              "      <th>Dedicated team members**1 x Users stability**1 x 1-5**1</th>\n",
              "      <th>Object points**1 x Project manager**1 x &gt;500**1</th>\n",
              "      <th>Team size**1 x Developer**1 x &gt;500**1</th>\n",
              "      <th>Dedicated team members**1 x Users stability**1 x Accurate requirements specifications used to develop the software system**1</th>\n",
              "      <th>Dedicated team members**1 x Team cohesion**1 x Developer incentives policy**1</th>\n",
              "      <th>Requirment stability**1 x Tool availability**1 x 11-20**1</th>\n",
              "      <th>Actual effort</th>\n",
              "    </tr>\n",
              "  </thead>\n",
              "  <tbody>\n",
              "    <tr>\n",
              "      <th>0</th>\n",
              "      <td>0</td>\n",
              "      <td>18.0</td>\n",
              "      <td>18.0</td>\n",
              "      <td>0</td>\n",
              "      <td>0</td>\n",
              "      <td>0.0</td>\n",
              "      <td>0</td>\n",
              "      <td>0</td>\n",
              "      <td>0.0</td>\n",
              "      <td>42</td>\n",
              "      <td>...</td>\n",
              "      <td>18.0</td>\n",
              "      <td>0</td>\n",
              "      <td>18.0</td>\n",
              "      <td>0.0</td>\n",
              "      <td>0</td>\n",
              "      <td>6</td>\n",
              "      <td>11.333333</td>\n",
              "      <td>96</td>\n",
              "      <td>0.000000</td>\n",
              "      <td>3168.0</td>\n",
              "    </tr>\n",
              "    <tr>\n",
              "      <th>1</th>\n",
              "      <td>1</td>\n",
              "      <td>9.0</td>\n",
              "      <td>9.0</td>\n",
              "      <td>0</td>\n",
              "      <td>0</td>\n",
              "      <td>0.0</td>\n",
              "      <td>0</td>\n",
              "      <td>0</td>\n",
              "      <td>0.0</td>\n",
              "      <td>24</td>\n",
              "      <td>...</td>\n",
              "      <td>27.0</td>\n",
              "      <td>0</td>\n",
              "      <td>0.0</td>\n",
              "      <td>0.0</td>\n",
              "      <td>0</td>\n",
              "      <td>0</td>\n",
              "      <td>0.000000</td>\n",
              "      <td>108</td>\n",
              "      <td>0.000000</td>\n",
              "      <td>1584.0</td>\n",
              "    </tr>\n",
              "    <tr>\n",
              "      <th>2</th>\n",
              "      <td>2</td>\n",
              "      <td>30.0</td>\n",
              "      <td>30.0</td>\n",
              "      <td>0</td>\n",
              "      <td>0</td>\n",
              "      <td>0.0</td>\n",
              "      <td>0</td>\n",
              "      <td>0</td>\n",
              "      <td>0.0</td>\n",
              "      <td>48</td>\n",
              "      <td>...</td>\n",
              "      <td>60.0</td>\n",
              "      <td>0</td>\n",
              "      <td>0.0</td>\n",
              "      <td>0.0</td>\n",
              "      <td>0</td>\n",
              "      <td>0</td>\n",
              "      <td>0.000000</td>\n",
              "      <td>180</td>\n",
              "      <td>0.000000</td>\n",
              "      <td>5280.0</td>\n",
              "    </tr>\n",
              "    <tr>\n",
              "      <th>3</th>\n",
              "      <td>3</td>\n",
              "      <td>36.0</td>\n",
              "      <td>24.0</td>\n",
              "      <td>6</td>\n",
              "      <td>0</td>\n",
              "      <td>0.0</td>\n",
              "      <td>0</td>\n",
              "      <td>0</td>\n",
              "      <td>0.0</td>\n",
              "      <td>32</td>\n",
              "      <td>...</td>\n",
              "      <td>24.0</td>\n",
              "      <td>0</td>\n",
              "      <td>24.0</td>\n",
              "      <td>0.0</td>\n",
              "      <td>0</td>\n",
              "      <td>0</td>\n",
              "      <td>20.000000</td>\n",
              "      <td>16</td>\n",
              "      <td>10.031746</td>\n",
              "      <td>5280.0</td>\n",
              "    </tr>\n",
              "    <tr>\n",
              "      <th>4</th>\n",
              "      <td>4</td>\n",
              "      <td>216.0</td>\n",
              "      <td>216.0</td>\n",
              "      <td>24</td>\n",
              "      <td>0</td>\n",
              "      <td>0.0</td>\n",
              "      <td>0</td>\n",
              "      <td>0</td>\n",
              "      <td>0.0</td>\n",
              "      <td>36</td>\n",
              "      <td>...</td>\n",
              "      <td>648.0</td>\n",
              "      <td>0</td>\n",
              "      <td>216.0</td>\n",
              "      <td>0.0</td>\n",
              "      <td>0</td>\n",
              "      <td>0</td>\n",
              "      <td>17.000000</td>\n",
              "      <td>54</td>\n",
              "      <td>18.603175</td>\n",
              "      <td>38016.0</td>\n",
              "    </tr>\n",
              "  </tbody>\n",
              "</table>\n",
              "<p>5 rows × 44 columns</p>\n",
              "</div>\n",
              "      <button class=\"colab-df-convert\" onclick=\"convertToInteractive('df-9b5b59f4-5c6a-46ce-93fd-4d8cb319756b')\"\n",
              "              title=\"Convert this dataframe to an interactive table.\"\n",
              "              style=\"display:none;\">\n",
              "        \n",
              "  <svg xmlns=\"http://www.w3.org/2000/svg\" height=\"24px\"viewBox=\"0 0 24 24\"\n",
              "       width=\"24px\">\n",
              "    <path d=\"M0 0h24v24H0V0z\" fill=\"none\"/>\n",
              "    <path d=\"M18.56 5.44l.94 2.06.94-2.06 2.06-.94-2.06-.94-.94-2.06-.94 2.06-2.06.94zm-11 1L8.5 8.5l.94-2.06 2.06-.94-2.06-.94L8.5 2.5l-.94 2.06-2.06.94zm10 10l.94 2.06.94-2.06 2.06-.94-2.06-.94-.94-2.06-.94 2.06-2.06.94z\"/><path d=\"M17.41 7.96l-1.37-1.37c-.4-.4-.92-.59-1.43-.59-.52 0-1.04.2-1.43.59L10.3 9.45l-7.72 7.72c-.78.78-.78 2.05 0 2.83L4 21.41c.39.39.9.59 1.41.59.51 0 1.02-.2 1.41-.59l7.78-7.78 2.81-2.81c.8-.78.8-2.07 0-2.86zM5.41 20L4 18.59l7.72-7.72 1.47 1.35L5.41 20z\"/>\n",
              "  </svg>\n",
              "      </button>\n",
              "      \n",
              "  <style>\n",
              "    .colab-df-container {\n",
              "      display:flex;\n",
              "      flex-wrap:wrap;\n",
              "      gap: 12px;\n",
              "    }\n",
              "\n",
              "    .colab-df-convert {\n",
              "      background-color: #E8F0FE;\n",
              "      border: none;\n",
              "      border-radius: 50%;\n",
              "      cursor: pointer;\n",
              "      display: none;\n",
              "      fill: #1967D2;\n",
              "      height: 32px;\n",
              "      padding: 0 0 0 0;\n",
              "      width: 32px;\n",
              "    }\n",
              "\n",
              "    .colab-df-convert:hover {\n",
              "      background-color: #E2EBFA;\n",
              "      box-shadow: 0px 1px 2px rgba(60, 64, 67, 0.3), 0px 1px 3px 1px rgba(60, 64, 67, 0.15);\n",
              "      fill: #174EA6;\n",
              "    }\n",
              "\n",
              "    [theme=dark] .colab-df-convert {\n",
              "      background-color: #3B4455;\n",
              "      fill: #D2E3FC;\n",
              "    }\n",
              "\n",
              "    [theme=dark] .colab-df-convert:hover {\n",
              "      background-color: #434B5C;\n",
              "      box-shadow: 0px 1px 3px 1px rgba(0, 0, 0, 0.15);\n",
              "      filter: drop-shadow(0px 1px 2px rgba(0, 0, 0, 0.3));\n",
              "      fill: #FFFFFF;\n",
              "    }\n",
              "  </style>\n",
              "\n",
              "      <script>\n",
              "        const buttonEl =\n",
              "          document.querySelector('#df-9b5b59f4-5c6a-46ce-93fd-4d8cb319756b button.colab-df-convert');\n",
              "        buttonEl.style.display =\n",
              "          google.colab.kernel.accessAllowed ? 'block' : 'none';\n",
              "\n",
              "        async function convertToInteractive(key) {\n",
              "          const element = document.querySelector('#df-9b5b59f4-5c6a-46ce-93fd-4d8cb319756b');\n",
              "          const dataTable =\n",
              "            await google.colab.kernel.invokeFunction('convertToInteractive',\n",
              "                                                     [key], {});\n",
              "          if (!dataTable) return;\n",
              "\n",
              "          const docLinkHtml = 'Like what you see? Visit the ' +\n",
              "            '<a target=\"_blank\" href=https://colab.research.google.com/notebooks/data_table.ipynb>data table notebook</a>'\n",
              "            + ' to learn more about interactive tables.';\n",
              "          element.innerHTML = '';\n",
              "          dataTable['output_type'] = 'display_data';\n",
              "          await google.colab.output.renderOutput(dataTable, element);\n",
              "          const docLink = document.createElement('div');\n",
              "          docLink.innerHTML = docLinkHtml;\n",
              "          element.appendChild(docLink);\n",
              "        }\n",
              "      </script>\n",
              "    </div>\n",
              "  </div>\n",
              "  "
            ]
          },
          "metadata": {},
          "execution_count": 5
        }
      ]
    },
    {
      "cell_type": "code",
      "source": [
        "target = data['Actual effort']\n",
        "X = data.drop(['Unnamed: 0', 'Actual effort'], axis = 1)"
      ],
      "metadata": {
        "id": "S2rCML7GTRYC"
      },
      "execution_count": 6,
      "outputs": []
    },
    {
      "cell_type": "markdown",
      "source": [
        "# Linear Regression Model"
      ],
      "metadata": {
        "id": "doBQ6FmthvTV"
      }
    },
    {
      "cell_type": "code",
      "source": [
        "from sklearn.linear_model import LinearRegression"
      ],
      "metadata": {
        "id": "N9MB8dk6jb8X"
      },
      "execution_count": 7,
      "outputs": []
    },
    {
      "cell_type": "code",
      "source": [
        "X_train, X_test, y_train, y_test = train_test_split(X, target, test_size = 0.3, random_state = 0)"
      ],
      "metadata": {
        "id": "20OJ6qQPZbE2"
      },
      "execution_count": 8,
      "outputs": []
    },
    {
      "cell_type": "code",
      "source": [
        "X_train, X_test = pd.DataFrame(X_train, columns = X.columns), pd.DataFrame(X_test, columns = X.columns)"
      ],
      "metadata": {
        "id": "l0lSdZX9i8HB"
      },
      "execution_count": 9,
      "outputs": []
    },
    {
      "cell_type": "code",
      "source": [
        "scaler, X_train = dp.scaling_numerical_data(X_train.columns, X_train)\n",
        "X_test = scaler.transform(X_test)"
      ],
      "metadata": {
        "id": "G2N70Vmkirqz"
      },
      "execution_count": 10,
      "outputs": []
    },
    {
      "cell_type": "markdown",
      "source": [
        "## Cross Validation score"
      ],
      "metadata": {
        "id": "yq2cRQjfjkUh"
      }
    },
    {
      "cell_type": "markdown",
      "source": [
        "#### 10k fold cross validation"
      ],
      "metadata": {
        "id": "hZ_rJ0u5kZrT"
      }
    },
    {
      "cell_type": "code",
      "source": [
        "print('10k fold cross validation r2 score: {}'.format(cross_val_score(LinearRegression(), X_train, y_train, cv = 10).mean()))\n",
        "print('10k fold cross validation mean absolute error: {}'.format(np.abs(cross_val_score(LinearRegression(), X_train, y_train, cv = 10, scoring = 'neg_mean_absolute_error').mean())))"
      ],
      "metadata": {
        "colab": {
          "base_uri": "https://localhost:8080/"
        },
        "id": "q8IFGIYjiH9b",
        "outputId": "3f20a34e-4bdc-4bcf-af5a-2326d7d368e0"
      },
      "execution_count": 15,
      "outputs": [
        {
          "output_type": "stream",
          "name": "stdout",
          "text": [
            "10k fold cross validation r2 score: 0.9974152342192895\n",
            "10k fold cross validation mean absolute error: 264.1351413536756\n"
          ]
        }
      ]
    },
    {
      "cell_type": "markdown",
      "source": [
        "#### 5k fold cross validation"
      ],
      "metadata": {
        "id": "vDi7jat9klUX"
      }
    },
    {
      "cell_type": "code",
      "source": [
        "print('10k fold cross validation r2 score: {}'.format(cross_val_score(LinearRegression(), X_train, y_train, cv = 5).mean()))\n",
        "print('10k fold cross validation mean absolute error: {}'.format(np.abs(cross_val_score(LinearRegression(), X_train, y_train, cv = 5, scoring = 'neg_mean_absolute_error').mean())))"
      ],
      "metadata": {
        "colab": {
          "base_uri": "https://localhost:8080/"
        },
        "id": "BBJcR3-1knOM",
        "outputId": "b94994e3-c14e-434b-b353-1b5f291f2415"
      },
      "execution_count": 16,
      "outputs": [
        {
          "output_type": "stream",
          "name": "stdout",
          "text": [
            "10k fold cross validation r2 score: 0.9963913249731297\n",
            "10k fold cross validation mean absolute error: 334.3310334423034\n"
          ]
        }
      ]
    },
    {
      "cell_type": "code",
      "source": [
        "linear_model = LinearRegression()\n",
        "linear_model.fit(X_train, y_train)\n",
        "linear_model.score(X_train, y_train), linear_model.score(X_test, y_test)"
      ],
      "metadata": {
        "colab": {
          "base_uri": "https://localhost:8080/"
        },
        "id": "J91VOkv1jrJk",
        "outputId": "f09b46a9-4368-4280-dca2-2cc7588416b7"
      },
      "execution_count": null,
      "outputs": [
        {
          "output_type": "stream",
          "name": "stderr",
          "text": [
            "/usr/local/lib/python3.7/dist-packages/sklearn/base.py:451: UserWarning: X does not have valid feature names, but LinearRegression was fitted with feature names\n",
            "  \"X does not have valid feature names, but\"\n"
          ]
        },
        {
          "output_type": "execute_result",
          "data": {
            "text/plain": [
              "(0.9998300461183868, 0.9961155342084607)"
            ]
          },
          "metadata": {},
          "execution_count": 11
        }
      ]
    },
    {
      "cell_type": "markdown",
      "source": [
        "#### Metrics"
      ],
      "metadata": {
        "id": "GnwKrcVXkvyu"
      }
    },
    {
      "cell_type": "code",
      "source": [
        "train_predictions = linear_model.predict(X_train)\n",
        "test_predictions = linear_model.predict(X_test)"
      ],
      "metadata": {
        "colab": {
          "base_uri": "https://localhost:8080/"
        },
        "id": "Lh2GIyvxlnwL",
        "outputId": "0235cb50-fa00-4033-e114-692c5348aed5"
      },
      "execution_count": null,
      "outputs": [
        {
          "output_type": "stream",
          "name": "stderr",
          "text": [
            "/usr/local/lib/python3.7/dist-packages/sklearn/base.py:451: UserWarning: X does not have valid feature names, but LinearRegression was fitted with feature names\n",
            "  \"X does not have valid feature names, but\"\n"
          ]
        }
      ]
    },
    {
      "cell_type": "code",
      "source": [
        "metrics.scores_DataFrame(y_train, y_test, train_predictions, test_predictions)"
      ],
      "metadata": {
        "colab": {
          "base_uri": "https://localhost:8080/",
          "height": 175
        },
        "id": "dNpu50K9pbdp",
        "outputId": "0a35b66f-deb2-4678-919b-67acc4b30365"
      },
      "execution_count": null,
      "outputs": [
        {
          "output_type": "execute_result",
          "data": {
            "text/plain": [
              "            Train score  Test score\n",
              "r2_score        0.99983    0.996116\n",
              "MAE          103.696691  376.529537\n",
              "MMRE           0.048207    0.083299\n",
              "PRED (0.25)    0.964286    0.888889"
            ],
            "text/html": [
              "\n",
              "  <div id=\"df-c7d73498-7250-4e40-8b7e-8365c49e091a\">\n",
              "    <div class=\"colab-df-container\">\n",
              "      <div>\n",
              "<style scoped>\n",
              "    .dataframe tbody tr th:only-of-type {\n",
              "        vertical-align: middle;\n",
              "    }\n",
              "\n",
              "    .dataframe tbody tr th {\n",
              "        vertical-align: top;\n",
              "    }\n",
              "\n",
              "    .dataframe thead th {\n",
              "        text-align: right;\n",
              "    }\n",
              "</style>\n",
              "<table border=\"1\" class=\"dataframe\">\n",
              "  <thead>\n",
              "    <tr style=\"text-align: right;\">\n",
              "      <th></th>\n",
              "      <th>Train score</th>\n",
              "      <th>Test score</th>\n",
              "    </tr>\n",
              "  </thead>\n",
              "  <tbody>\n",
              "    <tr>\n",
              "      <th>r2_score</th>\n",
              "      <td>0.99983</td>\n",
              "      <td>0.996116</td>\n",
              "    </tr>\n",
              "    <tr>\n",
              "      <th>MAE</th>\n",
              "      <td>103.696691</td>\n",
              "      <td>376.529537</td>\n",
              "    </tr>\n",
              "    <tr>\n",
              "      <th>MMRE</th>\n",
              "      <td>0.048207</td>\n",
              "      <td>0.083299</td>\n",
              "    </tr>\n",
              "    <tr>\n",
              "      <th>PRED (0.25)</th>\n",
              "      <td>0.964286</td>\n",
              "      <td>0.888889</td>\n",
              "    </tr>\n",
              "  </tbody>\n",
              "</table>\n",
              "</div>\n",
              "      <button class=\"colab-df-convert\" onclick=\"convertToInteractive('df-c7d73498-7250-4e40-8b7e-8365c49e091a')\"\n",
              "              title=\"Convert this dataframe to an interactive table.\"\n",
              "              style=\"display:none;\">\n",
              "        \n",
              "  <svg xmlns=\"http://www.w3.org/2000/svg\" height=\"24px\"viewBox=\"0 0 24 24\"\n",
              "       width=\"24px\">\n",
              "    <path d=\"M0 0h24v24H0V0z\" fill=\"none\"/>\n",
              "    <path d=\"M18.56 5.44l.94 2.06.94-2.06 2.06-.94-2.06-.94-.94-2.06-.94 2.06-2.06.94zm-11 1L8.5 8.5l.94-2.06 2.06-.94-2.06-.94L8.5 2.5l-.94 2.06-2.06.94zm10 10l.94 2.06.94-2.06 2.06-.94-2.06-.94-.94-2.06-.94 2.06-2.06.94z\"/><path d=\"M17.41 7.96l-1.37-1.37c-.4-.4-.92-.59-1.43-.59-.52 0-1.04.2-1.43.59L10.3 9.45l-7.72 7.72c-.78.78-.78 2.05 0 2.83L4 21.41c.39.39.9.59 1.41.59.51 0 1.02-.2 1.41-.59l7.78-7.78 2.81-2.81c.8-.78.8-2.07 0-2.86zM5.41 20L4 18.59l7.72-7.72 1.47 1.35L5.41 20z\"/>\n",
              "  </svg>\n",
              "      </button>\n",
              "      \n",
              "  <style>\n",
              "    .colab-df-container {\n",
              "      display:flex;\n",
              "      flex-wrap:wrap;\n",
              "      gap: 12px;\n",
              "    }\n",
              "\n",
              "    .colab-df-convert {\n",
              "      background-color: #E8F0FE;\n",
              "      border: none;\n",
              "      border-radius: 50%;\n",
              "      cursor: pointer;\n",
              "      display: none;\n",
              "      fill: #1967D2;\n",
              "      height: 32px;\n",
              "      padding: 0 0 0 0;\n",
              "      width: 32px;\n",
              "    }\n",
              "\n",
              "    .colab-df-convert:hover {\n",
              "      background-color: #E2EBFA;\n",
              "      box-shadow: 0px 1px 2px rgba(60, 64, 67, 0.3), 0px 1px 3px 1px rgba(60, 64, 67, 0.15);\n",
              "      fill: #174EA6;\n",
              "    }\n",
              "\n",
              "    [theme=dark] .colab-df-convert {\n",
              "      background-color: #3B4455;\n",
              "      fill: #D2E3FC;\n",
              "    }\n",
              "\n",
              "    [theme=dark] .colab-df-convert:hover {\n",
              "      background-color: #434B5C;\n",
              "      box-shadow: 0px 1px 3px 1px rgba(0, 0, 0, 0.15);\n",
              "      filter: drop-shadow(0px 1px 2px rgba(0, 0, 0, 0.3));\n",
              "      fill: #FFFFFF;\n",
              "    }\n",
              "  </style>\n",
              "\n",
              "      <script>\n",
              "        const buttonEl =\n",
              "          document.querySelector('#df-c7d73498-7250-4e40-8b7e-8365c49e091a button.colab-df-convert');\n",
              "        buttonEl.style.display =\n",
              "          google.colab.kernel.accessAllowed ? 'block' : 'none';\n",
              "\n",
              "        async function convertToInteractive(key) {\n",
              "          const element = document.querySelector('#df-c7d73498-7250-4e40-8b7e-8365c49e091a');\n",
              "          const dataTable =\n",
              "            await google.colab.kernel.invokeFunction('convertToInteractive',\n",
              "                                                     [key], {});\n",
              "          if (!dataTable) return;\n",
              "\n",
              "          const docLinkHtml = 'Like what you see? Visit the ' +\n",
              "            '<a target=\"_blank\" href=https://colab.research.google.com/notebooks/data_table.ipynb>data table notebook</a>'\n",
              "            + ' to learn more about interactive tables.';\n",
              "          element.innerHTML = '';\n",
              "          dataTable['output_type'] = 'display_data';\n",
              "          await google.colab.output.renderOutput(dataTable, element);\n",
              "          const docLink = document.createElement('div');\n",
              "          docLink.innerHTML = docLinkHtml;\n",
              "          element.appendChild(docLink);\n",
              "        }\n",
              "      </script>\n",
              "    </div>\n",
              "  </div>\n",
              "  "
            ]
          },
          "metadata": {},
          "execution_count": 13
        }
      ]
    },
    {
      "cell_type": "code",
      "source": [
        "metrics.plot_predictions(y_train, train_predictions, (20, 10), 'Train set')\n",
        "metrics.plot_predictions(y_test, test_predictions, (20, 10), 'Test set')"
      ],
      "metadata": {
        "colab": {
          "base_uri": "https://localhost:8080/",
          "height": 1000
        },
        "id": "MqLYuTGBlNiu",
        "outputId": "a7b3856d-c7cb-4c50-f383-ef4ad8fa5ee3"
      },
      "execution_count": null,
      "outputs": [
        {
          "output_type": "stream",
          "name": "stderr",
          "text": [
            "/usr/local/lib/python3.7/dist-packages/seaborn/distributions.py:2619: FutureWarning: `distplot` is a deprecated function and will be removed in a future version. Please adapt your code to use either `displot` (a figure-level function with similar flexibility) or `histplot` (an axes-level function for histograms).\n",
            "  warnings.warn(msg, FutureWarning)\n",
            "No handles with labels found to put in legend.\n"
          ]
        },
        {
          "output_type": "display_data",
          "data": {
            "text/plain": [
              "<Figure size 1440x720 with 2 Axes>"
            ],
            "image/png": "[encoded data removed]"
          },
          "metadata": {
            "needs_background": "light"
          }
        },
        {
          "output_type": "stream",
          "name": "stderr",
          "text": [
            "/usr/local/lib/python3.7/dist-packages/seaborn/distributions.py:2619: FutureWarning: `distplot` is a deprecated function and will be removed in a future version. Please adapt your code to use either `displot` (a figure-level function with similar flexibility) or `histplot` (an axes-level function for histograms).\n",
            "  warnings.warn(msg, FutureWarning)\n",
            "No handles with labels found to put in legend.\n"
          ]
        },
        {
          "output_type": "display_data",
          "data": {
            "text/plain": [
              "<Figure size 1440x720 with 2 Axes>"
            ],
            "image/png": "[encoded data removed]"
          },
          "metadata": {
            "needs_background": "light"
          }
        }
      ]
    },
    {
      "cell_type": "markdown",
      "source": [
        "# ElasticNet\n",
        "Optimize LinearRegression paramaters with GA-Algorithms\n",
        "\n",
        "LinearRegression Scores: (0.9998300461183868, 0.9961155342084607)"
      ],
      "metadata": {
        "id": "vhr5yVcqsUTe"
      }
    },
    {
      "cell_type": "code",
      "source": [
        "from sklearn.linear_model import ElasticNet"
      ],
      "metadata": {
        "id": "myCeLL5qqfg1"
      },
      "execution_count": null,
      "outputs": []
    },
    {
      "cell_type": "code",
      "source": [
        "params = {'alpha': np.linspace(0, 1, 100), 'l1_ratio': np.linspace(0, 1, 100), 'tol': [0.00001, 0.0001, 0.001, 0.01, 0.1], 'random_state': [0], 'max_iter': [10, 100, 1000, 10000], 'selection': ['cyclic', 'random']}"
      ],
      "metadata": {
        "id": "QTuq0SDitAOU"
      },
      "execution_count": null,
      "outputs": []
    },
    {
      "cell_type": "code",
      "source": [
        "ga_alg = ga.GeneticAlgorithm(ElasticNet(), params, X_train, y_train, 100, 1, 100)"
      ],
      "metadata": {
        "id": "wzSGPDCWsibg"
      },
      "execution_count": null,
      "outputs": []
    },
    {
      "cell_type": "code",
      "source": [
        "populations = ga_alg.evolution()"
      ],
      "metadata": {
        "id": "4WTWExpG4wAV"
      },
      "execution_count": null,
      "outputs": []
    },
    {
      "cell_type": "code",
      "source": [
        "elasticNet_model = ElasticNet(**populations[0])\n",
        "elasticNet_model.fit(X_train, y_train)"
      ],
      "metadata": {
        "colab": {
          "base_uri": "https://localhost:8080/"
        },
        "id": "RETZne7h5BlX",
        "outputId": "79a6341e-fb05-4967-f6b0-d41f912625ed"
      },
      "execution_count": null,
      "outputs": [
        {
          "output_type": "execute_result",
          "data": {
            "text/plain": [
              "ElasticNet(alpha=0.18181818181818182, l1_ratio=0.05050505050505051,\n",
              "           max_iter=10000, random_state=0, tol=0.1)"
            ]
          },
          "metadata": {},
          "execution_count": 38
        }
      ]
    },
    {
      "cell_type": "code",
      "source": [
        "train_predictions = elasticNet_model.predict(X_train)\n",
        "test_predictions = elasticNet_model.predict(X_test)"
      ],
      "metadata": {
        "colab": {
          "base_uri": "https://localhost:8080/"
        },
        "id": "vkoYgJhP5M6l",
        "outputId": "25fc55c4-11c8-4ea0-96e7-a9f6feeef1ee"
      },
      "execution_count": null,
      "outputs": [
        {
          "output_type": "stream",
          "name": "stderr",
          "text": [
            "/usr/local/lib/python3.7/dist-packages/sklearn/base.py:451: UserWarning: X does not have valid feature names, but ElasticNet was fitted with feature names\n",
            "  \"X does not have valid feature names, but\"\n"
          ]
        }
      ]
    },
    {
      "cell_type": "code",
      "source": [
        "metrics.scores_DataFrame(y_train, y_test, train_predictions, test_predictions)"
      ],
      "metadata": {
        "colab": {
          "base_uri": "https://localhost:8080/",
          "height": 175
        },
        "id": "IfQyJj646G6O",
        "outputId": "67bca91b-6cc8-47c9-eb77-9c123c8e5289"
      },
      "execution_count": null,
      "outputs": [
        {
          "output_type": "execute_result",
          "data": {
            "text/plain": [
              "            Train score   Test score\n",
              "r2_score       0.988808     0.944757\n",
              "MAE          907.244148  1664.367683\n",
              "MMRE             0.2367     0.269205\n",
              "PRED (0.25)    0.714286     0.666667"
            ],
            "text/html": [
              "\n",
              "  <div id=\"df-4dbcc73d-62d6-4485-abcc-bf2dc8a92ae3\">\n",
              "    <div class=\"colab-df-container\">\n",
              "      <div>\n",
              "<style scoped>\n",
              "    .dataframe tbody tr th:only-of-type {\n",
              "        vertical-align: middle;\n",
              "    }\n",
              "\n",
              "    .dataframe tbody tr th {\n",
              "        vertical-align: top;\n",
              "    }\n",
              "\n",
              "    .dataframe thead th {\n",
              "        text-align: right;\n",
              "    }\n",
              "</style>\n",
              "<table border=\"1\" class=\"dataframe\">\n",
              "  <thead>\n",
              "    <tr style=\"text-align: right;\">\n",
              "      <th></th>\n",
              "      <th>Train score</th>\n",
              "      <th>Test score</th>\n",
              "    </tr>\n",
              "  </thead>\n",
              "  <tbody>\n",
              "    <tr>\n",
              "      <th>r2_score</th>\n",
              "      <td>0.988808</td>\n",
              "      <td>0.944757</td>\n",
              "    </tr>\n",
              "    <tr>\n",
              "      <th>MAE</th>\n",
              "      <td>907.244148</td>\n",
              "      <td>1664.367683</td>\n",
              "    </tr>\n",
              "    <tr>\n",
              "      <th>MMRE</th>\n",
              "      <td>0.2367</td>\n",
              "      <td>0.269205</td>\n",
              "    </tr>\n",
              "    <tr>\n",
              "      <th>PRED (0.25)</th>\n",
              "      <td>0.714286</td>\n",
              "      <td>0.666667</td>\n",
              "    </tr>\n",
              "  </tbody>\n",
              "</table>\n",
              "</div>\n",
              "      <button class=\"colab-df-convert\" onclick=\"convertToInteractive('df-4dbcc73d-62d6-4485-abcc-bf2dc8a92ae3')\"\n",
              "              title=\"Convert this dataframe to an interactive table.\"\n",
              "              style=\"display:none;\">\n",
              "        \n",
              "  <svg xmlns=\"http://www.w3.org/2000/svg\" height=\"24px\"viewBox=\"0 0 24 24\"\n",
              "       width=\"24px\">\n",
              "    <path d=\"M0 0h24v24H0V0z\" fill=\"none\"/>\n",
              "    <path d=\"M18.56 5.44l.94 2.06.94-2.06 2.06-.94-2.06-.94-.94-2.06-.94 2.06-2.06.94zm-11 1L8.5 8.5l.94-2.06 2.06-.94-2.06-.94L8.5 2.5l-.94 2.06-2.06.94zm10 10l.94 2.06.94-2.06 2.06-.94-2.06-.94-.94-2.06-.94 2.06-2.06.94z\"/><path d=\"M17.41 7.96l-1.37-1.37c-.4-.4-.92-.59-1.43-.59-.52 0-1.04.2-1.43.59L10.3 9.45l-7.72 7.72c-.78.78-.78 2.05 0 2.83L4 21.41c.39.39.9.59 1.41.59.51 0 1.02-.2 1.41-.59l7.78-7.78 2.81-2.81c.8-.78.8-2.07 0-2.86zM5.41 20L4 18.59l7.72-7.72 1.47 1.35L5.41 20z\"/>\n",
              "  </svg>\n",
              "      </button>\n",
              "      \n",
              "  <style>\n",
              "    .colab-df-container {\n",
              "      display:flex;\n",
              "      flex-wrap:wrap;\n",
              "      gap: 12px;\n",
              "    }\n",
              "\n",
              "    .colab-df-convert {\n",
              "      background-color: #E8F0FE;\n",
              "      border: none;\n",
              "      border-radius: 50%;\n",
              "      cursor: pointer;\n",
              "      display: none;\n",
              "      fill: #1967D2;\n",
              "      height: 32px;\n",
              "      padding: 0 0 0 0;\n",
              "      width: 32px;\n",
              "    }\n",
              "\n",
              "    .colab-df-convert:hover {\n",
              "      background-color: #E2EBFA;\n",
              "      box-shadow: 0px 1px 2px rgba(60, 64, 67, 0.3), 0px 1px 3px 1px rgba(60, 64, 67, 0.15);\n",
              "      fill: #174EA6;\n",
              "    }\n",
              "\n",
              "    [theme=dark] .colab-df-convert {\n",
              "      background-color: #3B4455;\n",
              "      fill: #D2E3FC;\n",
              "    }\n",
              "\n",
              "    [theme=dark] .colab-df-convert:hover {\n",
              "      background-color: #434B5C;\n",
              "      box-shadow: 0px 1px 3px 1px rgba(0, 0, 0, 0.15);\n",
              "      filter: drop-shadow(0px 1px 2px rgba(0, 0, 0, 0.3));\n",
              "      fill: #FFFFFF;\n",
              "    }\n",
              "  </style>\n",
              "\n",
              "      <script>\n",
              "        const buttonEl =\n",
              "          document.querySelector('#df-4dbcc73d-62d6-4485-abcc-bf2dc8a92ae3 button.colab-df-convert');\n",
              "        buttonEl.style.display =\n",
              "          google.colab.kernel.accessAllowed ? 'block' : 'none';\n",
              "\n",
              "        async function convertToInteractive(key) {\n",
              "          const element = document.querySelector('#df-4dbcc73d-62d6-4485-abcc-bf2dc8a92ae3');\n",
              "          const dataTable =\n",
              "            await google.colab.kernel.invokeFunction('convertToInteractive',\n",
              "                                                     [key], {});\n",
              "          if (!dataTable) return;\n",
              "\n",
              "          const docLinkHtml = 'Like what you see? Visit the ' +\n",
              "            '<a target=\"_blank\" href=https://colab.research.google.com/notebooks/data_table.ipynb>data table notebook</a>'\n",
              "            + ' to learn more about interactive tables.';\n",
              "          element.innerHTML = '';\n",
              "          dataTable['output_type'] = 'display_data';\n",
              "          await google.colab.output.renderOutput(dataTable, element);\n",
              "          const docLink = document.createElement('div');\n",
              "          docLink.innerHTML = docLinkHtml;\n",
              "          element.appendChild(docLink);\n",
              "        }\n",
              "      </script>\n",
              "    </div>\n",
              "  </div>\n",
              "  "
            ]
          },
          "metadata": {},
          "execution_count": 35
        }
      ]
    },
    {
      "cell_type": "code",
      "source": [
        "pop = {'alpha': 0.6,\n",
        " 'l1_ratio': 1.0,\n",
        " 'max_iter': 10000,\n",
        " 'random_state': 0,\n",
        " 'selection': 'cyclic',\n",
        " 'tol': 0.0001}\n",
        "elasticNet_model = ElasticNet(**pop)\n",
        "elasticNet_model.fit(X_train, y_train)\n",
        "elasticNet_model.score(X_train, y_train), elasticNet_model.score(X_test, y_test)"
      ],
      "metadata": {
        "colab": {
          "base_uri": "https://localhost:8080/"
        },
        "id": "9WTYH9-57bIO",
        "outputId": "fbac52d9-b0df-4371-eecc-83f47417a0f7"
      },
      "execution_count": null,
      "outputs": [
        {
          "output_type": "stream",
          "name": "stderr",
          "text": [
            "/usr/local/lib/python3.7/dist-packages/sklearn/base.py:451: UserWarning: X does not have valid feature names, but ElasticNet was fitted with feature names\n",
            "  \"X does not have valid feature names, but\"\n"
          ]
        },
        {
          "output_type": "execute_result",
          "data": {
            "text/plain": [
              "(0.9998252373066874, 0.9961440690747784)"
            ]
          },
          "metadata": {},
          "execution_count": 39
        }
      ]
    }
  ]
}