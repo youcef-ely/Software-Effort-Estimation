{
  "nbformat": 4,
  "nbformat_minor": 0,
  "metadata": {
    "colab": {
      "name": "Forward Selection.ipynb",
      "provenance": [],
      "collapsed_sections": []
    },
    "kernelspec": {
      "name": "python3",
      "display_name": "Python 3"
    },
    "language_info": {
      "name": "python"
    }
  },
  "cells": [
    {
      "cell_type": "code",
      "execution_count": null,
      "metadata": {
        "colab": {
          "base_uri": "https://localhost:8080/"
        },
        "id": "Zc3nRNz6q6MW",
        "outputId": "8cdbb6af-2001-4bb7-aeb9-025e1bb8a91b"
      },
      "outputs": [
        {
          "output_type": "stream",
          "name": "stderr",
          "text": [
            "/usr/local/lib/python3.7/dist-packages/statsmodels/tools/_testing.py:19: FutureWarning: pandas.util.testing is deprecated. Use the functions in the public API at pandas.testing instead.\n",
            "  import pandas.util.testing as tm\n"
          ]
        }
      ],
      "source": [
        "import sys\n",
        "import os\n",
        "\n",
        "module_path = os.path.abspath(os.path.join('..'))\n",
        "if module_path not in sys.path:\n",
        "    sys.path.append(module_path+\"\\\\src\")\n",
        "    sys.path.append(module_path+\"\\\\References\")\n",
        "\n",
        "\n",
        "import forward_selection as fs\n",
        "import pandas as pd"
      ]
    },
    {
      "cell_type": "code",
      "source": [
        "data = pd.read_excel('/content/preprocessed_data.xlsx')"
      ],
      "metadata": {
        "id": "bG9EP8y5rG2T"
      },
      "execution_count": null,
      "outputs": []
    },
    {
      "cell_type": "code",
      "source": [
        "data.head()"
      ],
      "metadata": {
        "colab": {
          "base_uri": "https://localhost:8080/",
          "height": 473
        },
        "id": "JWUBcTt--h00",
        "outputId": "ed6b2099-ee93-47e4-dea7-dabc975dab8b"
      },
      "execution_count": null,
      "outputs": [
        {
          "output_type": "execute_result",
          "data": {
            "text/plain": [
              "   Unnamed: 0  Constant Term  Actual duration**1  Object points**1  \\\n",
              "0           0              1                 3.0               100   \n",
              "1           1              1                 3.0                19   \n",
              "2           2              1                 5.0                64   \n",
              "3           3              1                 6.0               246   \n",
              "4           4              1                24.0               420   \n",
              "\n",
              "   Contract maturity**1  Economic instability impact**1  \\\n",
              "0                     8                               1   \n",
              "1                     4                               3   \n",
              "2                     4                               2   \n",
              "3                     2                               1   \n",
              "4                     3                               3   \n",
              "\n",
              "   Developer incentives policy**1  User resistance**1  Users stability**1  \\\n",
              "0                               8                1.75            1.888889   \n",
              "1                               6                2.50            1.888889   \n",
              "2                               6                2.00            1.888889   \n",
              "3                               4                3.25            5.000000   \n",
              "4                               3                2.75            1.888889   \n",
              "\n",
              "   Requirment stability**1  ...  New software development**1 x 51-100**2  \\\n",
              "0                 2.587302  ...                                        0   \n",
              "1                 2.904762  ...                                        0   \n",
              "2                 1.000000  ...                                        0   \n",
              "3                 2.507937  ...                                        0   \n",
              "4                 4.650794  ...                                        0   \n",
              "\n",
              "   New software development**1 x 6-10**1 x Inaccurate requirements specifications and required re-programming the software system**1  \\\n",
              "0                                                  0                                                                                   \n",
              "1                                                  0                                                                                   \n",
              "2                                                  0                                                                                   \n",
              "3                                                  0                                                                                   \n",
              "4                                                  0                                                                                   \n",
              "\n",
              "   New software development**1 x >500**1 x Accurate requirements specifications used to develop the software system**1  \\\n",
              "0                                                  1                                                                     \n",
              "1                                                  0                                                                     \n",
              "2                                                  0                                                                     \n",
              "3                                                  0                                                                     \n",
              "4                                                  0                                                                     \n",
              "\n",
              "   New software development**1 x >500**1 x Inaccurate requirements specifications and required re-programming the software system**1  \\\n",
              "0                                                  0                                                                                   \n",
              "1                                                  0                                                                                   \n",
              "2                                                  0                                                                                   \n",
              "3                                                  0                                                                                   \n",
              "4                                                  0                                                                                   \n",
              "\n",
              "   Upgrading existing software**1 x >500**1 x Accurate requirements specifications used to develop the software system**1  \\\n",
              "0                                                  0                                                                        \n",
              "1                                                  0                                                                        \n",
              "2                                                  0                                                                        \n",
              "3                                                  0                                                                        \n",
              "4                                                  0                                                                        \n",
              "\n",
              "   11-20**1 x Inaccurate requirements specifications and required the re-design of the software system**2  \\\n",
              "0                                                  0                                                        \n",
              "1                                                  0                                                        \n",
              "2                                                  0                                                        \n",
              "3                                                  0                                                        \n",
              "4                                                  0                                                        \n",
              "\n",
              "   151-200**1 x Accurate requirements specifications used to develop the software system**2  \\\n",
              "0                                                  0                                          \n",
              "1                                                  0                                          \n",
              "2                                                  0                                          \n",
              "3                                                  0                                          \n",
              "4                                                  0                                          \n",
              "\n",
              "   6-10**2 x Accurate requirements specifications used to develop the software system**1  \\\n",
              "0                                                  0                                       \n",
              "1                                                  0                                       \n",
              "2                                                  0                                       \n",
              "3                                                  0                                       \n",
              "4                                                  0                                       \n",
              "\n",
              "   >500**2 x Inaccurate requirements specifications and required the re-design of the software system**1  \\\n",
              "0                                                  0                                                       \n",
              "1                                                  0                                                       \n",
              "2                                                  0                                                       \n",
              "3                                                  0                                                       \n",
              "4                                                  0                                                       \n",
              "\n",
              "   Actual effort  \n",
              "0         3168.0  \n",
              "1         1584.0  \n",
              "2         5280.0  \n",
              "3         5280.0  \n",
              "4        38016.0  \n",
              "\n",
              "[5 rows x 4703 columns]"
            ],
            "text/html": [
              "\n",
              "  <div id=\"df-2eeebd88-2bce-4195-93f2-6935c0027506\">\n",
              "    <div class=\"colab-df-container\">\n",
              "      <div>\n",
              "<style scoped>\n",
              "    .dataframe tbody tr th:only-of-type {\n",
              "        vertical-align: middle;\n",
              "    }\n",
              "\n",
              "    .dataframe tbody tr th {\n",
              "        vertical-align: top;\n",
              "    }\n",
              "\n",
              "    .dataframe thead th {\n",
              "        text-align: right;\n",
              "    }\n",
              "</style>\n",
              "<table border=\"1\" class=\"dataframe\">\n",
              "  <thead>\n",
              "    <tr style=\"text-align: right;\">\n",
              "      <th></th>\n",
              "      <th>Unnamed: 0</th>\n",
              "      <th>Constant Term</th>\n",
              "      <th>Actual duration**1</th>\n",
              "      <th>Object points**1</th>\n",
              "      <th>Contract maturity**1</th>\n",
              "      <th>Economic instability impact**1</th>\n",
              "      <th>Developer incentives policy**1</th>\n",
              "      <th>User resistance**1</th>\n",
              "      <th>Users stability**1</th>\n",
              "      <th>Requirment stability**1</th>\n",
              "      <th>...</th>\n",
              "      <th>New software development**1 x 51-100**2</th>\n",
              "      <th>New software development**1 x 6-10**1 x Inaccurate requirements specifications and required re-programming the software system**1</th>\n",
              "      <th>New software development**1 x &gt;500**1 x Accurate requirements specifications used to develop the software system**1</th>\n",
              "      <th>New software development**1 x &gt;500**1 x Inaccurate requirements specifications and required re-programming the software system**1</th>\n",
              "      <th>Upgrading existing software**1 x &gt;500**1 x Accurate requirements specifications used to develop the software system**1</th>\n",
              "      <th>11-20**1 x Inaccurate requirements specifications and required the re-design of the software system**2</th>\n",
              "      <th>151-200**1 x Accurate requirements specifications used to develop the software system**2</th>\n",
              "      <th>6-10**2 x Accurate requirements specifications used to develop the software system**1</th>\n",
              "      <th>&gt;500**2 x Inaccurate requirements specifications and required the re-design of the software system**1</th>\n",
              "      <th>Actual effort</th>\n",
              "    </tr>\n",
              "  </thead>\n",
              "  <tbody>\n",
              "    <tr>\n",
              "      <th>0</th>\n",
              "      <td>0</td>\n",
              "      <td>1</td>\n",
              "      <td>3.0</td>\n",
              "      <td>100</td>\n",
              "      <td>8</td>\n",
              "      <td>1</td>\n",
              "      <td>8</td>\n",
              "      <td>1.75</td>\n",
              "      <td>1.888889</td>\n",
              "      <td>2.587302</td>\n",
              "      <td>...</td>\n",
              "      <td>0</td>\n",
              "      <td>0</td>\n",
              "      <td>1</td>\n",
              "      <td>0</td>\n",
              "      <td>0</td>\n",
              "      <td>0</td>\n",
              "      <td>0</td>\n",
              "      <td>0</td>\n",
              "      <td>0</td>\n",
              "      <td>3168.0</td>\n",
              "    </tr>\n",
              "    <tr>\n",
              "      <th>1</th>\n",
              "      <td>1</td>\n",
              "      <td>1</td>\n",
              "      <td>3.0</td>\n",
              "      <td>19</td>\n",
              "      <td>4</td>\n",
              "      <td>3</td>\n",
              "      <td>6</td>\n",
              "      <td>2.50</td>\n",
              "      <td>1.888889</td>\n",
              "      <td>2.904762</td>\n",
              "      <td>...</td>\n",
              "      <td>0</td>\n",
              "      <td>0</td>\n",
              "      <td>0</td>\n",
              "      <td>0</td>\n",
              "      <td>0</td>\n",
              "      <td>0</td>\n",
              "      <td>0</td>\n",
              "      <td>0</td>\n",
              "      <td>0</td>\n",
              "      <td>1584.0</td>\n",
              "    </tr>\n",
              "    <tr>\n",
              "      <th>2</th>\n",
              "      <td>2</td>\n",
              "      <td>1</td>\n",
              "      <td>5.0</td>\n",
              "      <td>64</td>\n",
              "      <td>4</td>\n",
              "      <td>2</td>\n",
              "      <td>6</td>\n",
              "      <td>2.00</td>\n",
              "      <td>1.888889</td>\n",
              "      <td>1.000000</td>\n",
              "      <td>...</td>\n",
              "      <td>0</td>\n",
              "      <td>0</td>\n",
              "      <td>0</td>\n",
              "      <td>0</td>\n",
              "      <td>0</td>\n",
              "      <td>0</td>\n",
              "      <td>0</td>\n",
              "      <td>0</td>\n",
              "      <td>0</td>\n",
              "      <td>5280.0</td>\n",
              "    </tr>\n",
              "    <tr>\n",
              "      <th>3</th>\n",
              "      <td>3</td>\n",
              "      <td>1</td>\n",
              "      <td>6.0</td>\n",
              "      <td>246</td>\n",
              "      <td>2</td>\n",
              "      <td>1</td>\n",
              "      <td>4</td>\n",
              "      <td>3.25</td>\n",
              "      <td>5.000000</td>\n",
              "      <td>2.507937</td>\n",
              "      <td>...</td>\n",
              "      <td>0</td>\n",
              "      <td>0</td>\n",
              "      <td>0</td>\n",
              "      <td>0</td>\n",
              "      <td>0</td>\n",
              "      <td>0</td>\n",
              "      <td>0</td>\n",
              "      <td>0</td>\n",
              "      <td>0</td>\n",
              "      <td>5280.0</td>\n",
              "    </tr>\n",
              "    <tr>\n",
              "      <th>4</th>\n",
              "      <td>4</td>\n",
              "      <td>1</td>\n",
              "      <td>24.0</td>\n",
              "      <td>420</td>\n",
              "      <td>3</td>\n",
              "      <td>3</td>\n",
              "      <td>3</td>\n",
              "      <td>2.75</td>\n",
              "      <td>1.888889</td>\n",
              "      <td>4.650794</td>\n",
              "      <td>...</td>\n",
              "      <td>0</td>\n",
              "      <td>0</td>\n",
              "      <td>0</td>\n",
              "      <td>0</td>\n",
              "      <td>0</td>\n",
              "      <td>0</td>\n",
              "      <td>0</td>\n",
              "      <td>0</td>\n",
              "      <td>0</td>\n",
              "      <td>38016.0</td>\n",
              "    </tr>\n",
              "  </tbody>\n",
              "</table>\n",
              "<p>5 rows × 4703 columns</p>\n",
              "</div>\n",
              "      <button class=\"colab-df-convert\" onclick=\"convertToInteractive('df-2eeebd88-2bce-4195-93f2-6935c0027506')\"\n",
              "              title=\"Convert this dataframe to an interactive table.\"\n",
              "              style=\"display:none;\">\n",
              "        \n",
              "  <svg xmlns=\"http://www.w3.org/2000/svg\" height=\"24px\"viewBox=\"0 0 24 24\"\n",
              "       width=\"24px\">\n",
              "    <path d=\"M0 0h24v24H0V0z\" fill=\"none\"/>\n",
              "    <path d=\"M18.56 5.44l.94 2.06.94-2.06 2.06-.94-2.06-.94-.94-2.06-.94 2.06-2.06.94zm-11 1L8.5 8.5l.94-2.06 2.06-.94-2.06-.94L8.5 2.5l-.94 2.06-2.06.94zm10 10l.94 2.06.94-2.06 2.06-.94-2.06-.94-.94-2.06-.94 2.06-2.06.94z\"/><path d=\"M17.41 7.96l-1.37-1.37c-.4-.4-.92-.59-1.43-.59-.52 0-1.04.2-1.43.59L10.3 9.45l-7.72 7.72c-.78.78-.78 2.05 0 2.83L4 21.41c.39.39.9.59 1.41.59.51 0 1.02-.2 1.41-.59l7.78-7.78 2.81-2.81c.8-.78.8-2.07 0-2.86zM5.41 20L4 18.59l7.72-7.72 1.47 1.35L5.41 20z\"/>\n",
              "  </svg>\n",
              "      </button>\n",
              "      \n",
              "  <style>\n",
              "    .colab-df-container {\n",
              "      display:flex;\n",
              "      flex-wrap:wrap;\n",
              "      gap: 12px;\n",
              "    }\n",
              "\n",
              "    .colab-df-convert {\n",
              "      background-color: #E8F0FE;\n",
              "      border: none;\n",
              "      border-radius: 50%;\n",
              "      cursor: pointer;\n",
              "      display: none;\n",
              "      fill: #1967D2;\n",
              "      height: 32px;\n",
              "      padding: 0 0 0 0;\n",
              "      width: 32px;\n",
              "    }\n",
              "\n",
              "    .colab-df-convert:hover {\n",
              "      background-color: #E2EBFA;\n",
              "      box-shadow: 0px 1px 2px rgba(60, 64, 67, 0.3), 0px 1px 3px 1px rgba(60, 64, 67, 0.15);\n",
              "      fill: #174EA6;\n",
              "    }\n",
              "\n",
              "    [theme=dark] .colab-df-convert {\n",
              "      background-color: #3B4455;\n",
              "      fill: #D2E3FC;\n",
              "    }\n",
              "\n",
              "    [theme=dark] .colab-df-convert:hover {\n",
              "      background-color: #434B5C;\n",
              "      box-shadow: 0px 1px 3px 1px rgba(0, 0, 0, 0.15);\n",
              "      filter: drop-shadow(0px 1px 2px rgba(0, 0, 0, 0.3));\n",
              "      fill: #FFFFFF;\n",
              "    }\n",
              "  </style>\n",
              "\n",
              "      <script>\n",
              "        const buttonEl =\n",
              "          document.querySelector('#df-2eeebd88-2bce-4195-93f2-6935c0027506 button.colab-df-convert');\n",
              "        buttonEl.style.display =\n",
              "          google.colab.kernel.accessAllowed ? 'block' : 'none';\n",
              "\n",
              "        async function convertToInteractive(key) {\n",
              "          const element = document.querySelector('#df-2eeebd88-2bce-4195-93f2-6935c0027506');\n",
              "          const dataTable =\n",
              "            await google.colab.kernel.invokeFunction('convertToInteractive',\n",
              "                                                     [key], {});\n",
              "          if (!dataTable) return;\n",
              "\n",
              "          const docLinkHtml = 'Like what you see? Visit the ' +\n",
              "            '<a target=\"_blank\" href=https://colab.research.google.com/notebooks/data_table.ipynb>data table notebook</a>'\n",
              "            + ' to learn more about interactive tables.';\n",
              "          element.innerHTML = '';\n",
              "          dataTable['output_type'] = 'display_data';\n",
              "          await google.colab.output.renderOutput(dataTable, element);\n",
              "          const docLink = document.createElement('div');\n",
              "          docLink.innerHTML = docLinkHtml;\n",
              "          element.appendChild(docLink);\n",
              "        }\n",
              "      </script>\n",
              "    </div>\n",
              "  </div>\n",
              "  "
            ]
          },
          "metadata": {},
          "execution_count": 4
        }
      ]
    },
    {
      "cell_type": "code",
      "source": [
        "X = data.drop(['Unnamed: 0', 'Actual effort'], axis = 1)\n",
        "y = data['Actual effort']"
      ],
      "metadata": {
        "id": "J8Okqt0IBxxL"
      },
      "execution_count": null,
      "outputs": []
    },
    {
      "cell_type": "code",
      "source": [
        "X.shape, y.shape"
      ],
      "metadata": {
        "colab": {
          "base_uri": "https://localhost:8080/"
        },
        "id": "igkPcE6ODlYO",
        "outputId": "891cb0c6-4f26-42db-cf46-e43e78206b94"
      },
      "execution_count": null,
      "outputs": [
        {
          "output_type": "execute_result",
          "data": {
            "text/plain": [
              "((120, 4701), (120,))"
            ]
          },
          "metadata": {},
          "execution_count": 6
        }
      ]
    },
    {
      "cell_type": "code",
      "source": [
        "selector = fs.ForwardSelection(X, y)"
      ],
      "metadata": {
        "id": "GKnXXT2RDon-"
      },
      "execution_count": null,
      "outputs": []
    },
    {
      "cell_type": "code",
      "source": [
        "selector.forward_selection()"
      ],
      "metadata": {
        "id": "FMzUbvWBE8mr",
        "colab": {
          "base_uri": "https://localhost:8080/"
        },
        "outputId": "f6690371-06a9-46f3-c5fa-28c4a2839c21"
      },
      "execution_count": null,
      "outputs": [
        {
          "metadata": {
            "tags": null
          },
          "name": "stderr",
          "output_type": "stream",
          "text": [
            "/usr/local/lib/python3.7/dist-packages/statsmodels/tsa/tsatools.py:117: FutureWarning: In a future version of pandas all arguments of concat except for the argument 'objs' will be keyword-only\n",
            "  x = pd.concat(x[::order], 1)\n"
          ]
        },
        {
          "output_type": "execute_result",
          "data": {
            "text/plain": [
              "['Actual duration**1 x Team size**1',\n",
              " 'Actual duration**1 x Dedicated team members**1',\n",
              " 'Actual duration**1 x Development environment adequacy**1 x 11-20**1',\n",
              " 'Dedicated team members**1 x 21-30**1 x Inaccurate requirements specifications and required the re-analysis of the software requirements**1',\n",
              " 'User resistance**1 x Project manager**1 x 21-30**1',\n",
              " 'Contract maturity**1 x 21-30**1 x Inaccurate requirements specifications and required the re-analysis of the software requirements**1',\n",
              " 'Requirment stability**1 x 21-30**1 x Inaccurate requirements specifications and required the re-analysis of the software requirements**1',\n",
              " 'Actual duration**1 x 21-30**1 x Inaccurate requirements specifications and required the re-analysis of the software requirements**1',\n",
              " 'Dedicated team members**1 x Tool availability**1 x Technical stability**1',\n",
              " 'Contract maturity**1 x Precedentedness**1 x 11-20**1',\n",
              " 'Developer incentives policy**1 x Users stability**1 x Dedicated team members**1',\n",
              " 'Actual duration**1 x 1-5**1 x Accurate requirements specifications used to develop the software system**1',\n",
              " 'Object points**1 x Users stability**1 x Tool availability**1',\n",
              " 'Object points**1 x Developer incentives policy**1 x Users stability**1',\n",
              " 'Precedentedness**1 x Dedicated team members**1 x Tool availability**1',\n",
              " 'Actual duration**1 x Team cohesion**1 x 11-20**1',\n",
              " 'Actual duration**1 x Developer incentives policy**1 x Team size**1',\n",
              " 'Developer incentives policy**1 x Team cohesion**1 x >500**1',\n",
              " 'Actual duration**1 x Economic instability impact**1 x Inaccurate requirements specifications and required the re-design of the software system**1',\n",
              " 'Contract maturity**1 x Technical stability**1 x >500**1',\n",
              " 'Users stability**1 x Precedentedness**1 x >500**1',\n",
              " 'Object points**2 x Accurate requirements specifications used to develop the software system**1',\n",
              " 'Development environment adequacy**1 x Project manager**1 x Inaccurate requirements specifications and required the re-design of the software system**1',\n",
              " 'Economic instability impact**1 x Upgrading existing software**1 x Inaccurate requirements specifications and required re-programming the software system**1',\n",
              " 'Developer incentives policy**1 x Users stability**1 x Team cohesion**1',\n",
              " 'Actual duration**1 x Team size**1 x 11-20**1',\n",
              " 'Team size**1 x 1-5**1 x Inaccurate requirements specifications and required re-programming the software system**1',\n",
              " 'Technical stability**2 x 51-100**1',\n",
              " 'Constant Term',\n",
              " 'Object points**1 x Modifying existing software**1 x 1-5**1',\n",
              " 'Object points**1 x Developer**1 x New software development**1',\n",
              " 'Contract maturity**1 x Requirment stability**1 x 11-20**1',\n",
              " 'Object points**1 x Upgrading existing software**1 x Accurate requirements specifications used to develop the software system**1',\n",
              " 'Actual duration**1 x Economic instability impact**1 x Dedicated team members**1',\n",
              " 'Technical stability**1 x 21-30**1 x Accurate requirements specifications used to develop the software system**1',\n",
              " 'Actual duration**1 x Dedicated team members**1 x Accurate requirements specifications used to develop the software system**1',\n",
              " 'Users stability**1 x Dedicated team members**1 x 1-5**1',\n",
              " 'Object points**1 x Project manager**1 x >500**1',\n",
              " 'Team size**1 x Developer**1 x >500**1',\n",
              " 'Users stability**1 x Dedicated team members**1 x Accurate requirements specifications used to develop the software system**1',\n",
              " 'Developer incentives policy**1 x Dedicated team members**1 x Team cohesion**1',\n",
              " 'Requirment stability**1 x Tool availability**1 x 11-20**1']"
            ]
          },
          "metadata": {},
          "execution_count": 8
        }
      ]
    },
    {
      "cell_type": "code",
      "source": [
        "best_features = ['Actual duration**1 x Team size**1',\n",
        " 'Actual duration**1 x Dedicated team members**1',\n",
        " 'Actual duration**1 x Development environment adequacy**1 x 11-20**1',\n",
        " 'Dedicated team members**1 x 21-30**1 x Inaccurate requirements specifications and required the re-analysis of the software requirements**1',\n",
        " 'User resistance**1 x Project manager**1 x 21-30**1',\n",
        " 'Contract maturity**1 x 21-30**1 x Inaccurate requirements specifications and required the re-analysis of the software requirements**1',\n",
        " 'Requirment stability**1 x 21-30**1 x Inaccurate requirements specifications and required the re-analysis of the software requirements**1',\n",
        " 'Actual duration**1 x 21-30**1 x Inaccurate requirements specifications and required the re-analysis of the software requirements**1',\n",
        " 'Dedicated team members**1 x Tool availability**1 x Technical stability**1',\n",
        " 'Contract maturity**1 x Precedentedness**1 x 11-20**1',\n",
        " 'Developer incentives policy**1 x Users stability**1 x Dedicated team members**1',\n",
        " 'Actual duration**1 x 1-5**1 x Accurate requirements specifications used to develop the software system**1',\n",
        " 'Object points**1 x Users stability**1 x Tool availability**1',\n",
        " 'Object points**1 x Developer incentives policy**1 x Users stability**1',\n",
        " 'Precedentedness**1 x Dedicated team members**1 x Tool availability**1',\n",
        " 'Actual duration**1 x Team cohesion**1 x 11-20**1',\n",
        " 'Actual duration**1 x Developer incentives policy**1 x Team size**1',\n",
        " 'Developer incentives policy**1 x Team cohesion**1 x >500**1',\n",
        " 'Actual duration**1 x Economic instability impact**1 x Inaccurate requirements specifications and required the re-design of the software system**1',\n",
        " 'Contract maturity**1 x Technical stability**1 x >500**1',\n",
        " 'Users stability**1 x Precedentedness**1 x >500**1',\n",
        " 'Object points**2 x Accurate requirements specifications used to develop the software system**1',\n",
        " 'Development environment adequacy**1 x Project manager**1 x Inaccurate requirements specifications and required the re-design of the software system**1',\n",
        " 'Economic instability impact**1 x Upgrading existing software**1 x Inaccurate requirements specifications and required re-programming the software system**1',\n",
        " 'Developer incentives policy**1 x Users stability**1 x Team cohesion**1',\n",
        " 'Actual duration**1 x Team size**1 x 11-20**1',\n",
        " 'Team size**1 x 1-5**1 x Inaccurate requirements specifications and required re-programming the software system**1',\n",
        " 'Technical stability**2 x 51-100**1',\n",
        " 'Constant Term',\n",
        " 'Object points**1 x Modifying existing software**1 x 1-5**1',\n",
        " 'Object points**1 x Developer**1 x New software development**1',\n",
        " 'Contract maturity**1 x Requirment stability**1 x 11-20**1',\n",
        " 'Object points**1 x Upgrading existing software**1 x Accurate requirements specifications used to develop the software system**1',\n",
        " 'Actual duration**1 x Economic instability impact**1 x Dedicated team members**1',\n",
        " 'Technical stability**1 x 21-30**1 x Accurate requirements specifications used to develop the software system**1',\n",
        " 'Actual duration**1 x Dedicated team members**1 x Accurate requirements specifications used to develop the software system**1',\n",
        " 'Users stability**1 x Dedicated team members**1 x 1-5**1',\n",
        " 'Object points**1 x Project manager**1 x >500**1',\n",
        " 'Team size**1 x Developer**1 x >500**1',\n",
        " 'Users stability**1 x Dedicated team members**1 x Accurate requirements specifications used to develop the software system**1',\n",
        " 'Developer incentives policy**1 x Dedicated team members**1 x Team cohesion**1',\n",
        " 'Requirment stability**1 x Tool availability**1 x 11-20**1']"
      ],
      "metadata": {
        "id": "nB-RXariuWh9"
      },
      "execution_count": null,
      "outputs": []
    },
    {
      "cell_type": "code",
      "source": [
        "len(best_features)"
      ],
      "metadata": {
        "colab": {
          "base_uri": "https://localhost:8080/"
        },
        "id": "ydO56TIinwVT",
        "outputId": "68fe1262-069d-4335-a562-977d27bdbc85"
      },
      "execution_count": null,
      "outputs": [
        {
          "output_type": "execute_result",
          "data": {
            "text/plain": [
              "42"
            ]
          },
          "metadata": {},
          "execution_count": 12
        }
      ]
    },
    {
      "cell_type": "code",
      "source": [
        "final_data = pd.concat([X[best_features], y], axis = 1)"
      ],
      "metadata": {
        "id": "3TzyAUhKubZg"
      },
      "execution_count": null,
      "outputs": []
    },
    {
      "cell_type": "code",
      "source": [
        "final_data.to_excel('/content/final_data.xlsx')"
      ],
      "metadata": {
        "id": "mMZPeIqbuqMz"
      },
      "execution_count": null,
      "outputs": []
    }
  ]
}