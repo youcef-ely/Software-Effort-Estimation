{
  "nbformat": 4,
  "nbformat_minor": 0,
  "metadata": {
    "colab": {
      "name": "support_vector_machines.ipynb",
      "provenance": [],
      "collapsed_sections": []
    },
    "kernelspec": {
      "name": "python3",
      "display_name": "Python 3"
    },
    "language_info": {
      "name": "python"
    }
  },
  "cells": [
    {
      "cell_type": "code",
      "execution_count": 2,
      "metadata": {
        "id": "qnNlvEXvVC1J"
      },
      "outputs": [],
      "source": [
        "import sys\n",
        "import os\n",
        "\n",
        "module_path = os.path.abspath(os.path.join('..'))\n",
        "if module_path not in sys.path:\n",
        "    sys.path.append(module_path+\"\\\\src\")\n",
        "    sys.path.append(module_path+\"\\\\References\")\n",
        "\n",
        "\n",
        "import data_preprocessing as dp\n",
        "import metrics\n",
        "import genetic_algorithm as ga"
      ]
    },
    {
      "cell_type": "code",
      "source": [
        "import pandas as pd\n",
        "import numpy as np\n",
        "import random\n",
        "from sklearn.model_selection import train_test_split, cross_val_score\n",
        "from sklearn.preprocessing import StandardScaler"
      ],
      "metadata": {
        "id": "f7tiY465VJSo"
      },
      "execution_count": 3,
      "outputs": []
    },
    {
      "cell_type": "code",
      "source": [
        "data = pd.read_excel('/content/final_data.xlsx')\n",
        "data.head()"
      ],
      "metadata": {
        "id": "UCQZvzlXVK-K",
        "colab": {
          "base_uri": "https://localhost:8080/",
          "height": 473
        },
        "outputId": "d96771f4-c583-47ed-eed3-c30d9928057c"
      },
      "execution_count": 4,
      "outputs": [
        {
          "output_type": "execute_result",
          "data": {
            "text/plain": [
              "   Unnamed: 0  Team size**1 x Actual duration**1  \\\n",
              "0           0                               18.0   \n",
              "1           1                                9.0   \n",
              "2           2                               30.0   \n",
              "3           3                               36.0   \n",
              "4           4                              216.0   \n",
              "\n",
              "   Dedicated team members**1 x Actual duration**1  \\\n",
              "0                                            18.0   \n",
              "1                                             9.0   \n",
              "2                                            30.0   \n",
              "3                                            24.0   \n",
              "4                                           216.0   \n",
              "\n",
              "   Actual duration**1 x Development environment adequacy**1 x 11-20**1  \\\n",
              "0                                                  0                     \n",
              "1                                                  0                     \n",
              "2                                                  0                     \n",
              "3                                                  6                     \n",
              "4                                                 24                     \n",
              "\n",
              "   Team size**1 x 21-30**1 x Inaccurate requirements specifications and required the re-analysis of the software requirements**1  \\\n",
              "0                                                  0                                                                               \n",
              "1                                                  0                                                                               \n",
              "2                                                  0                                                                               \n",
              "3                                                  0                                                                               \n",
              "4                                                  0                                                                               \n",
              "\n",
              "   User resistance**1 x Project manager**1 x 21-30**1  \\\n",
              "0                                                0.0    \n",
              "1                                                0.0    \n",
              "2                                                0.0    \n",
              "3                                                0.0    \n",
              "4                                                0.0    \n",
              "\n",
              "   Development environment adequacy**1 x 21-30**1 x Inaccurate requirements specifications and required the re-analysis of the software requirements**1  \\\n",
              "0                                                  0                                                                                                      \n",
              "1                                                  0                                                                                                      \n",
              "2                                                  0                                                                                                      \n",
              "3                                                  0                                                                                                      \n",
              "4                                                  0                                                                                                      \n",
              "\n",
              "   Actual duration**1 x 21-30**1 x Inaccurate requirements specifications and required the re-analysis of the software requirements**1  \\\n",
              "0                                                  0                                                                                     \n",
              "1                                                  0                                                                                     \n",
              "2                                                  0                                                                                     \n",
              "3                                                  0                                                                                     \n",
              "4                                                  0                                                                                     \n",
              "\n",
              "   Requirment stability**1 x 21-30**1 x Inaccurate requirements specifications and required the re-analysis of the software requirements**1  \\\n",
              "0                                                0.0                                                                                          \n",
              "1                                                0.0                                                                                          \n",
              "2                                                0.0                                                                                          \n",
              "3                                                0.0                                                                                          \n",
              "4                                                0.0                                                                                          \n",
              "\n",
              "   Dedicated team members**1 x Technical stability**1 x Tool availability**1  \\\n",
              "0                                                 42                           \n",
              "1                                                 24                           \n",
              "2                                                 48                           \n",
              "3                                                 32                           \n",
              "4                                                 36                           \n",
              "\n",
              "   ...  \\\n",
              "0  ...   \n",
              "1  ...   \n",
              "2  ...   \n",
              "3  ...   \n",
              "4  ...   \n",
              "\n",
              "   Dedicated team members**1 x Actual duration**1 x Economic instability impact**1  \\\n",
              "0                                               18.0                                 \n",
              "1                                               27.0                                 \n",
              "2                                               60.0                                 \n",
              "3                                               24.0                                 \n",
              "4                                              648.0                                 \n",
              "\n",
              "   Technical stability**1 x 21-30**1 x Accurate requirements specifications used to develop the software system**1  \\\n",
              "0                                                  0                                                                 \n",
              "1                                                  0                                                                 \n",
              "2                                                  0                                                                 \n",
              "3                                                  0                                                                 \n",
              "4                                                  0                                                                 \n",
              "\n",
              "   Dedicated team members**1 x Actual duration**1 x Accurate requirements specifications used to develop the software system**1  \\\n",
              "0                                               18.0                                                                              \n",
              "1                                                0.0                                                                              \n",
              "2                                                0.0                                                                              \n",
              "3                                               24.0                                                                              \n",
              "4                                              216.0                                                                              \n",
              "\n",
              "   Dedicated team members**1 x Users stability**1 x 1-5**1  \\\n",
              "0                                                0.0         \n",
              "1                                                0.0         \n",
              "2                                                0.0         \n",
              "3                                                0.0         \n",
              "4                                                0.0         \n",
              "\n",
              "   Object points**1 x Project manager**1 x >500**1  \\\n",
              "0                                                0   \n",
              "1                                                0   \n",
              "2                                                0   \n",
              "3                                                0   \n",
              "4                                                0   \n",
              "\n",
              "   Team size**1 x Developer**1 x >500**1  \\\n",
              "0                                      6   \n",
              "1                                      0   \n",
              "2                                      0   \n",
              "3                                      0   \n",
              "4                                      0   \n",
              "\n",
              "   Dedicated team members**1 x Users stability**1 x Accurate requirements specifications used to develop the software system**1  \\\n",
              "0                                          11.333333                                                                              \n",
              "1                                           0.000000                                                                              \n",
              "2                                           0.000000                                                                              \n",
              "3                                          20.000000                                                                              \n",
              "4                                          17.000000                                                                              \n",
              "\n",
              "   Dedicated team members**1 x Team cohesion**1 x Developer incentives policy**1  \\\n",
              "0                                                 96                               \n",
              "1                                                108                               \n",
              "2                                                180                               \n",
              "3                                                 16                               \n",
              "4                                                 54                               \n",
              "\n",
              "   Requirment stability**1 x Tool availability**1 x 11-20**1  Actual effort  \n",
              "0                                           0.000000                 3168.0  \n",
              "1                                           0.000000                 1584.0  \n",
              "2                                           0.000000                 5280.0  \n",
              "3                                          10.031746                 5280.0  \n",
              "4                                          18.603175                38016.0  \n",
              "\n",
              "[5 rows x 44 columns]"
            ],
            "text/html": [
              "\n",
              "  <div id=\"df-0150b69d-9b37-430a-afe9-c87844461a84\">\n",
              "    <div class=\"colab-df-container\">\n",
              "      <div>\n",
              "<style scoped>\n",
              "    .dataframe tbody tr th:only-of-type {\n",
              "        vertical-align: middle;\n",
              "    }\n",
              "\n",
              "    .dataframe tbody tr th {\n",
              "        vertical-align: top;\n",
              "    }\n",
              "\n",
              "    .dataframe thead th {\n",
              "        text-align: right;\n",
              "    }\n",
              "</style>\n",
              "<table border=\"1\" class=\"dataframe\">\n",
              "  <thead>\n",
              "    <tr style=\"text-align: right;\">\n",
              "      <th></th>\n",
              "      <th>Unnamed: 0</th>\n",
              "      <th>Team size**1 x Actual duration**1</th>\n",
              "      <th>Dedicated team members**1 x Actual duration**1</th>\n",
              "      <th>Actual duration**1 x Development environment adequacy**1 x 11-20**1</th>\n",
              "      <th>Team size**1 x 21-30**1 x Inaccurate requirements specifications and required the re-analysis of the software requirements**1</th>\n",
              "      <th>User resistance**1 x Project manager**1 x 21-30**1</th>\n",
              "      <th>Development environment adequacy**1 x 21-30**1 x Inaccurate requirements specifications and required the re-analysis of the software requirements**1</th>\n",
              "      <th>Actual duration**1 x 21-30**1 x Inaccurate requirements specifications and required the re-analysis of the software requirements**1</th>\n",
              "      <th>Requirment stability**1 x 21-30**1 x Inaccurate requirements specifications and required the re-analysis of the software requirements**1</th>\n",
              "      <th>Dedicated team members**1 x Technical stability**1 x Tool availability**1</th>\n",
              "      <th>...</th>\n",
              "      <th>Dedicated team members**1 x Actual duration**1 x Economic instability impact**1</th>\n",
              "      <th>Technical stability**1 x 21-30**1 x Accurate requirements specifications used to develop the software system**1</th>\n",
              "      <th>Dedicated team members**1 x Actual duration**1 x Accurate requirements specifications used to develop the software system**1</th>\n",
              "      <th>Dedicated team members**1 x Users stability**1 x 1-5**1</th>\n",
              "      <th>Object points**1 x Project manager**1 x &gt;500**1</th>\n",
              "      <th>Team size**1 x Developer**1 x &gt;500**1</th>\n",
              "      <th>Dedicated team members**1 x Users stability**1 x Accurate requirements specifications used to develop the software system**1</th>\n",
              "      <th>Dedicated team members**1 x Team cohesion**1 x Developer incentives policy**1</th>\n",
              "      <th>Requirment stability**1 x Tool availability**1 x 11-20**1</th>\n",
              "      <th>Actual effort</th>\n",
              "    </tr>\n",
              "  </thead>\n",
              "  <tbody>\n",
              "    <tr>\n",
              "      <th>0</th>\n",
              "      <td>0</td>\n",
              "      <td>18.0</td>\n",
              "      <td>18.0</td>\n",
              "      <td>0</td>\n",
              "      <td>0</td>\n",
              "      <td>0.0</td>\n",
              "      <td>0</td>\n",
              "      <td>0</td>\n",
              "      <td>0.0</td>\n",
              "      <td>42</td>\n",
              "      <td>...</td>\n",
              "      <td>18.0</td>\n",
              "      <td>0</td>\n",
              "      <td>18.0</td>\n",
              "      <td>0.0</td>\n",
              "      <td>0</td>\n",
              "      <td>6</td>\n",
              "      <td>11.333333</td>\n",
              "      <td>96</td>\n",
              "      <td>0.000000</td>\n",
              "      <td>3168.0</td>\n",
              "    </tr>\n",
              "    <tr>\n",
              "      <th>1</th>\n",
              "      <td>1</td>\n",
              "      <td>9.0</td>\n",
              "      <td>9.0</td>\n",
              "      <td>0</td>\n",
              "      <td>0</td>\n",
              "      <td>0.0</td>\n",
              "      <td>0</td>\n",
              "      <td>0</td>\n",
              "      <td>0.0</td>\n",
              "      <td>24</td>\n",
              "      <td>...</td>\n",
              "      <td>27.0</td>\n",
              "      <td>0</td>\n",
              "      <td>0.0</td>\n",
              "      <td>0.0</td>\n",
              "      <td>0</td>\n",
              "      <td>0</td>\n",
              "      <td>0.000000</td>\n",
              "      <td>108</td>\n",
              "      <td>0.000000</td>\n",
              "      <td>1584.0</td>\n",
              "    </tr>\n",
              "    <tr>\n",
              "      <th>2</th>\n",
              "      <td>2</td>\n",
              "      <td>30.0</td>\n",
              "      <td>30.0</td>\n",
              "      <td>0</td>\n",
              "      <td>0</td>\n",
              "      <td>0.0</td>\n",
              "      <td>0</td>\n",
              "      <td>0</td>\n",
              "      <td>0.0</td>\n",
              "      <td>48</td>\n",
              "      <td>...</td>\n",
              "      <td>60.0</td>\n",
              "      <td>0</td>\n",
              "      <td>0.0</td>\n",
              "      <td>0.0</td>\n",
              "      <td>0</td>\n",
              "      <td>0</td>\n",
              "      <td>0.000000</td>\n",
              "      <td>180</td>\n",
              "      <td>0.000000</td>\n",
              "      <td>5280.0</td>\n",
              "    </tr>\n",
              "    <tr>\n",
              "      <th>3</th>\n",
              "      <td>3</td>\n",
              "      <td>36.0</td>\n",
              "      <td>24.0</td>\n",
              "      <td>6</td>\n",
              "      <td>0</td>\n",
              "      <td>0.0</td>\n",
              "      <td>0</td>\n",
              "      <td>0</td>\n",
              "      <td>0.0</td>\n",
              "      <td>32</td>\n",
              "      <td>...</td>\n",
              "      <td>24.0</td>\n",
              "      <td>0</td>\n",
              "      <td>24.0</td>\n",
              "      <td>0.0</td>\n",
              "      <td>0</td>\n",
              "      <td>0</td>\n",
              "      <td>20.000000</td>\n",
              "      <td>16</td>\n",
              "      <td>10.031746</td>\n",
              "      <td>5280.0</td>\n",
              "    </tr>\n",
              "    <tr>\n",
              "      <th>4</th>\n",
              "      <td>4</td>\n",
              "      <td>216.0</td>\n",
              "      <td>216.0</td>\n",
              "      <td>24</td>\n",
              "      <td>0</td>\n",
              "      <td>0.0</td>\n",
              "      <td>0</td>\n",
              "      <td>0</td>\n",
              "      <td>0.0</td>\n",
              "      <td>36</td>\n",
              "      <td>...</td>\n",
              "      <td>648.0</td>\n",
              "      <td>0</td>\n",
              "      <td>216.0</td>\n",
              "      <td>0.0</td>\n",
              "      <td>0</td>\n",
              "      <td>0</td>\n",
              "      <td>17.000000</td>\n",
              "      <td>54</td>\n",
              "      <td>18.603175</td>\n",
              "      <td>38016.0</td>\n",
              "    </tr>\n",
              "  </tbody>\n",
              "</table>\n",
              "<p>5 rows × 44 columns</p>\n",
              "</div>\n",
              "      <button class=\"colab-df-convert\" onclick=\"convertToInteractive('df-0150b69d-9b37-430a-afe9-c87844461a84')\"\n",
              "              title=\"Convert this dataframe to an interactive table.\"\n",
              "              style=\"display:none;\">\n",
              "        \n",
              "  <svg xmlns=\"http://www.w3.org/2000/svg\" height=\"24px\"viewBox=\"0 0 24 24\"\n",
              "       width=\"24px\">\n",
              "    <path d=\"M0 0h24v24H0V0z\" fill=\"none\"/>\n",
              "    <path d=\"M18.56 5.44l.94 2.06.94-2.06 2.06-.94-2.06-.94-.94-2.06-.94 2.06-2.06.94zm-11 1L8.5 8.5l.94-2.06 2.06-.94-2.06-.94L8.5 2.5l-.94 2.06-2.06.94zm10 10l.94 2.06.94-2.06 2.06-.94-2.06-.94-.94-2.06-.94 2.06-2.06.94z\"/><path d=\"M17.41 7.96l-1.37-1.37c-.4-.4-.92-.59-1.43-.59-.52 0-1.04.2-1.43.59L10.3 9.45l-7.72 7.72c-.78.78-.78 2.05 0 2.83L4 21.41c.39.39.9.59 1.41.59.51 0 1.02-.2 1.41-.59l7.78-7.78 2.81-2.81c.8-.78.8-2.07 0-2.86zM5.41 20L4 18.59l7.72-7.72 1.47 1.35L5.41 20z\"/>\n",
              "  </svg>\n",
              "      </button>\n",
              "      \n",
              "  <style>\n",
              "    .colab-df-container {\n",
              "      display:flex;\n",
              "      flex-wrap:wrap;\n",
              "      gap: 12px;\n",
              "    }\n",
              "\n",
              "    .colab-df-convert {\n",
              "      background-color: #E8F0FE;\n",
              "      border: none;\n",
              "      border-radius: 50%;\n",
              "      cursor: pointer;\n",
              "      display: none;\n",
              "      fill: #1967D2;\n",
              "      height: 32px;\n",
              "      padding: 0 0 0 0;\n",
              "      width: 32px;\n",
              "    }\n",
              "\n",
              "    .colab-df-convert:hover {\n",
              "      background-color: #E2EBFA;\n",
              "      box-shadow: 0px 1px 2px rgba(60, 64, 67, 0.3), 0px 1px 3px 1px rgba(60, 64, 67, 0.15);\n",
              "      fill: #174EA6;\n",
              "    }\n",
              "\n",
              "    [theme=dark] .colab-df-convert {\n",
              "      background-color: #3B4455;\n",
              "      fill: #D2E3FC;\n",
              "    }\n",
              "\n",
              "    [theme=dark] .colab-df-convert:hover {\n",
              "      background-color: #434B5C;\n",
              "      box-shadow: 0px 1px 3px 1px rgba(0, 0, 0, 0.15);\n",
              "      filter: drop-shadow(0px 1px 2px rgba(0, 0, 0, 0.3));\n",
              "      fill: #FFFFFF;\n",
              "    }\n",
              "  </style>\n",
              "\n",
              "      <script>\n",
              "        const buttonEl =\n",
              "          document.querySelector('#df-0150b69d-9b37-430a-afe9-c87844461a84 button.colab-df-convert');\n",
              "        buttonEl.style.display =\n",
              "          google.colab.kernel.accessAllowed ? 'block' : 'none';\n",
              "\n",
              "        async function convertToInteractive(key) {\n",
              "          const element = document.querySelector('#df-0150b69d-9b37-430a-afe9-c87844461a84');\n",
              "          const dataTable =\n",
              "            await google.colab.kernel.invokeFunction('convertToInteractive',\n",
              "                                                     [key], {});\n",
              "          if (!dataTable) return;\n",
              "\n",
              "          const docLinkHtml = 'Like what you see? Visit the ' +\n",
              "            '<a target=\"_blank\" href=https://colab.research.google.com/notebooks/data_table.ipynb>data table notebook</a>'\n",
              "            + ' to learn more about interactive tables.';\n",
              "          element.innerHTML = '';\n",
              "          dataTable['output_type'] = 'display_data';\n",
              "          await google.colab.output.renderOutput(dataTable, element);\n",
              "          const docLink = document.createElement('div');\n",
              "          docLink.innerHTML = docLinkHtml;\n",
              "          element.appendChild(docLink);\n",
              "        }\n",
              "      </script>\n",
              "    </div>\n",
              "  </div>\n",
              "  "
            ]
          },
          "metadata": {},
          "execution_count": 4
        }
      ]
    },
    {
      "cell_type": "code",
      "source": [
        "target = data['Actual effort']\n",
        "X = data.drop(['Unnamed: 0', 'Actual effort'], axis = 1)"
      ],
      "metadata": {
        "id": "kwJR7vnfVVP2"
      },
      "execution_count": 5,
      "outputs": []
    },
    {
      "cell_type": "markdown",
      "source": [
        "# Support Vector Regression"
      ],
      "metadata": {
        "id": "vr1ch7XeVZVA"
      }
    },
    {
      "cell_type": "code",
      "source": [
        "from sklearn.svm import LinearSVR"
      ],
      "metadata": {
        "id": "OX2tcUZQVXOw"
      },
      "execution_count": 6,
      "outputs": []
    },
    {
      "cell_type": "code",
      "source": [
        "X_train, X_test, y_train, y_test = train_test_split(X, target, test_size = 0.3, random_state = 0)"
      ],
      "metadata": {
        "id": "H10SGgUfVe4c"
      },
      "execution_count": 7,
      "outputs": []
    },
    {
      "cell_type": "code",
      "source": [
        "X_train, X_test = pd.DataFrame(X_train, columns = X.columns), pd.DataFrame(X_test, columns = X.columns)"
      ],
      "metadata": {
        "id": "FZfRCGwoVhMC"
      },
      "execution_count": 8,
      "outputs": []
    },
    {
      "cell_type": "code",
      "source": [
        "scaler, X_train = dp.scaling_numerical_data(X_train.columns, X_train)\n",
        "X_test = scaler.transform(X_test)"
      ],
      "metadata": {
        "id": "QbKTp3PDVirG"
      },
      "execution_count": 9,
      "outputs": []
    },
    {
      "cell_type": "code",
      "source": [
        "y_scaler = StandardScaler()\n",
        "y_train_sc = y_scaler.fit_transform(y_train.to_numpy().reshape((-1, 1)))\n",
        "y_test_sc = y_scaler.transform(y_test.to_numpy().reshape((-1, 1)))"
      ],
      "metadata": {
        "id": "EWC58v7eWZhE"
      },
      "execution_count": 10,
      "outputs": []
    },
    {
      "cell_type": "code",
      "source": [
        "from sklearn.utils.validation import column_or_1d"
      ],
      "metadata": {
        "id": "2MAzp0ziW_CK"
      },
      "execution_count": 11,
      "outputs": []
    },
    {
      "cell_type": "code",
      "source": [
        "y_train, y_test = column_or_1d(y_train), column_or_1d(y_test)"
      ],
      "metadata": {
        "id": "aeyVTPKqXEnE"
      },
      "execution_count": 12,
      "outputs": []
    },
    {
      "cell_type": "markdown",
      "source": [
        "## Cross Validation score"
      ],
      "metadata": {
        "id": "GgHfXa1CVpCt"
      }
    },
    {
      "cell_type": "markdown",
      "source": [
        "#### 10k fold cross validation"
      ],
      "metadata": {
        "id": "alQr06r3VrmR"
      }
    },
    {
      "cell_type": "code",
      "source": [
        "r2 = cross_val_score(LinearSVR(random_state = 0, verbose = 0), X_train, column_or_1d(y_train_sc), cv = 10).mean()\n",
        "mae = cross_val_score(LinearSVR(random_state = 0, verbose = 0), X_train, column_or_1d(y_train_sc), cv = 10, scoring = 'neg_mean_absolute_error').mean()"
      ],
      "metadata": {
        "id": "bCAyVLAWVkOr"
      },
      "execution_count": null,
      "outputs": []
    },
    {
      "cell_type": "code",
      "source": [
        "print('10k fold cross validation r2 score: {}'.format(r2))\n",
        "print('10k fold cross validation mean absolute error: {}'.format(np.abs(mae)))"
      ],
      "metadata": {
        "colab": {
          "base_uri": "https://localhost:8080/"
        },
        "id": "iU3ZLo04bRF3",
        "outputId": "5fd9782f-a5cb-46d5-d34a-3e5430597dc3"
      },
      "execution_count": 23,
      "outputs": [
        {
          "output_type": "stream",
          "name": "stdout",
          "text": [
            "10k fold cross validation r2 score: 0.9956045984486694\n",
            "10k fold cross validation mean absolute error: 0.02492910342519905\n"
          ]
        }
      ]
    },
    {
      "cell_type": "markdown",
      "source": [
        "#### 5k fold cross validation"
      ],
      "metadata": {
        "id": "ynrhVN8YXvRd"
      }
    },
    {
      "cell_type": "code",
      "source": [
        "r2 = cross_val_score(LinearSVR(random_state = 0, verbose = 0), X_train, column_or_1d(y_train_sc), cv = 5).mean()\n",
        "mae = cross_val_score(LinearSVR(random_state = 0, verbose = 0), X_train, column_or_1d(y_train_sc), cv = 5, scoring = 'neg_mean_absolute_error').mean()"
      ],
      "metadata": {
        "id": "LQ-fTniybTyz"
      },
      "execution_count": null,
      "outputs": []
    },
    {
      "cell_type": "code",
      "source": [
        "print('10k fold cross validation r2 score: {}'.format(r2))\n",
        "print('10k fold cross validation mean absolute error: {}'.format(np.abs(mae)))"
      ],
      "metadata": {
        "colab": {
          "base_uri": "https://localhost:8080/"
        },
        "id": "DonwvVIRbZaO",
        "outputId": "5498ec99-a1d4-453b-d005-d298622eec59"
      },
      "execution_count": 25,
      "outputs": [
        {
          "output_type": "stream",
          "name": "stdout",
          "text": [
            "10k fold cross validation r2 score: 0.994278015805372\n",
            "10k fold cross validation mean absolute error: 0.03224845802016403\n"
          ]
        }
      ]
    },
    {
      "cell_type": "markdown",
      "source": [
        "# Modeling\n"
      ],
      "metadata": {
        "id": "JWkw3rDbbe9z"
      }
    },
    {
      "cell_type": "code",
      "source": [
        "svr_model = LinearSVR()\n",
        "svr_model.fit(X_train, y_train_sc)\n",
        "svr_model.score(X_train, y_train_sc), svr_model.score(X_test, y_test_sc)"
      ],
      "metadata": {
        "id": "JeweFzeJXxkh"
      },
      "execution_count": null,
      "outputs": []
    },
    {
      "cell_type": "markdown",
      "source": [
        "#### Metrics"
      ],
      "metadata": {
        "id": "itpbBKCPYT4X"
      }
    },
    {
      "cell_type": "code",
      "source": [
        "train_predictions = y_scaler.inverse_transform(svr_model.predict(X_train).reshape((-1, 1))).reshape((len(y_train), ))\n",
        "test_predictions = y_scaler.inverse_transform(svr_model.predict(X_test).reshape((-1, 1))).reshape((len(y_test), ))"
      ],
      "metadata": {
        "id": "ufacsf-KYRSH"
      },
      "execution_count": null,
      "outputs": []
    },
    {
      "cell_type": "code",
      "source": [
        "metrics.scores_DataFrame(y_train, y_test, train_predictions, test_predictions)"
      ],
      "metadata": {
        "id": "M19DlOHEYnlS"
      },
      "execution_count": null,
      "outputs": []
    },
    {
      "cell_type": "code",
      "source": [
        "metrics.plot_predictions(y_train, train_predictions, (20, 10), 'Train set')\n",
        "metrics.plot_predictions(y_test, test_predictions, (20, 10), 'Test set')"
      ],
      "metadata": {
        "id": "prEQDHOrqcND"
      },
      "execution_count": null,
      "outputs": []
    },
    {
      "cell_type": "markdown",
      "source": [
        "# Optimize LinearSVR paramaters with GA-Algorithms\n"
      ],
      "metadata": {
        "id": "1gasjXq6o2MJ"
      }
    },
    {
      "cell_type": "code",
      "source": [
        "params = {'epsilon': np.linspace(0.1, 1, 10), 'tol': [0.00001, 0.0001, 0.001, 0.01, 0.1], 'random_state': [0], 'max_iter': [10, 100, 1000, 10000], 'C': [1]}"
      ],
      "metadata": {
        "id": "pZw5Mv0qdMYb"
      },
      "execution_count": null,
      "outputs": []
    },
    {
      "cell_type": "code",
      "source": [
        "ga_alg = ga.GeneticAlgorithm(LinearSVR(), params, X_train, y_train_sc, 10, 0.9997631174256918, 5)"
      ],
      "metadata": {
        "id": "G5nfUZ-PqCRn"
      },
      "execution_count": null,
      "outputs": []
    },
    {
      "cell_type": "code",
      "source": [
        "populations = ga_alg.evolution()"
      ],
      "metadata": {
        "id": "rRlzAiItqK8y"
      },
      "execution_count": null,
      "outputs": []
    },
    {
      "cell_type": "code",
      "source": [
        "svr_model = LinearSVR(**populations[0])\n",
        "svr_model.fit(X_train, y_train_sc)"
      ],
      "metadata": {
        "id": "UBvCOmdhqMa9"
      },
      "execution_count": null,
      "outputs": []
    },
    {
      "cell_type": "code",
      "source": [
        "svr_model.score(X_train, y_train_sc), svr_model.score(X_test, y_test_sc)"
      ],
      "metadata": {
        "id": "6diW2VRPb18L"
      },
      "execution_count": null,
      "outputs": []
    },
    {
      "cell_type": "code",
      "source": [
        ""
      ],
      "metadata": {
        "id": "zjbdjoVcyDAg"
      },
      "execution_count": null,
      "outputs": []
    }
  ]
}