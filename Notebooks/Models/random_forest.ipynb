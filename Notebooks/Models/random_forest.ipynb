{
  "cells": [
    {
      "cell_type": "code",
      "execution_count": null,
      "metadata": {
        "id": "zpHCjbd5gqHX"
      },
      "outputs": [],
      "source": [
        "import sys\n",
        "import os\n",
        "\n",
        "module_path = os.path.abspath(os.path.join('..'))\n",
        "if module_path not in sys.path:\n",
        "    sys.path.append(module_path+\"\\\\src\")\n",
        "    sys.path.append(module_path+\"\\\\References\")\n",
        "\n",
        "\n",
        "import data_preprocessing as dp\n",
        "import metrics\n",
        "import genetic_algorithm as ga\n",
        "import matplotlib.pyplot as plt "
      ]
    },
    {
      "cell_type": "code",
      "execution_count": null,
      "metadata": {
        "id": "EpMeUq23gu24"
      },
      "outputs": [],
      "source": [
        "import pandas as pd\n",
        "import numpy as np\n",
        "import random\n",
        "from sklearn.metrics import make_scorer\n",
        "from sklearn.model_selection import train_test_split, cross_val_score, KFold\n",
        "from sklearn.utils import shuffle\n",
        "from sklearn.ensemble import RandomForestRegressor"
      ]
    },
    {
      "cell_type": "code",
      "execution_count": null,
      "metadata": {
        "colab": {
          "base_uri": "https://localhost:8080/",
          "height": 473
        },
        "id": "GLb6mUuwgvzz",
        "outputId": "693e14fc-51e0-4c80-cbce-6d545ec84714"
      },
      "outputs": [
        {
          "data": {
            "text/html": [
              "\n",
              "  <div id=\"df-8abcd3a7-aa71-4faa-971d-c52531494074\">\n",
              "    <div class=\"colab-df-container\">\n",
              "      <div>\n",
              "<style scoped>\n",
              "    .dataframe tbody tr th:only-of-type {\n",
              "        vertical-align: middle;\n",
              "    }\n",
              "\n",
              "    .dataframe tbody tr th {\n",
              "        vertical-align: top;\n",
              "    }\n",
              "\n",
              "    .dataframe thead th {\n",
              "        text-align: right;\n",
              "    }\n",
              "</style>\n",
              "<table border=\"1\" class=\"dataframe\">\n",
              "  <thead>\n",
              "    <tr style=\"text-align: right;\">\n",
              "      <th></th>\n",
              "      <th>Unnamed: 0</th>\n",
              "      <th>Actual duration**1 x Team size**1</th>\n",
              "      <th>Actual duration**1 x Dedicated team members**1</th>\n",
              "      <th>Actual duration**1 x Development environment adequacy**1 x 11-20**1</th>\n",
              "      <th>Dedicated team members**1 x 21-30**1 x Inaccurate requirements specifications and required the re-analysis of the software requirements**1</th>\n",
              "      <th>User resistance**1 x Project manager**1 x 21-30**1</th>\n",
              "      <th>Contract maturity**1 x 21-30**1 x Inaccurate requirements specifications and required the re-analysis of the software requirements**1</th>\n",
              "      <th>Requirment stability**1 x 21-30**1 x Inaccurate requirements specifications and required the re-analysis of the software requirements**1</th>\n",
              "      <th>Actual duration**1 x 21-30**1 x Inaccurate requirements specifications and required the re-analysis of the software requirements**1</th>\n",
              "      <th>Dedicated team members**1 x Tool availability**1 x Technical stability**1</th>\n",
              "      <th>...</th>\n",
              "      <th>Actual duration**1 x Economic instability impact**1 x Dedicated team members**1</th>\n",
              "      <th>Technical stability**1 x 21-30**1 x Accurate requirements specifications used to develop the software system**1</th>\n",
              "      <th>Actual duration**1 x Dedicated team members**1 x Accurate requirements specifications used to develop the software system**1</th>\n",
              "      <th>Users stability**1 x Dedicated team members**1 x 1-5**1</th>\n",
              "      <th>Object points**1 x Project manager**1 x &gt;500**1</th>\n",
              "      <th>Team size**1 x Developer**1 x &gt;500**1</th>\n",
              "      <th>Users stability**1 x Dedicated team members**1 x Accurate requirements specifications used to develop the software system**1</th>\n",
              "      <th>Developer incentives policy**1 x Dedicated team members**1 x Team cohesion**1</th>\n",
              "      <th>Requirment stability**1 x Tool availability**1 x 11-20**1</th>\n",
              "      <th>Actual effort</th>\n",
              "    </tr>\n",
              "  </thead>\n",
              "  <tbody>\n",
              "    <tr>\n",
              "      <th>0</th>\n",
              "      <td>0</td>\n",
              "      <td>18.0</td>\n",
              "      <td>18.0</td>\n",
              "      <td>0</td>\n",
              "      <td>0</td>\n",
              "      <td>0.0</td>\n",
              "      <td>0</td>\n",
              "      <td>0.0</td>\n",
              "      <td>0</td>\n",
              "      <td>42</td>\n",
              "      <td>...</td>\n",
              "      <td>18.0</td>\n",
              "      <td>0</td>\n",
              "      <td>18.0</td>\n",
              "      <td>0.0</td>\n",
              "      <td>0</td>\n",
              "      <td>6</td>\n",
              "      <td>11.333333</td>\n",
              "      <td>96</td>\n",
              "      <td>0.000000</td>\n",
              "      <td>3168.0</td>\n",
              "    </tr>\n",
              "    <tr>\n",
              "      <th>1</th>\n",
              "      <td>1</td>\n",
              "      <td>9.0</td>\n",
              "      <td>9.0</td>\n",
              "      <td>0</td>\n",
              "      <td>0</td>\n",
              "      <td>0.0</td>\n",
              "      <td>0</td>\n",
              "      <td>0.0</td>\n",
              "      <td>0</td>\n",
              "      <td>24</td>\n",
              "      <td>...</td>\n",
              "      <td>27.0</td>\n",
              "      <td>0</td>\n",
              "      <td>0.0</td>\n",
              "      <td>0.0</td>\n",
              "      <td>0</td>\n",
              "      <td>0</td>\n",
              "      <td>0.000000</td>\n",
              "      <td>108</td>\n",
              "      <td>0.000000</td>\n",
              "      <td>1584.0</td>\n",
              "    </tr>\n",
              "    <tr>\n",
              "      <th>2</th>\n",
              "      <td>2</td>\n",
              "      <td>30.0</td>\n",
              "      <td>30.0</td>\n",
              "      <td>0</td>\n",
              "      <td>0</td>\n",
              "      <td>0.0</td>\n",
              "      <td>0</td>\n",
              "      <td>0.0</td>\n",
              "      <td>0</td>\n",
              "      <td>48</td>\n",
              "      <td>...</td>\n",
              "      <td>60.0</td>\n",
              "      <td>0</td>\n",
              "      <td>0.0</td>\n",
              "      <td>0.0</td>\n",
              "      <td>0</td>\n",
              "      <td>0</td>\n",
              "      <td>0.000000</td>\n",
              "      <td>180</td>\n",
              "      <td>0.000000</td>\n",
              "      <td>5280.0</td>\n",
              "    </tr>\n",
              "    <tr>\n",
              "      <th>3</th>\n",
              "      <td>3</td>\n",
              "      <td>36.0</td>\n",
              "      <td>24.0</td>\n",
              "      <td>6</td>\n",
              "      <td>0</td>\n",
              "      <td>0.0</td>\n",
              "      <td>0</td>\n",
              "      <td>0.0</td>\n",
              "      <td>0</td>\n",
              "      <td>32</td>\n",
              "      <td>...</td>\n",
              "      <td>24.0</td>\n",
              "      <td>0</td>\n",
              "      <td>24.0</td>\n",
              "      <td>0.0</td>\n",
              "      <td>0</td>\n",
              "      <td>0</td>\n",
              "      <td>20.000000</td>\n",
              "      <td>16</td>\n",
              "      <td>10.031746</td>\n",
              "      <td>5280.0</td>\n",
              "    </tr>\n",
              "    <tr>\n",
              "      <th>4</th>\n",
              "      <td>4</td>\n",
              "      <td>216.0</td>\n",
              "      <td>216.0</td>\n",
              "      <td>24</td>\n",
              "      <td>0</td>\n",
              "      <td>0.0</td>\n",
              "      <td>0</td>\n",
              "      <td>0.0</td>\n",
              "      <td>0</td>\n",
              "      <td>36</td>\n",
              "      <td>...</td>\n",
              "      <td>648.0</td>\n",
              "      <td>0</td>\n",
              "      <td>216.0</td>\n",
              "      <td>0.0</td>\n",
              "      <td>0</td>\n",
              "      <td>0</td>\n",
              "      <td>17.000000</td>\n",
              "      <td>54</td>\n",
              "      <td>18.603175</td>\n",
              "      <td>38016.0</td>\n",
              "    </tr>\n",
              "  </tbody>\n",
              "</table>\n",
              "<p>5 rows × 44 columns</p>\n",
              "</div>\n",
              "      <button class=\"colab-df-convert\" onclick=\"convertToInteractive('df-8abcd3a7-aa71-4faa-971d-c52531494074')\"\n",
              "              title=\"Convert this dataframe to an interactive table.\"\n",
              "              style=\"display:none;\">\n",
              "        \n",
              "  <svg xmlns=\"http://www.w3.org/2000/svg\" height=\"24px\"viewBox=\"0 0 24 24\"\n",
              "       width=\"24px\">\n",
              "    <path d=\"M0 0h24v24H0V0z\" fill=\"none\"/>\n",
              "    <path d=\"M18.56 5.44l.94 2.06.94-2.06 2.06-.94-2.06-.94-.94-2.06-.94 2.06-2.06.94zm-11 1L8.5 8.5l.94-2.06 2.06-.94-2.06-.94L8.5 2.5l-.94 2.06-2.06.94zm10 10l.94 2.06.94-2.06 2.06-.94-2.06-.94-.94-2.06-.94 2.06-2.06.94z\"/><path d=\"M17.41 7.96l-1.37-1.37c-.4-.4-.92-.59-1.43-.59-.52 0-1.04.2-1.43.59L10.3 9.45l-7.72 7.72c-.78.78-.78 2.05 0 2.83L4 21.41c.39.39.9.59 1.41.59.51 0 1.02-.2 1.41-.59l7.78-7.78 2.81-2.81c.8-.78.8-2.07 0-2.86zM5.41 20L4 18.59l7.72-7.72 1.47 1.35L5.41 20z\"/>\n",
              "  </svg>\n",
              "      </button>\n",
              "      \n",
              "  <style>\n",
              "    .colab-df-container {\n",
              "      display:flex;\n",
              "      flex-wrap:wrap;\n",
              "      gap: 12px;\n",
              "    }\n",
              "\n",
              "    .colab-df-convert {\n",
              "      background-color: #E8F0FE;\n",
              "      border: none;\n",
              "      border-radius: 50%;\n",
              "      cursor: pointer;\n",
              "      display: none;\n",
              "      fill: #1967D2;\n",
              "      height: 32px;\n",
              "      padding: 0 0 0 0;\n",
              "      width: 32px;\n",
              "    }\n",
              "\n",
              "    .colab-df-convert:hover {\n",
              "      background-color: #E2EBFA;\n",
              "      box-shadow: 0px 1px 2px rgba(60, 64, 67, 0.3), 0px 1px 3px 1px rgba(60, 64, 67, 0.15);\n",
              "      fill: #174EA6;\n",
              "    }\n",
              "\n",
              "    [theme=dark] .colab-df-convert {\n",
              "      background-color: #3B4455;\n",
              "      fill: #D2E3FC;\n",
              "    }\n",
              "\n",
              "    [theme=dark] .colab-df-convert:hover {\n",
              "      background-color: #434B5C;\n",
              "      box-shadow: 0px 1px 3px 1px rgba(0, 0, 0, 0.15);\n",
              "      filter: drop-shadow(0px 1px 2px rgba(0, 0, 0, 0.3));\n",
              "      fill: #FFFFFF;\n",
              "    }\n",
              "  </style>\n",
              "\n",
              "      <script>\n",
              "        const buttonEl =\n",
              "          document.querySelector('#df-8abcd3a7-aa71-4faa-971d-c52531494074 button.colab-df-convert');\n",
              "        buttonEl.style.display =\n",
              "          google.colab.kernel.accessAllowed ? 'block' : 'none';\n",
              "\n",
              "        async function convertToInteractive(key) {\n",
              "          const element = document.querySelector('#df-8abcd3a7-aa71-4faa-971d-c52531494074');\n",
              "          const dataTable =\n",
              "            await google.colab.kernel.invokeFunction('convertToInteractive',\n",
              "                                                     [key], {});\n",
              "          if (!dataTable) return;\n",
              "\n",
              "          const docLinkHtml = 'Like what you see? Visit the ' +\n",
              "            '<a target=\"_blank\" href=https://colab.research.google.com/notebooks/data_table.ipynb>data table notebook</a>'\n",
              "            + ' to learn more about interactive tables.';\n",
              "          element.innerHTML = '';\n",
              "          dataTable['output_type'] = 'display_data';\n",
              "          await google.colab.output.renderOutput(dataTable, element);\n",
              "          const docLink = document.createElement('div');\n",
              "          docLink.innerHTML = docLinkHtml;\n",
              "          element.appendChild(docLink);\n",
              "        }\n",
              "      </script>\n",
              "    </div>\n",
              "  </div>\n",
              "  "
            ],
            "text/plain": [
              "   Unnamed: 0  Actual duration**1 x Team size**1  \\\n",
              "0           0                               18.0   \n",
              "1           1                                9.0   \n",
              "2           2                               30.0   \n",
              "3           3                               36.0   \n",
              "4           4                              216.0   \n",
              "\n",
              "   Actual duration**1 x Dedicated team members**1  \\\n",
              "0                                            18.0   \n",
              "1                                             9.0   \n",
              "2                                            30.0   \n",
              "3                                            24.0   \n",
              "4                                           216.0   \n",
              "\n",
              "   Actual duration**1 x Development environment adequacy**1 x 11-20**1  \\\n",
              "0                                                  0                     \n",
              "1                                                  0                     \n",
              "2                                                  0                     \n",
              "3                                                  6                     \n",
              "4                                                 24                     \n",
              "\n",
              "   Dedicated team members**1 x 21-30**1 x Inaccurate requirements specifications and required the re-analysis of the software requirements**1  \\\n",
              "0                                                  0                                                                                            \n",
              "1                                                  0                                                                                            \n",
              "2                                                  0                                                                                            \n",
              "3                                                  0                                                                                            \n",
              "4                                                  0                                                                                            \n",
              "\n",
              "   User resistance**1 x Project manager**1 x 21-30**1  \\\n",
              "0                                                0.0    \n",
              "1                                                0.0    \n",
              "2                                                0.0    \n",
              "3                                                0.0    \n",
              "4                                                0.0    \n",
              "\n",
              "   Contract maturity**1 x 21-30**1 x Inaccurate requirements specifications and required the re-analysis of the software requirements**1  \\\n",
              "0                                                  0                                                                                       \n",
              "1                                                  0                                                                                       \n",
              "2                                                  0                                                                                       \n",
              "3                                                  0                                                                                       \n",
              "4                                                  0                                                                                       \n",
              "\n",
              "   Requirment stability**1 x 21-30**1 x Inaccurate requirements specifications and required the re-analysis of the software requirements**1  \\\n",
              "0                                                0.0                                                                                          \n",
              "1                                                0.0                                                                                          \n",
              "2                                                0.0                                                                                          \n",
              "3                                                0.0                                                                                          \n",
              "4                                                0.0                                                                                          \n",
              "\n",
              "   Actual duration**1 x 21-30**1 x Inaccurate requirements specifications and required the re-analysis of the software requirements**1  \\\n",
              "0                                                  0                                                                                     \n",
              "1                                                  0                                                                                     \n",
              "2                                                  0                                                                                     \n",
              "3                                                  0                                                                                     \n",
              "4                                                  0                                                                                     \n",
              "\n",
              "   Dedicated team members**1 x Tool availability**1 x Technical stability**1  \\\n",
              "0                                                 42                           \n",
              "1                                                 24                           \n",
              "2                                                 48                           \n",
              "3                                                 32                           \n",
              "4                                                 36                           \n",
              "\n",
              "   ...  \\\n",
              "0  ...   \n",
              "1  ...   \n",
              "2  ...   \n",
              "3  ...   \n",
              "4  ...   \n",
              "\n",
              "   Actual duration**1 x Economic instability impact**1 x Dedicated team members**1  \\\n",
              "0                                               18.0                                 \n",
              "1                                               27.0                                 \n",
              "2                                               60.0                                 \n",
              "3                                               24.0                                 \n",
              "4                                              648.0                                 \n",
              "\n",
              "   Technical stability**1 x 21-30**1 x Accurate requirements specifications used to develop the software system**1  \\\n",
              "0                                                  0                                                                 \n",
              "1                                                  0                                                                 \n",
              "2                                                  0                                                                 \n",
              "3                                                  0                                                                 \n",
              "4                                                  0                                                                 \n",
              "\n",
              "   Actual duration**1 x Dedicated team members**1 x Accurate requirements specifications used to develop the software system**1  \\\n",
              "0                                               18.0                                                                              \n",
              "1                                                0.0                                                                              \n",
              "2                                                0.0                                                                              \n",
              "3                                               24.0                                                                              \n",
              "4                                              216.0                                                                              \n",
              "\n",
              "   Users stability**1 x Dedicated team members**1 x 1-5**1  \\\n",
              "0                                                0.0         \n",
              "1                                                0.0         \n",
              "2                                                0.0         \n",
              "3                                                0.0         \n",
              "4                                                0.0         \n",
              "\n",
              "   Object points**1 x Project manager**1 x >500**1  \\\n",
              "0                                                0   \n",
              "1                                                0   \n",
              "2                                                0   \n",
              "3                                                0   \n",
              "4                                                0   \n",
              "\n",
              "   Team size**1 x Developer**1 x >500**1  \\\n",
              "0                                      6   \n",
              "1                                      0   \n",
              "2                                      0   \n",
              "3                                      0   \n",
              "4                                      0   \n",
              "\n",
              "   Users stability**1 x Dedicated team members**1 x Accurate requirements specifications used to develop the software system**1  \\\n",
              "0                                          11.333333                                                                              \n",
              "1                                           0.000000                                                                              \n",
              "2                                           0.000000                                                                              \n",
              "3                                          20.000000                                                                              \n",
              "4                                          17.000000                                                                              \n",
              "\n",
              "   Developer incentives policy**1 x Dedicated team members**1 x Team cohesion**1  \\\n",
              "0                                                 96                               \n",
              "1                                                108                               \n",
              "2                                                180                               \n",
              "3                                                 16                               \n",
              "4                                                 54                               \n",
              "\n",
              "   Requirment stability**1 x Tool availability**1 x 11-20**1  Actual effort  \n",
              "0                                           0.000000                 3168.0  \n",
              "1                                           0.000000                 1584.0  \n",
              "2                                           0.000000                 5280.0  \n",
              "3                                          10.031746                 5280.0  \n",
              "4                                          18.603175                38016.0  \n",
              "\n",
              "[5 rows x 44 columns]"
            ]
          },
          "execution_count": 3,
          "metadata": {},
          "output_type": "execute_result"
        }
      ],
      "source": [
        "data = pd.read_excel('/content/final_data.xlsx')\n",
        "data.head()"
      ]
    },
    {
      "cell_type": "code",
      "execution_count": null,
      "metadata": {
        "id": "aByBWDiPg9Gw"
      },
      "outputs": [],
      "source": [
        "target = data['Actual effort']\n",
        "X = data.drop(['Unnamed: 0', 'Actual effort'], axis = 1)"
      ]
    },
    {
      "cell_type": "code",
      "execution_count": null,
      "metadata": {
        "id": "GxeT4FvCg-SS"
      },
      "outputs": [],
      "source": [
        "X_train, X_test, y_train, y_test = train_test_split(X, target, test_size = 0.3, random_state = 24)"
      ]
    },
    {
      "cell_type": "code",
      "execution_count": null,
      "metadata": {
        "id": "N3a2B5a9g_ds"
      },
      "outputs": [],
      "source": [
        "X_train, X_test = pd.DataFrame(X_train, columns = X.columns), pd.DataFrame(X_test, columns = X.columns)"
      ]
    },
    {
      "cell_type": "code",
      "execution_count": null,
      "metadata": {
        "id": "N4M0L0x3hDSo"
      },
      "outputs": [],
      "source": [
        "scaler, X_train = dp.scaling_numerical_data(X_train.columns, X_train)\n",
        "X_test = scaler.transform(X_test)"
      ]
    },
    {
      "cell_type": "code",
      "execution_count": null,
      "metadata": {
        "id": "jR7kUK1Xhvx3"
      },
      "outputs": [],
      "source": [
        "mmre = make_scorer(metrics.mean_magnitude_of_relative_error)\n",
        "mae = make_scorer(metrics.mean_absolute_error)\n",
        "pred = make_scorer(metrics.pred)\n",
        "mre = make_scorer(metrics.magnitude_relative_error)"
      ]
    },
    {
      "cell_type": "markdown",
      "metadata": {
        "id": "4Kmx3v5IhIGH"
      },
      "source": [
        "## Cross Validation score"
      ]
    },
    {
      "cell_type": "markdown",
      "metadata": {
        "id": "809uJqM2iZi0"
      },
      "source": [
        "### 10K fold "
      ]
    },
    {
      "cell_type": "code",
      "execution_count": null,
      "metadata": {
        "id": "iNH52cEJRTeb"
      },
      "outputs": [],
      "source": [
        "r2_ = cross_val_score(RandomForestRegressor(random_state = 0), X_train, y_train, cv = KFold(10, shuffle=True, random_state = 37))\n",
        "mae_ = cross_val_score(RandomForestRegressor(random_state = 0), X_train, y_train, cv = KFold(10, shuffle=True, random_state = 37), scoring = mae)\n",
        "mmre_ = np.abs(cross_val_score(RandomForestRegressor(random_state = 0), X_train, y_train, cv = KFold(10, shuffle=True, random_state = 37), scoring = mmre))\n",
        "pred_ = cross_val_score(RandomForestRegressor(random_state = 0), X_train, y_train, cv = KFold(10, shuffle=True, random_state = 37), scoring = pred)"
      ]
    },
    {
      "cell_type": "code",
      "execution_count": null,
      "metadata": {
        "colab": {
          "base_uri": "https://localhost:8080/"
        },
        "id": "gVwgA3F5hJjD",
        "outputId": "ac72df1d-346e-4126-ea78-c9eb9a92af4b"
      },
      "outputs": [
        {
          "name": "stdout",
          "output_type": "stream",
          "text": [
            "10k fold cross validation r2 score 0.8870472101999575, std 0.13105191202083785\n",
            "10k fold cross validation mean absolute error 1864.7436805555558, std 1514.1203397891154\n",
            "10k fold cross validation mean magnitude of relative error 0.22243655580587837, std 0.05142455181381492\n",
            "10k fold cross validation pred of 25% 0.7861111111111111, std 0.10415740699584819\n"
          ]
        }
      ],
      "source": [
        "print('10k fold cross validation r2 score {}, std {}'.format(r2_.mean(), r2_.std()))\n",
        "print('10k fold cross validation mean absolute error {}, std {}'.format(mae_.mean(), mae_.std()))\n",
        "print('10k fold cross validation mean magnitude of relative error {}, std {}'.format(mmre_.mean(), mmre_.std()))\n",
        "print('10k fold cross validation pred of 25% {}, std {}'.format(pred_.mean(), pred_.std()))"
      ]
    },
    {
      "cell_type": "markdown",
      "metadata": {
        "id": "Hdp2Qqq2ickE"
      },
      "source": [
        "### 5K fold "
      ]
    },
    {
      "cell_type": "code",
      "execution_count": null,
      "metadata": {
        "id": "lc5zmI_dRt1W"
      },
      "outputs": [],
      "source": [
        "r2_ = cross_val_score(RandomForestRegressor(random_state = 0), X_train, y_train, cv = KFold(5, shuffle=True, random_state = 37))\n",
        "mae_ = cross_val_score(RandomForestRegressor(random_state = 0), X_train, y_train, cv = KFold(5, shuffle=True, random_state = 37), scoring = mae)\n",
        "mmre_ = np.abs(cross_val_score(RandomForestRegressor(random_state = 0), X_train, y_train, cv = KFold(5, shuffle=True, random_state = 37), scoring = mmre))\n",
        "pred_ = cross_val_score(RandomForestRegressor(random_state = 0), X_train, y_train, cv = KFold(5, shuffle=True, random_state = 37), scoring = pred)"
      ]
    },
    {
      "cell_type": "code",
      "execution_count": null,
      "metadata": {
        "colab": {
          "base_uri": "https://localhost:8080/"
        },
        "id": "QsDc7JUthz3l",
        "outputId": "5a39d6a3-db09-4d07-de9e-9b3834d39a69"
      },
      "outputs": [
        {
          "name": "stdout",
          "output_type": "stream",
          "text": [
            "5k fold cross validation r2 score 0.8769382665170055, std 0.14284235009077323\n",
            "5k fold cross validation mean absolute error 1857.3901176470586, std 964.2481100907686\n",
            "5k fold cross validation mean magnitude of relative error 0.23336127797304534, std 0.05881854870574125\n",
            "5k fold cross validation pred of 25% 0.7279411764705882, std 0.08549671678675665\n"
          ]
        }
      ],
      "source": [
        "print('5k fold cross validation r2 score {}, std {}'.format(r2_.mean(), r2_.std()))\n",
        "print('5k fold cross validation mean absolute error {}, std {}'.format(mae_.mean(), mae_.std()))\n",
        "print('5k fold cross validation mean magnitude of relative error {}, std {}'.format(mmre_.mean(), mmre_.std()))\n",
        "print('5k fold cross validation pred of 25% {}, std {}'.format(pred_.mean(), pred_.std()))"
      ]
    },
    {
      "cell_type": "code",
      "execution_count": null,
      "metadata": {
        "colab": {
          "base_uri": "https://localhost:8080/"
        },
        "id": "7sEV8VCOijcT",
        "outputId": "7c3123df-3365-4eeb-80b2-350cce9cce66"
      },
      "outputs": [
        {
          "data": {
            "text/plain": [
              "RandomForestRegressor(random_state=0)"
            ]
          },
          "execution_count": 13,
          "metadata": {},
          "output_type": "execute_result"
        }
      ],
      "source": [
        "rf_model = RandomForestRegressor(random_state = 0)\n",
        "rf_model.fit(X_train, y_train)"
      ]
    },
    {
      "cell_type": "markdown",
      "metadata": {
        "id": "iG3CFxkxkAPa"
      },
      "source": [
        "### Metrics"
      ]
    },
    {
      "cell_type": "code",
      "execution_count": null,
      "metadata": {
        "colab": {
          "base_uri": "https://localhost:8080/"
        },
        "id": "6qp1mVtxj5b-",
        "outputId": "9fb0f405-1509-4789-e741-a8acc274e4c4"
      },
      "outputs": [
        {
          "name": "stderr",
          "output_type": "stream",
          "text": [
            "/usr/local/lib/python3.7/dist-packages/sklearn/base.py:451: UserWarning: X does not have valid feature names, but RandomForestRegressor was fitted with feature names\n",
            "  \"X does not have valid feature names, but\"\n"
          ]
        }
      ],
      "source": [
        "train_predictions = rf_model.predict(X_train)\n",
        "test_predictions = rf_model.predict(X_test)"
      ]
    },
    {
      "cell_type": "code",
      "execution_count": null,
      "metadata": {
        "colab": {
          "base_uri": "https://localhost:8080/",
          "height": 175
        },
        "id": "zRdbnkmXkDVt",
        "outputId": "16bb0020-2431-4faa-879f-782a1a627a01"
      },
      "outputs": [
        {
          "data": {
            "text/html": [
              "\n",
              "  <div id=\"df-e90d26c9-aab8-4f78-8449-3d000e8a872d\">\n",
              "    <div class=\"colab-df-container\">\n",
              "      <div>\n",
              "<style scoped>\n",
              "    .dataframe tbody tr th:only-of-type {\n",
              "        vertical-align: middle;\n",
              "    }\n",
              "\n",
              "    .dataframe tbody tr th {\n",
              "        vertical-align: top;\n",
              "    }\n",
              "\n",
              "    .dataframe thead th {\n",
              "        text-align: right;\n",
              "    }\n",
              "</style>\n",
              "<table border=\"1\" class=\"dataframe\">\n",
              "  <thead>\n",
              "    <tr style=\"text-align: right;\">\n",
              "      <th></th>\n",
              "      <th>Train score</th>\n",
              "      <th>Test score</th>\n",
              "    </tr>\n",
              "  </thead>\n",
              "  <tbody>\n",
              "    <tr>\n",
              "      <th>r2_score</th>\n",
              "      <td>0.963975</td>\n",
              "      <td>0.899441</td>\n",
              "    </tr>\n",
              "    <tr>\n",
              "      <th>MAE</th>\n",
              "      <td>728.315238</td>\n",
              "      <td>1950.468056</td>\n",
              "    </tr>\n",
              "    <tr>\n",
              "      <th>MMRE</th>\n",
              "      <td>0.080575</td>\n",
              "      <td>0.230401</td>\n",
              "    </tr>\n",
              "    <tr>\n",
              "      <th>PRED (0.25)</th>\n",
              "      <td>0.940476</td>\n",
              "      <td>0.694444</td>\n",
              "    </tr>\n",
              "  </tbody>\n",
              "</table>\n",
              "</div>\n",
              "      <button class=\"colab-df-convert\" onclick=\"convertToInteractive('df-e90d26c9-aab8-4f78-8449-3d000e8a872d')\"\n",
              "              title=\"Convert this dataframe to an interactive table.\"\n",
              "              style=\"display:none;\">\n",
              "        \n",
              "  <svg xmlns=\"http://www.w3.org/2000/svg\" height=\"24px\"viewBox=\"0 0 24 24\"\n",
              "       width=\"24px\">\n",
              "    <path d=\"M0 0h24v24H0V0z\" fill=\"none\"/>\n",
              "    <path d=\"M18.56 5.44l.94 2.06.94-2.06 2.06-.94-2.06-.94-.94-2.06-.94 2.06-2.06.94zm-11 1L8.5 8.5l.94-2.06 2.06-.94-2.06-.94L8.5 2.5l-.94 2.06-2.06.94zm10 10l.94 2.06.94-2.06 2.06-.94-2.06-.94-.94-2.06-.94 2.06-2.06.94z\"/><path d=\"M17.41 7.96l-1.37-1.37c-.4-.4-.92-.59-1.43-.59-.52 0-1.04.2-1.43.59L10.3 9.45l-7.72 7.72c-.78.78-.78 2.05 0 2.83L4 21.41c.39.39.9.59 1.41.59.51 0 1.02-.2 1.41-.59l7.78-7.78 2.81-2.81c.8-.78.8-2.07 0-2.86zM5.41 20L4 18.59l7.72-7.72 1.47 1.35L5.41 20z\"/>\n",
              "  </svg>\n",
              "      </button>\n",
              "      \n",
              "  <style>\n",
              "    .colab-df-container {\n",
              "      display:flex;\n",
              "      flex-wrap:wrap;\n",
              "      gap: 12px;\n",
              "    }\n",
              "\n",
              "    .colab-df-convert {\n",
              "      background-color: #E8F0FE;\n",
              "      border: none;\n",
              "      border-radius: 50%;\n",
              "      cursor: pointer;\n",
              "      display: none;\n",
              "      fill: #1967D2;\n",
              "      height: 32px;\n",
              "      padding: 0 0 0 0;\n",
              "      width: 32px;\n",
              "    }\n",
              "\n",
              "    .colab-df-convert:hover {\n",
              "      background-color: #E2EBFA;\n",
              "      box-shadow: 0px 1px 2px rgba(60, 64, 67, 0.3), 0px 1px 3px 1px rgba(60, 64, 67, 0.15);\n",
              "      fill: #174EA6;\n",
              "    }\n",
              "\n",
              "    [theme=dark] .colab-df-convert {\n",
              "      background-color: #3B4455;\n",
              "      fill: #D2E3FC;\n",
              "    }\n",
              "\n",
              "    [theme=dark] .colab-df-convert:hover {\n",
              "      background-color: #434B5C;\n",
              "      box-shadow: 0px 1px 3px 1px rgba(0, 0, 0, 0.15);\n",
              "      filter: drop-shadow(0px 1px 2px rgba(0, 0, 0, 0.3));\n",
              "      fill: #FFFFFF;\n",
              "    }\n",
              "  </style>\n",
              "\n",
              "      <script>\n",
              "        const buttonEl =\n",
              "          document.querySelector('#df-e90d26c9-aab8-4f78-8449-3d000e8a872d button.colab-df-convert');\n",
              "        buttonEl.style.display =\n",
              "          google.colab.kernel.accessAllowed ? 'block' : 'none';\n",
              "\n",
              "        async function convertToInteractive(key) {\n",
              "          const element = document.querySelector('#df-e90d26c9-aab8-4f78-8449-3d000e8a872d');\n",
              "          const dataTable =\n",
              "            await google.colab.kernel.invokeFunction('convertToInteractive',\n",
              "                                                     [key], {});\n",
              "          if (!dataTable) return;\n",
              "\n",
              "          const docLinkHtml = 'Like what you see? Visit the ' +\n",
              "            '<a target=\"_blank\" href=https://colab.research.google.com/notebooks/data_table.ipynb>data table notebook</a>'\n",
              "            + ' to learn more about interactive tables.';\n",
              "          element.innerHTML = '';\n",
              "          dataTable['output_type'] = 'display_data';\n",
              "          await google.colab.output.renderOutput(dataTable, element);\n",
              "          const docLink = document.createElement('div');\n",
              "          docLink.innerHTML = docLinkHtml;\n",
              "          element.appendChild(docLink);\n",
              "        }\n",
              "      </script>\n",
              "    </div>\n",
              "  </div>\n",
              "  "
            ],
            "text/plain": [
              "            Train score   Test score\n",
              "r2_score       0.963975     0.899441\n",
              "MAE          728.315238  1950.468056\n",
              "MMRE           0.080575     0.230401\n",
              "PRED (0.25)    0.940476     0.694444"
            ]
          },
          "execution_count": 15,
          "metadata": {},
          "output_type": "execute_result"
        }
      ],
      "source": [
        "metrics.scores_DataFrame(y_train, y_test, train_predictions, test_predictions)"
      ]
    },
    {
      "cell_type": "code",
      "execution_count": null,
      "metadata": {
        "colab": {
          "base_uri": "https://localhost:8080/",
          "height": 1000
        },
        "id": "o45NOYedkFUl",
        "outputId": "494e83a2-254e-45b8-bef2-0411320640c6"
      },
      "outputs": [
        {
          "name": "stderr",
          "output_type": "stream",
          "text": [
            "/usr/local/lib/python3.7/dist-packages/seaborn/distributions.py:2619: FutureWarning: `distplot` is a deprecated function and will be removed in a future version. Please adapt your code to use either `displot` (a figure-level function with similar flexibility) or `histplot` (an axes-level function for histograms).\n",
            "  warnings.warn(msg, FutureWarning)\n",
            "No handles with labels found to put in legend.\n"
          ]
        },
        {
          "data": {
            "image/png": "[encoded data removed]",
            "text/plain": [
              "<Figure size 1440x576 with 2 Axes>"
            ]
          },
          "metadata": {
            "needs_background": "light"
          },
          "output_type": "display_data"
        },
        {
          "name": "stderr",
          "output_type": "stream",
          "text": [
            "/usr/local/lib/python3.7/dist-packages/seaborn/distributions.py:2619: FutureWarning: `distplot` is a deprecated function and will be removed in a future version. Please adapt your code to use either `displot` (a figure-level function with similar flexibility) or `histplot` (an axes-level function for histograms).\n",
            "  warnings.warn(msg, FutureWarning)\n",
            "No handles with labels found to put in legend.\n"
          ]
        },
        {
          "data": {
            "image/png": "[encoded data removed]",
            "text/plain": [
              "<Figure size 1440x576 with 2 Axes>"
            ]
          },
          "metadata": {
            "needs_background": "light"
          },
          "output_type": "display_data"
        }
      ],
      "source": [
        "metrics.plot_predictions(y_train, train_predictions, (20, 8), 'Train set')\n",
        "metrics.plot_predictions(y_test, test_predictions, (20, 8), 'Test set')"
      ]
    },
    {
      "cell_type": "markdown",
      "metadata": {
        "id": "IEf-Ko0EkQZa"
      },
      "source": [
        "# Hyperparamters optimization"
      ]
    },
    {
      "cell_type": "code",
      "execution_count": null,
      "metadata": {
        "colab": {
          "base_uri": "https://localhost:8080/"
        },
        "id": "zGMx8RBwkKIc",
        "outputId": "c8b2a794-b74d-43f3-a8bc-1956bcc6afe1"
      },
      "outputs": [
        {
          "name": "stderr",
          "output_type": "stream",
          "text": [
            "/usr/local/lib/python3.7/dist-packages/ipykernel_launcher.py:1: DeprecationWarning: `np.int` is a deprecated alias for the builtin `int`. To silence this warning, use `int` by itself. Doing this will not modify any behavior and is safe. When replacing `np.int`, you may wish to use e.g. `np.int64` or `np.int32` to specify the precision. If you wish to review your current use, check the release note link for additional information.\n",
            "Deprecated in NumPy 1.20; for more details and guidance: https://numpy.org/devdocs/release/1.20.0-notes.html#deprecations\n",
            "  \"\"\"Entry point for launching an IPython kernel.\n",
            "/usr/local/lib/python3.7/dist-packages/ipykernel_launcher.py:2: DeprecationWarning: `np.int` is a deprecated alias for the builtin `int`. To silence this warning, use `int` by itself. Doing this will not modify any behavior and is safe. When replacing `np.int`, you may wish to use e.g. `np.int64` or `np.int32` to specify the precision. If you wish to review your current use, check the release note link for additional information.\n",
            "Deprecated in NumPy 1.20; for more details and guidance: https://numpy.org/devdocs/release/1.20.0-notes.html#deprecations\n",
            "  \n",
            "/usr/local/lib/python3.7/dist-packages/ipykernel_launcher.py:3: DeprecationWarning: `np.int` is a deprecated alias for the builtin `int`. To silence this warning, use `int` by itself. Doing this will not modify any behavior and is safe. When replacing `np.int`, you may wish to use e.g. `np.int64` or `np.int32` to specify the precision. If you wish to review your current use, check the release note link for additional information.\n",
            "Deprecated in NumPy 1.20; for more details and guidance: https://numpy.org/devdocs/release/1.20.0-notes.html#deprecations\n",
            "  This is separate from the ipykernel package so we can avoid doing imports until\n"
          ]
        }
      ],
      "source": [
        "parameters = {'n_estimators': np.linspace(1, 250, 250).astype(np.int), 'criterion': ['squared_error', 'absolute_error', 'poisson'],\n",
        "              'max_depth': np.linspace(1, 20, 20).astype(np.int), 'min_samples_split': np.linspace(2, 10, 9).astype(np.int),\n",
        "              'min_samples_leaf': np.linspace(1, 10, 10).astype(np.int), 'max_features': ['sqrt', 'log2', None],\n",
        "              'bootstrap': [True, False]}"
      ]
    },
    {
      "cell_type": "code",
      "execution_count": null,
      "metadata": {
        "id": "3vjjOcB2Cbnk"
      },
      "outputs": [],
      "source": [
        "optimizer = ga.GeneticAlgorithm(RandomForestRegressor(random_state = 0), parameters, X_train, y_train, 6, 0.999, 120, mutation_number = 2)"
      ]
    },
    {
      "cell_type": "code",
      "execution_count": null,
      "metadata": {
        "id": "nEkBjk-8Cj_i"
      },
      "outputs": [],
      "source": [
        "best_parameters = optimizer.evolution()"
      ]
    },
    {
      "cell_type": "code",
      "execution_count": null,
      "metadata": {
        "colab": {
          "base_uri": "https://localhost:8080/"
        },
        "id": "eud9Ofk_TEFM",
        "outputId": "a6fc177e-4cf5-495b-d499-32f35a2f417c"
      },
      "outputs": [
        {
          "data": {
            "text/plain": [
              "{'bootstrap': True,\n",
              " 'criterion': 'absolute_error',\n",
              " 'max_depth': 11,\n",
              " 'max_features': None,\n",
              " 'min_samples_leaf': 1,\n",
              " 'min_samples_split': 2,\n",
              " 'n_estimators': 220}"
            ]
          },
          "execution_count": 20,
          "metadata": {},
          "output_type": "execute_result"
        }
      ],
      "source": [
        "best_parameters[0]"
      ]
    },
    {
      "cell_type": "code",
      "execution_count": null,
      "metadata": {
        "id": "2z3JHYi1w7gu"
      },
      "outputs": [],
      "source": [
        "r2 = cross_val_score(RandomForestRegressor(**best_parameters[0], random_state = 0), X_train, y_train, cv = KFold(5, shuffle=True, random_state = 37))\n",
        "mae =  cross_val_score(RandomForestRegressor(**best_parameters[0], random_state = 0), X_train, y_train, cv = KFold(5, shuffle=True, random_state = 37), scoring = mae)\n",
        "mmre = cross_val_score(RandomForestRegressor(**best_parameters[0], random_state = 0), X_train, y_train, cv = KFold(5, shuffle=True, random_state = 37), scoring = mmre)\n",
        "pred  = cross_val_score(RandomForestRegressor(**best_parameters[0], random_state = 0), X_train, y_train, cv = KFold(5, shuffle=True, random_state = 37), scoring = pred)"
      ]
    },
    {
      "cell_type": "code",
      "execution_count": null,
      "metadata": {
        "colab": {
          "base_uri": "https://localhost:8080/"
        },
        "id": "oD9EK0LMDCGm",
        "outputId": "ee906129-d4d4-45ad-9c8d-3e0710afecb6"
      },
      "outputs": [
        {
          "name": "stdout",
          "output_type": "stream",
          "text": [
            "5k fold cross validation r2 score 0.8891589855913139, 0.15019198348106114\n",
            "5k fold cross validation mean absolute error: 1702.334411764706, 1034.8469584725372\n",
            "5k fold cross validation mean magnitude of relative error: 0.22237595119146075, 0.06034010679449126\n",
            "5k fold cross validation pred of 25%: 0.7286764705882353, 0.13606716487235773\n"
          ]
        }
      ],
      "source": [
        "print('5k fold cross validation r2 score {}, {}'.format(r2.mean(), r2.std()))\n",
        "print('5k fold cross validation mean absolute error: {}, {}'.format(mae.mean(), mae.std()))\n",
        "print('5k fold cross validation mean magnitude of relative error: {}, {}'.format(mmre.mean(), mmre.std()))\n",
        "print('5k fold cross validation pred of 25%: {}, {}'.format(pred.mean(), pred.std()))"
      ]
    },
    {
      "cell_type": "code",
      "execution_count": null,
      "metadata": {
        "colab": {
          "base_uri": "https://localhost:8080/",
          "height": 638
        },
        "id": "Z1VInKuBNlz7",
        "outputId": "37206c4a-2335-4f20-c864-b8748bb43025"
      },
      "outputs": [
        {
          "data": {
            "image/png": "[encoded data removed]",
            "text/plain": [
              "<Figure size 1080x720 with 1 Axes>"
            ]
          },
          "metadata": {
            "needs_background": "light"
          },
          "output_type": "display_data"
        },
        {
          "data": {
            "text/plain": [
              "<Figure size 432x288 with 0 Axes>"
            ]
          },
          "metadata": {},
          "output_type": "display_data"
        }
      ],
      "source": [
        "optimizer.plot_generations_scores('rf_ga')"
      ]
    },
    {
      "cell_type": "code",
      "execution_count": null,
      "metadata": {
        "colab": {
          "base_uri": "https://localhost:8080/"
        },
        "id": "PLwVS8OIwyGQ",
        "outputId": "db1176db-b880-4113-e6fa-945c0676caac"
      },
      "outputs": [
        {
          "data": {
            "text/plain": [
              "{'bootstrap': True,\n",
              " 'criterion': 'absolute_error',\n",
              " 'max_depth': 11,\n",
              " 'max_features': None,\n",
              " 'min_samples_leaf': 1,\n",
              " 'min_samples_split': 2,\n",
              " 'n_estimators': 220}"
            ]
          },
          "execution_count": 23,
          "metadata": {},
          "output_type": "execute_result"
        }
      ],
      "source": [
        "best_parameters[0]"
      ]
    },
    {
      "cell_type": "code",
      "execution_count": null,
      "metadata": {
        "colab": {
          "base_uri": "https://localhost:8080/"
        },
        "id": "sHPFX4DcRuf5",
        "outputId": "ae765b6c-c48d-426a-b8b8-51789e2e3e09"
      },
      "outputs": [
        {
          "data": {
            "text/plain": [
              "RandomForestRegressor(criterion='absolute_error', max_depth=11,\n",
              "                      max_features=None, n_estimators=220, random_state=0)"
            ]
          },
          "execution_count": 24,
          "metadata": {},
          "output_type": "execute_result"
        }
      ],
      "source": [
        "rf_model = RandomForestRegressor(**best_parameters[0], random_state = 0)\n",
        "rf_model.fit(X_train, y_train)"
      ]
    },
    {
      "cell_type": "code",
      "execution_count": null,
      "metadata": {
        "colab": {
          "base_uri": "https://localhost:8080/"
        },
        "id": "0vKpN-28THf2",
        "outputId": "9ba1ecb2-cdd6-47db-9161-fd4dd5365cfe"
      },
      "outputs": [
        {
          "name": "stderr",
          "output_type": "stream",
          "text": [
            "/usr/local/lib/python3.7/dist-packages/sklearn/base.py:451: UserWarning: X does not have valid feature names, but RandomForestRegressor was fitted with feature names\n",
            "  \"X does not have valid feature names, but\"\n"
          ]
        }
      ],
      "source": [
        "train_predictions = rf_model.predict(X_train)\n",
        "test_predictions = rf_model.predict(X_test)"
      ]
    },
    {
      "cell_type": "code",
      "execution_count": null,
      "metadata": {
        "colab": {
          "base_uri": "https://localhost:8080/",
          "height": 175
        },
        "id": "dNxGt3JSTLr8",
        "outputId": "21bd3430-bb70-46e4-81ea-fa28253a1702"
      },
      "outputs": [
        {
          "data": {
            "text/html": [
              "\n",
              "  <div id=\"df-04252aa6-3d8b-4361-9c43-d3b988eba4aa\">\n",
              "    <div class=\"colab-df-container\">\n",
              "      <div>\n",
              "<style scoped>\n",
              "    .dataframe tbody tr th:only-of-type {\n",
              "        vertical-align: middle;\n",
              "    }\n",
              "\n",
              "    .dataframe tbody tr th {\n",
              "        vertical-align: top;\n",
              "    }\n",
              "\n",
              "    .dataframe thead th {\n",
              "        text-align: right;\n",
              "    }\n",
              "</style>\n",
              "<table border=\"1\" class=\"dataframe\">\n",
              "  <thead>\n",
              "    <tr style=\"text-align: right;\">\n",
              "      <th></th>\n",
              "      <th>Train score</th>\n",
              "      <th>Test score</th>\n",
              "    </tr>\n",
              "  </thead>\n",
              "  <tbody>\n",
              "    <tr>\n",
              "      <th>r2_score</th>\n",
              "      <td>0.962544</td>\n",
              "      <td>0.925385</td>\n",
              "    </tr>\n",
              "    <tr>\n",
              "      <th>MAE</th>\n",
              "      <td>724.066667</td>\n",
              "      <td>1519.857639</td>\n",
              "    </tr>\n",
              "    <tr>\n",
              "      <th>MMRE</th>\n",
              "      <td>0.079579</td>\n",
              "      <td>0.206044</td>\n",
              "    </tr>\n",
              "    <tr>\n",
              "      <th>PRED (0.25)</th>\n",
              "      <td>0.940476</td>\n",
              "      <td>0.722222</td>\n",
              "    </tr>\n",
              "  </tbody>\n",
              "</table>\n",
              "</div>\n",
              "      <button class=\"colab-df-convert\" onclick=\"convertToInteractive('df-04252aa6-3d8b-4361-9c43-d3b988eba4aa')\"\n",
              "              title=\"Convert this dataframe to an interactive table.\"\n",
              "              style=\"display:none;\">\n",
              "        \n",
              "  <svg xmlns=\"http://www.w3.org/2000/svg\" height=\"24px\"viewBox=\"0 0 24 24\"\n",
              "       width=\"24px\">\n",
              "    <path d=\"M0 0h24v24H0V0z\" fill=\"none\"/>\n",
              "    <path d=\"M18.56 5.44l.94 2.06.94-2.06 2.06-.94-2.06-.94-.94-2.06-.94 2.06-2.06.94zm-11 1L8.5 8.5l.94-2.06 2.06-.94-2.06-.94L8.5 2.5l-.94 2.06-2.06.94zm10 10l.94 2.06.94-2.06 2.06-.94-2.06-.94-.94-2.06-.94 2.06-2.06.94z\"/><path d=\"M17.41 7.96l-1.37-1.37c-.4-.4-.92-.59-1.43-.59-.52 0-1.04.2-1.43.59L10.3 9.45l-7.72 7.72c-.78.78-.78 2.05 0 2.83L4 21.41c.39.39.9.59 1.41.59.51 0 1.02-.2 1.41-.59l7.78-7.78 2.81-2.81c.8-.78.8-2.07 0-2.86zM5.41 20L4 18.59l7.72-7.72 1.47 1.35L5.41 20z\"/>\n",
              "  </svg>\n",
              "      </button>\n",
              "      \n",
              "  <style>\n",
              "    .colab-df-container {\n",
              "      display:flex;\n",
              "      flex-wrap:wrap;\n",
              "      gap: 12px;\n",
              "    }\n",
              "\n",
              "    .colab-df-convert {\n",
              "      background-color: #E8F0FE;\n",
              "      border: none;\n",
              "      border-radius: 50%;\n",
              "      cursor: pointer;\n",
              "      display: none;\n",
              "      fill: #1967D2;\n",
              "      height: 32px;\n",
              "      padding: 0 0 0 0;\n",
              "      width: 32px;\n",
              "    }\n",
              "\n",
              "    .colab-df-convert:hover {\n",
              "      background-color: #E2EBFA;\n",
              "      box-shadow: 0px 1px 2px rgba(60, 64, 67, 0.3), 0px 1px 3px 1px rgba(60, 64, 67, 0.15);\n",
              "      fill: #174EA6;\n",
              "    }\n",
              "\n",
              "    [theme=dark] .colab-df-convert {\n",
              "      background-color: #3B4455;\n",
              "      fill: #D2E3FC;\n",
              "    }\n",
              "\n",
              "    [theme=dark] .colab-df-convert:hover {\n",
              "      background-color: #434B5C;\n",
              "      box-shadow: 0px 1px 3px 1px rgba(0, 0, 0, 0.15);\n",
              "      filter: drop-shadow(0px 1px 2px rgba(0, 0, 0, 0.3));\n",
              "      fill: #FFFFFF;\n",
              "    }\n",
              "  </style>\n",
              "\n",
              "      <script>\n",
              "        const buttonEl =\n",
              "          document.querySelector('#df-04252aa6-3d8b-4361-9c43-d3b988eba4aa button.colab-df-convert');\n",
              "        buttonEl.style.display =\n",
              "          google.colab.kernel.accessAllowed ? 'block' : 'none';\n",
              "\n",
              "        async function convertToInteractive(key) {\n",
              "          const element = document.querySelector('#df-04252aa6-3d8b-4361-9c43-d3b988eba4aa');\n",
              "          const dataTable =\n",
              "            await google.colab.kernel.invokeFunction('convertToInteractive',\n",
              "                                                     [key], {});\n",
              "          if (!dataTable) return;\n",
              "\n",
              "          const docLinkHtml = 'Like what you see? Visit the ' +\n",
              "            '<a target=\"_blank\" href=https://colab.research.google.com/notebooks/data_table.ipynb>data table notebook</a>'\n",
              "            + ' to learn more about interactive tables.';\n",
              "          element.innerHTML = '';\n",
              "          dataTable['output_type'] = 'display_data';\n",
              "          await google.colab.output.renderOutput(dataTable, element);\n",
              "          const docLink = document.createElement('div');\n",
              "          docLink.innerHTML = docLinkHtml;\n",
              "          element.appendChild(docLink);\n",
              "        }\n",
              "      </script>\n",
              "    </div>\n",
              "  </div>\n",
              "  "
            ],
            "text/plain": [
              "            Train score   Test score\n",
              "r2_score       0.962544     0.925385\n",
              "MAE          724.066667  1519.857639\n",
              "MMRE           0.079579     0.206044\n",
              "PRED (0.25)    0.940476     0.722222"
            ]
          },
          "execution_count": 26,
          "metadata": {},
          "output_type": "execute_result"
        }
      ],
      "source": [
        "metrics.scores_DataFrame(y_train, y_test, train_predictions, test_predictions)"
      ]
    },
    {
      "cell_type": "code",
      "execution_count": null,
      "metadata": {
        "colab": {
          "base_uri": "https://localhost:8080/",
          "height": 1000
        },
        "id": "6JLnFtN6TOa0",
        "outputId": "90439a78-e729-43d2-b140-1756f31b0c9c"
      },
      "outputs": [
        {
          "name": "stderr",
          "output_type": "stream",
          "text": [
            "/usr/local/lib/python3.7/dist-packages/seaborn/distributions.py:2619: FutureWarning: `distplot` is a deprecated function and will be removed in a future version. Please adapt your code to use either `displot` (a figure-level function with similar flexibility) or `histplot` (an axes-level function for histograms).\n",
            "  warnings.warn(msg, FutureWarning)\n",
            "No handles with labels found to put in legend.\n"
          ]
        },
        {
          "data": {
            "image/png": "[encoded data removed]",
            "text/plain": [
              "<Figure size 1440x576 with 2 Axes>"
            ]
          },
          "metadata": {
            "needs_background": "light"
          },
          "output_type": "display_data"
        },
        {
          "name": "stderr",
          "output_type": "stream",
          "text": [
            "/usr/local/lib/python3.7/dist-packages/seaborn/distributions.py:2619: FutureWarning: `distplot` is a deprecated function and will be removed in a future version. Please adapt your code to use either `displot` (a figure-level function with similar flexibility) or `histplot` (an axes-level function for histograms).\n",
            "  warnings.warn(msg, FutureWarning)\n",
            "No handles with labels found to put in legend.\n"
          ]
        },
        {
          "data": {
            "image/png": "[encoded data removed]",
            "text/plain": [
              "<Figure size 1440x576 with 2 Axes>"
            ]
          },
          "metadata": {
            "needs_background": "light"
          },
          "output_type": "display_data"
        }
      ],
      "source": [
        "metrics.plot_predictions(y_train, train_predictions, (20, 8), 'Train set')\n",
        "metrics.plot_predictions(y_test, test_predictions, (20, 8), 'Test set')"
      ]
    },
    {
      "cell_type": "code",
      "execution_count": null,
      "metadata": {
        "id": "kZYjtrCvTZit"
      },
      "outputs": [],
      "source": [
        "def plot_generations_scores(title = ''):\n",
        "    scores = optimizer.get_scores()\n",
        "    fig = plt.figure(figsize = (15, 10))\n",
        "    plt.plot(scores, c = 'seagreen', label = 'Max score per generation')\n",
        "    plt.xlabel('Generation')\n",
        "    plt.ylabel('5K FOLD cv score')\n",
        "    plt.title(title)\n",
        "    plt.legend()\n",
        "    plt.show()\n",
        "    return fig"
      ]
    },
    {
      "cell_type": "code",
      "execution_count": null,
      "metadata": {
        "colab": {
          "base_uri": "https://localhost:8080/",
          "height": 606
        },
        "id": "sqTyRTDS10R0",
        "outputId": "f900d5bc-52ae-4f75-ad51-d42c283bf964"
      },
      "outputs": [
        {
          "data": {
            "image/png": "[encoded data removed]",
            "text/plain": [
              "<Figure size 1080x720 with 1 Axes>"
            ]
          },
          "metadata": {
            "needs_background": "light"
          },
          "output_type": "display_data"
        }
      ],
      "source": [
        "fig = plot_generations_scores('')"
      ]
    },
    {
      "cell_type": "code",
      "execution_count": null,
      "metadata": {
        "id": "eV2-fMpI13vf"
      },
      "outputs": [],
      "source": [
        "fig.savefig('/content/rf_ga.pdf')"
      ]
    },
    {
      "cell_type": "code",
      "execution_count": null,
      "metadata": {
        "id": "nXr9DMfv2OgW"
      },
      "outputs": [],
      "source": []
    }
  ],
  "metadata": {
    "colab": {
      "collapsed_sections": [],
      "name": "random_forest.ipynb",
      "provenance": []
    },
    "kernelspec": {
      "display_name": "Python 3.8.3 ('base')",
      "language": "python",
      "name": "python3"
    },
    "language_info": {
      "name": "python",
      "version": "3.8.3"
    },
    "vscode": {
      "interpreter": {
        "hash": "f08154012ddadd8e950e6e9e035c7a7b32c136e7647e9b7c77e02eb723a8bedb"
      }
    }
  },
  "nbformat": 4,
  "nbformat_minor": 0
}
