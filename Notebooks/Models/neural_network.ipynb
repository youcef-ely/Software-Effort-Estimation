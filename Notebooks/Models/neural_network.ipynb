{
  "nbformat": 4,
  "nbformat_minor": 0,
  "metadata": {
    "colab": {
      "name": "neural_network.ipynb",
      "provenance": [],
      "collapsed_sections": []
    },
    "kernelspec": {
      "name": "python3",
      "display_name": "Python 3"
    },
    "language_info": {
      "name": "python"
    },
    "accelerator": "GPU",
    "gpuClass": "standard"
  },
  "cells": [
    {
      "cell_type": "code",
      "execution_count": 1,
      "metadata": {
        "colab": {
          "base_uri": "https://localhost:8080/"
        },
        "id": "aElxcVNuHpDb",
        "outputId": "5e5bc25d-336c-4eb2-bf9b-d49ed84e7884"
      },
      "outputs": [
        {
          "output_type": "stream",
          "name": "stdout",
          "text": [
            "Looking in indexes: https://pypi.org/simple, https://us-python.pkg.dev/colab-wheels/public/simple/\n",
            "Requirement already satisfied: scikeras in /usr/local/lib/python3.7/dist-packages (0.9.0)\n",
            "Requirement already satisfied: scikit-learn>=1.0.0 in /usr/local/lib/python3.7/dist-packages (from scikeras) (1.0.2)\n",
            "Requirement already satisfied: importlib-metadata>=3 in /usr/local/lib/python3.7/dist-packages (from scikeras) (4.12.0)\n",
            "Requirement already satisfied: packaging>=0.21 in /usr/local/lib/python3.7/dist-packages (from scikeras) (21.3)\n",
            "Requirement already satisfied: zipp>=0.5 in /usr/local/lib/python3.7/dist-packages (from importlib-metadata>=3->scikeras) (3.8.1)\n",
            "Requirement already satisfied: typing-extensions>=3.6.4 in /usr/local/lib/python3.7/dist-packages (from importlib-metadata>=3->scikeras) (4.1.1)\n",
            "Requirement already satisfied: pyparsing!=3.0.5,>=2.0.2 in /usr/local/lib/python3.7/dist-packages (from packaging>=0.21->scikeras) (3.0.9)\n",
            "Requirement already satisfied: joblib>=0.11 in /usr/local/lib/python3.7/dist-packages (from scikit-learn>=1.0.0->scikeras) (1.1.0)\n",
            "Requirement already satisfied: numpy>=1.14.6 in /usr/local/lib/python3.7/dist-packages (from scikit-learn>=1.0.0->scikeras) (1.21.6)\n",
            "Requirement already satisfied: threadpoolctl>=2.0.0 in /usr/local/lib/python3.7/dist-packages (from scikit-learn>=1.0.0->scikeras) (3.1.0)\n",
            "Requirement already satisfied: scipy>=1.1.0 in /usr/local/lib/python3.7/dist-packages (from scikit-learn>=1.0.0->scikeras) (1.7.3)\n"
          ]
        }
      ],
      "source": [
        "pip install scikeras"
      ]
    },
    {
      "cell_type": "code",
      "source": [
        "pip install tensorflow_addons"
      ],
      "metadata": {
        "colab": {
          "base_uri": "https://localhost:8080/"
        },
        "id": "19qjb4FoH3gy",
        "outputId": "fabe6b81-f152-4edd-fc03-4d1f3c6d2449"
      },
      "execution_count": 2,
      "outputs": [
        {
          "output_type": "stream",
          "name": "stdout",
          "text": [
            "Looking in indexes: https://pypi.org/simple, https://us-python.pkg.dev/colab-wheels/public/simple/\n",
            "Requirement already satisfied: tensorflow_addons in /usr/local/lib/python3.7/dist-packages (0.17.1)\n",
            "Requirement already satisfied: packaging in /usr/local/lib/python3.7/dist-packages (from tensorflow_addons) (21.3)\n",
            "Requirement already satisfied: typeguard>=2.7 in /usr/local/lib/python3.7/dist-packages (from tensorflow_addons) (2.7.1)\n",
            "Requirement already satisfied: pyparsing!=3.0.5,>=2.0.2 in /usr/local/lib/python3.7/dist-packages (from packaging->tensorflow_addons) (3.0.9)\n"
          ]
        }
      ]
    },
    {
      "cell_type": "code",
      "source": [
        "import sys\n",
        "import os\n",
        "import time\n",
        "\n",
        "module_path = os.path.abspath(os.path.join('..'))\n",
        "if module_path not in sys.path:\n",
        "    sys.path.append(module_path+\"\\\\src\")\n",
        "    sys.path.append(module_path+\"\\\\References\")\n",
        "\n",
        "\n",
        "import data_preprocessing as dp\n",
        "import metrics\n",
        "from neural_network import NeuralNetwork\n",
        "from ga_neural_network import GeneticAlgorithm"
      ],
      "metadata": {
        "id": "RLmDoKA3Htq6"
      },
      "execution_count": 3,
      "outputs": []
    },
    {
      "cell_type": "code",
      "source": [
        "import tensorflow_addons as tfa"
      ],
      "metadata": {
        "id": "bxsYG2LTN3sT"
      },
      "execution_count": 4,
      "outputs": []
    },
    {
      "cell_type": "code",
      "source": [
        "import pandas as pd\n",
        "import numpy as np\n",
        "import random\n",
        "from sklearn.metrics import make_scorer\n",
        "from sklearn.preprocessing import StandardScaler\n",
        "from sklearn.model_selection import train_test_split, cross_val_score, KFold"
      ],
      "metadata": {
        "id": "ndsBpST_H34D"
      },
      "execution_count": 5,
      "outputs": []
    },
    {
      "cell_type": "code",
      "source": [
        "import tensorflow as tf\n",
        "device_name = tf.test.gpu_device_name()\n",
        "if len(device_name) > 0:\n",
        "    print(\"Found GPU at: {}\".format(device_name))\n",
        "else:\n",
        "    device_name = \"/device:CPU:0\"\n",
        "    print(\"No GPU, using {}.\".format(device_name))"
      ],
      "metadata": {
        "colab": {
          "base_uri": "https://localhost:8080/"
        },
        "id": "hyx1g4qV5rpy",
        "outputId": "0c1ef4f5-ef3b-41b5-e47a-cf23ecc289b8"
      },
      "execution_count": 6,
      "outputs": [
        {
          "output_type": "stream",
          "name": "stdout",
          "text": [
            "No GPU, using /device:CPU:0.\n"
          ]
        }
      ]
    },
    {
      "cell_type": "code",
      "source": [
        "data = pd.read_excel('/content/final_data.xlsx')\n",
        "data.head()"
      ],
      "metadata": {
        "colab": {
          "base_uri": "https://localhost:8080/",
          "height": 473
        },
        "id": "4W6va9RtIPGo",
        "outputId": "92ee0bbc-b8b9-49bc-b721-25fe07197336"
      },
      "execution_count": 7,
      "outputs": [
        {
          "output_type": "execute_result",
          "data": {
            "text/plain": [
              "   Unnamed: 0  Team size**1 x Actual duration**1  \\\n",
              "0           0                               18.0   \n",
              "1           1                                9.0   \n",
              "2           2                               30.0   \n",
              "3           3                               36.0   \n",
              "4           4                              216.0   \n",
              "\n",
              "   Dedicated team members**1 x Actual duration**1  \\\n",
              "0                                            18.0   \n",
              "1                                             9.0   \n",
              "2                                            30.0   \n",
              "3                                            24.0   \n",
              "4                                           216.0   \n",
              "\n",
              "   Actual duration**1 x Development environment adequacy**1 x 11-20**1  \\\n",
              "0                                                  0                     \n",
              "1                                                  0                     \n",
              "2                                                  0                     \n",
              "3                                                  6                     \n",
              "4                                                 24                     \n",
              "\n",
              "   Team size**1 x 21-30**1 x Inaccurate requirements specifications and required the re-analysis of the software requirements**1  \\\n",
              "0                                                  0                                                                               \n",
              "1                                                  0                                                                               \n",
              "2                                                  0                                                                               \n",
              "3                                                  0                                                                               \n",
              "4                                                  0                                                                               \n",
              "\n",
              "   User resistance**1 x Project manager**1 x 21-30**1  \\\n",
              "0                                                0.0    \n",
              "1                                                0.0    \n",
              "2                                                0.0    \n",
              "3                                                0.0    \n",
              "4                                                0.0    \n",
              "\n",
              "   Development environment adequacy**1 x 21-30**1 x Inaccurate requirements specifications and required the re-analysis of the software requirements**1  \\\n",
              "0                                                  0                                                                                                      \n",
              "1                                                  0                                                                                                      \n",
              "2                                                  0                                                                                                      \n",
              "3                                                  0                                                                                                      \n",
              "4                                                  0                                                                                                      \n",
              "\n",
              "   Actual duration**1 x 21-30**1 x Inaccurate requirements specifications and required the re-analysis of the software requirements**1  \\\n",
              "0                                                  0                                                                                     \n",
              "1                                                  0                                                                                     \n",
              "2                                                  0                                                                                     \n",
              "3                                                  0                                                                                     \n",
              "4                                                  0                                                                                     \n",
              "\n",
              "   Requirment stability**1 x 21-30**1 x Inaccurate requirements specifications and required the re-analysis of the software requirements**1  \\\n",
              "0                                                0.0                                                                                          \n",
              "1                                                0.0                                                                                          \n",
              "2                                                0.0                                                                                          \n",
              "3                                                0.0                                                                                          \n",
              "4                                                0.0                                                                                          \n",
              "\n",
              "   Dedicated team members**1 x Technical stability**1 x Tool availability**1  \\\n",
              "0                                                 42                           \n",
              "1                                                 24                           \n",
              "2                                                 48                           \n",
              "3                                                 32                           \n",
              "4                                                 36                           \n",
              "\n",
              "   ...  \\\n",
              "0  ...   \n",
              "1  ...   \n",
              "2  ...   \n",
              "3  ...   \n",
              "4  ...   \n",
              "\n",
              "   Dedicated team members**1 x Actual duration**1 x Economic instability impact**1  \\\n",
              "0                                               18.0                                 \n",
              "1                                               27.0                                 \n",
              "2                                               60.0                                 \n",
              "3                                               24.0                                 \n",
              "4                                              648.0                                 \n",
              "\n",
              "   Technical stability**1 x 21-30**1 x Accurate requirements specifications used to develop the software system**1  \\\n",
              "0                                                  0                                                                 \n",
              "1                                                  0                                                                 \n",
              "2                                                  0                                                                 \n",
              "3                                                  0                                                                 \n",
              "4                                                  0                                                                 \n",
              "\n",
              "   Dedicated team members**1 x Actual duration**1 x Accurate requirements specifications used to develop the software system**1  \\\n",
              "0                                               18.0                                                                              \n",
              "1                                                0.0                                                                              \n",
              "2                                                0.0                                                                              \n",
              "3                                               24.0                                                                              \n",
              "4                                              216.0                                                                              \n",
              "\n",
              "   Dedicated team members**1 x Users stability**1 x 1-5**1  \\\n",
              "0                                                0.0         \n",
              "1                                                0.0         \n",
              "2                                                0.0         \n",
              "3                                                0.0         \n",
              "4                                                0.0         \n",
              "\n",
              "   Object points**1 x Project manager**1 x >500**1  \\\n",
              "0                                                0   \n",
              "1                                                0   \n",
              "2                                                0   \n",
              "3                                                0   \n",
              "4                                                0   \n",
              "\n",
              "   Team size**1 x Developer**1 x >500**1  \\\n",
              "0                                      6   \n",
              "1                                      0   \n",
              "2                                      0   \n",
              "3                                      0   \n",
              "4                                      0   \n",
              "\n",
              "   Dedicated team members**1 x Users stability**1 x Accurate requirements specifications used to develop the software system**1  \\\n",
              "0                                          11.333333                                                                              \n",
              "1                                           0.000000                                                                              \n",
              "2                                           0.000000                                                                              \n",
              "3                                          20.000000                                                                              \n",
              "4                                          17.000000                                                                              \n",
              "\n",
              "   Dedicated team members**1 x Team cohesion**1 x Developer incentives policy**1  \\\n",
              "0                                                 96                               \n",
              "1                                                108                               \n",
              "2                                                180                               \n",
              "3                                                 16                               \n",
              "4                                                 54                               \n",
              "\n",
              "   Requirment stability**1 x Tool availability**1 x 11-20**1  Actual effort  \n",
              "0                                           0.000000                 3168.0  \n",
              "1                                           0.000000                 1584.0  \n",
              "2                                           0.000000                 5280.0  \n",
              "3                                          10.031746                 5280.0  \n",
              "4                                          18.603175                38016.0  \n",
              "\n",
              "[5 rows x 44 columns]"
            ],
            "text/html": [
              "\n",
              "  <div id=\"df-40c8d781-b67a-4458-85ce-9fd85a90fb8d\">\n",
              "    <div class=\"colab-df-container\">\n",
              "      <div>\n",
              "<style scoped>\n",
              "    .dataframe tbody tr th:only-of-type {\n",
              "        vertical-align: middle;\n",
              "    }\n",
              "\n",
              "    .dataframe tbody tr th {\n",
              "        vertical-align: top;\n",
              "    }\n",
              "\n",
              "    .dataframe thead th {\n",
              "        text-align: right;\n",
              "    }\n",
              "</style>\n",
              "<table border=\"1\" class=\"dataframe\">\n",
              "  <thead>\n",
              "    <tr style=\"text-align: right;\">\n",
              "      <th></th>\n",
              "      <th>Unnamed: 0</th>\n",
              "      <th>Team size**1 x Actual duration**1</th>\n",
              "      <th>Dedicated team members**1 x Actual duration**1</th>\n",
              "      <th>Actual duration**1 x Development environment adequacy**1 x 11-20**1</th>\n",
              "      <th>Team size**1 x 21-30**1 x Inaccurate requirements specifications and required the re-analysis of the software requirements**1</th>\n",
              "      <th>User resistance**1 x Project manager**1 x 21-30**1</th>\n",
              "      <th>Development environment adequacy**1 x 21-30**1 x Inaccurate requirements specifications and required the re-analysis of the software requirements**1</th>\n",
              "      <th>Actual duration**1 x 21-30**1 x Inaccurate requirements specifications and required the re-analysis of the software requirements**1</th>\n",
              "      <th>Requirment stability**1 x 21-30**1 x Inaccurate requirements specifications and required the re-analysis of the software requirements**1</th>\n",
              "      <th>Dedicated team members**1 x Technical stability**1 x Tool availability**1</th>\n",
              "      <th>...</th>\n",
              "      <th>Dedicated team members**1 x Actual duration**1 x Economic instability impact**1</th>\n",
              "      <th>Technical stability**1 x 21-30**1 x Accurate requirements specifications used to develop the software system**1</th>\n",
              "      <th>Dedicated team members**1 x Actual duration**1 x Accurate requirements specifications used to develop the software system**1</th>\n",
              "      <th>Dedicated team members**1 x Users stability**1 x 1-5**1</th>\n",
              "      <th>Object points**1 x Project manager**1 x &gt;500**1</th>\n",
              "      <th>Team size**1 x Developer**1 x &gt;500**1</th>\n",
              "      <th>Dedicated team members**1 x Users stability**1 x Accurate requirements specifications used to develop the software system**1</th>\n",
              "      <th>Dedicated team members**1 x Team cohesion**1 x Developer incentives policy**1</th>\n",
              "      <th>Requirment stability**1 x Tool availability**1 x 11-20**1</th>\n",
              "      <th>Actual effort</th>\n",
              "    </tr>\n",
              "  </thead>\n",
              "  <tbody>\n",
              "    <tr>\n",
              "      <th>0</th>\n",
              "      <td>0</td>\n",
              "      <td>18.0</td>\n",
              "      <td>18.0</td>\n",
              "      <td>0</td>\n",
              "      <td>0</td>\n",
              "      <td>0.0</td>\n",
              "      <td>0</td>\n",
              "      <td>0</td>\n",
              "      <td>0.0</td>\n",
              "      <td>42</td>\n",
              "      <td>...</td>\n",
              "      <td>18.0</td>\n",
              "      <td>0</td>\n",
              "      <td>18.0</td>\n",
              "      <td>0.0</td>\n",
              "      <td>0</td>\n",
              "      <td>6</td>\n",
              "      <td>11.333333</td>\n",
              "      <td>96</td>\n",
              "      <td>0.000000</td>\n",
              "      <td>3168.0</td>\n",
              "    </tr>\n",
              "    <tr>\n",
              "      <th>1</th>\n",
              "      <td>1</td>\n",
              "      <td>9.0</td>\n",
              "      <td>9.0</td>\n",
              "      <td>0</td>\n",
              "      <td>0</td>\n",
              "      <td>0.0</td>\n",
              "      <td>0</td>\n",
              "      <td>0</td>\n",
              "      <td>0.0</td>\n",
              "      <td>24</td>\n",
              "      <td>...</td>\n",
              "      <td>27.0</td>\n",
              "      <td>0</td>\n",
              "      <td>0.0</td>\n",
              "      <td>0.0</td>\n",
              "      <td>0</td>\n",
              "      <td>0</td>\n",
              "      <td>0.000000</td>\n",
              "      <td>108</td>\n",
              "      <td>0.000000</td>\n",
              "      <td>1584.0</td>\n",
              "    </tr>\n",
              "    <tr>\n",
              "      <th>2</th>\n",
              "      <td>2</td>\n",
              "      <td>30.0</td>\n",
              "      <td>30.0</td>\n",
              "      <td>0</td>\n",
              "      <td>0</td>\n",
              "      <td>0.0</td>\n",
              "      <td>0</td>\n",
              "      <td>0</td>\n",
              "      <td>0.0</td>\n",
              "      <td>48</td>\n",
              "      <td>...</td>\n",
              "      <td>60.0</td>\n",
              "      <td>0</td>\n",
              "      <td>0.0</td>\n",
              "      <td>0.0</td>\n",
              "      <td>0</td>\n",
              "      <td>0</td>\n",
              "      <td>0.000000</td>\n",
              "      <td>180</td>\n",
              "      <td>0.000000</td>\n",
              "      <td>5280.0</td>\n",
              "    </tr>\n",
              "    <tr>\n",
              "      <th>3</th>\n",
              "      <td>3</td>\n",
              "      <td>36.0</td>\n",
              "      <td>24.0</td>\n",
              "      <td>6</td>\n",
              "      <td>0</td>\n",
              "      <td>0.0</td>\n",
              "      <td>0</td>\n",
              "      <td>0</td>\n",
              "      <td>0.0</td>\n",
              "      <td>32</td>\n",
              "      <td>...</td>\n",
              "      <td>24.0</td>\n",
              "      <td>0</td>\n",
              "      <td>24.0</td>\n",
              "      <td>0.0</td>\n",
              "      <td>0</td>\n",
              "      <td>0</td>\n",
              "      <td>20.000000</td>\n",
              "      <td>16</td>\n",
              "      <td>10.031746</td>\n",
              "      <td>5280.0</td>\n",
              "    </tr>\n",
              "    <tr>\n",
              "      <th>4</th>\n",
              "      <td>4</td>\n",
              "      <td>216.0</td>\n",
              "      <td>216.0</td>\n",
              "      <td>24</td>\n",
              "      <td>0</td>\n",
              "      <td>0.0</td>\n",
              "      <td>0</td>\n",
              "      <td>0</td>\n",
              "      <td>0.0</td>\n",
              "      <td>36</td>\n",
              "      <td>...</td>\n",
              "      <td>648.0</td>\n",
              "      <td>0</td>\n",
              "      <td>216.0</td>\n",
              "      <td>0.0</td>\n",
              "      <td>0</td>\n",
              "      <td>0</td>\n",
              "      <td>17.000000</td>\n",
              "      <td>54</td>\n",
              "      <td>18.603175</td>\n",
              "      <td>38016.0</td>\n",
              "    </tr>\n",
              "  </tbody>\n",
              "</table>\n",
              "<p>5 rows × 44 columns</p>\n",
              "</div>\n",
              "      <button class=\"colab-df-convert\" onclick=\"convertToInteractive('df-40c8d781-b67a-4458-85ce-9fd85a90fb8d')\"\n",
              "              title=\"Convert this dataframe to an interactive table.\"\n",
              "              style=\"display:none;\">\n",
              "        \n",
              "  <svg xmlns=\"http://www.w3.org/2000/svg\" height=\"24px\"viewBox=\"0 0 24 24\"\n",
              "       width=\"24px\">\n",
              "    <path d=\"M0 0h24v24H0V0z\" fill=\"none\"/>\n",
              "    <path d=\"M18.56 5.44l.94 2.06.94-2.06 2.06-.94-2.06-.94-.94-2.06-.94 2.06-2.06.94zm-11 1L8.5 8.5l.94-2.06 2.06-.94-2.06-.94L8.5 2.5l-.94 2.06-2.06.94zm10 10l.94 2.06.94-2.06 2.06-.94-2.06-.94-.94-2.06-.94 2.06-2.06.94z\"/><path d=\"M17.41 7.96l-1.37-1.37c-.4-.4-.92-.59-1.43-.59-.52 0-1.04.2-1.43.59L10.3 9.45l-7.72 7.72c-.78.78-.78 2.05 0 2.83L4 21.41c.39.39.9.59 1.41.59.51 0 1.02-.2 1.41-.59l7.78-7.78 2.81-2.81c.8-.78.8-2.07 0-2.86zM5.41 20L4 18.59l7.72-7.72 1.47 1.35L5.41 20z\"/>\n",
              "  </svg>\n",
              "      </button>\n",
              "      \n",
              "  <style>\n",
              "    .colab-df-container {\n",
              "      display:flex;\n",
              "      flex-wrap:wrap;\n",
              "      gap: 12px;\n",
              "    }\n",
              "\n",
              "    .colab-df-convert {\n",
              "      background-color: #E8F0FE;\n",
              "      border: none;\n",
              "      border-radius: 50%;\n",
              "      cursor: pointer;\n",
              "      display: none;\n",
              "      fill: #1967D2;\n",
              "      height: 32px;\n",
              "      padding: 0 0 0 0;\n",
              "      width: 32px;\n",
              "    }\n",
              "\n",
              "    .colab-df-convert:hover {\n",
              "      background-color: #E2EBFA;\n",
              "      box-shadow: 0px 1px 2px rgba(60, 64, 67, 0.3), 0px 1px 3px 1px rgba(60, 64, 67, 0.15);\n",
              "      fill: #174EA6;\n",
              "    }\n",
              "\n",
              "    [theme=dark] .colab-df-convert {\n",
              "      background-color: #3B4455;\n",
              "      fill: #D2E3FC;\n",
              "    }\n",
              "\n",
              "    [theme=dark] .colab-df-convert:hover {\n",
              "      background-color: #434B5C;\n",
              "      box-shadow: 0px 1px 3px 1px rgba(0, 0, 0, 0.15);\n",
              "      filter: drop-shadow(0px 1px 2px rgba(0, 0, 0, 0.3));\n",
              "      fill: #FFFFFF;\n",
              "    }\n",
              "  </style>\n",
              "\n",
              "      <script>\n",
              "        const buttonEl =\n",
              "          document.querySelector('#df-40c8d781-b67a-4458-85ce-9fd85a90fb8d button.colab-df-convert');\n",
              "        buttonEl.style.display =\n",
              "          google.colab.kernel.accessAllowed ? 'block' : 'none';\n",
              "\n",
              "        async function convertToInteractive(key) {\n",
              "          const element = document.querySelector('#df-40c8d781-b67a-4458-85ce-9fd85a90fb8d');\n",
              "          const dataTable =\n",
              "            await google.colab.kernel.invokeFunction('convertToInteractive',\n",
              "                                                     [key], {});\n",
              "          if (!dataTable) return;\n",
              "\n",
              "          const docLinkHtml = 'Like what you see? Visit the ' +\n",
              "            '<a target=\"_blank\" href=https://colab.research.google.com/notebooks/data_table.ipynb>data table notebook</a>'\n",
              "            + ' to learn more about interactive tables.';\n",
              "          element.innerHTML = '';\n",
              "          dataTable['output_type'] = 'display_data';\n",
              "          await google.colab.output.renderOutput(dataTable, element);\n",
              "          const docLink = document.createElement('div');\n",
              "          docLink.innerHTML = docLinkHtml;\n",
              "          element.appendChild(docLink);\n",
              "        }\n",
              "      </script>\n",
              "    </div>\n",
              "  </div>\n",
              "  "
            ]
          },
          "metadata": {},
          "execution_count": 7
        }
      ]
    },
    {
      "cell_type": "code",
      "source": [
        "target = data['Actual effort']\n",
        "X = data.drop(['Unnamed: 0', 'Actual effort'], axis = 1)"
      ],
      "metadata": {
        "id": "RPGqD3MuIQhf"
      },
      "execution_count": 8,
      "outputs": []
    },
    {
      "cell_type": "code",
      "source": [
        "X_train, X_test, y_train, y_test = train_test_split(X, target, test_size = 0.2, random_state = 24)\n",
        "X_train, X_test = pd.DataFrame(X_train, columns = X.columns), pd.DataFrame(X_test, columns = X.columns)\n",
        "scaler, X_train = dp.scaling_numerical_data(X_train.columns, X_train)\n",
        "X_test = scaler.transform(X_test)"
      ],
      "metadata": {
        "id": "d0dA1uh4ISAc"
      },
      "execution_count": 9,
      "outputs": []
    },
    {
      "cell_type": "code",
      "source": [
        "y_scaler = StandardScaler()\n",
        "y_train_sc = y_scaler.fit_transform(y_train.to_numpy().reshape((-1, 1))) \n",
        "y_test_sc = y_scaler.fit_transform(y_test.to_numpy().reshape((-1, 1))) "
      ],
      "metadata": {
        "id": "jREfPeHKITQi"
      },
      "execution_count": 10,
      "outputs": []
    },
    {
      "cell_type": "code",
      "source": [
        "with tf.device(device_name):\n",
        "  neuralNetwork = NeuralNetwork({'learning_rate': 0.01, 'momentum': 0.1, 'Dropout': 0.01, 'batch_size': 32}, X_train, y_train, 3000, 10)\n",
        "  scores = neuralNetwork.cv_scores(metrics)\n",
        "  time.time()"
      ],
      "metadata": {
        "id": "s5d9E9QeIUjW"
      },
      "execution_count": 31,
      "outputs": []
    },
    {
      "cell_type": "code",
      "source": [
        "print('5k fold cross validation r2 score {}, std {}'.format(scores['r2'].mean(), scores['r2'].std()))\n",
        "print('5k fold cross validation mean absolute error {}, std {}'.format(scores['mae'].mean(), scores['mae'].std()))\n",
        "print('5k fold cross validation mean magnitude of relative error {}, std {}'.format(scores['mmre'].mean(), scores['mmre'].std()))\n",
        "print('5k fold cross validation pred of 25% {}, std {}'.format(scores['pred'].mean(), scores['pred'].std()))"
      ],
      "metadata": {
        "colab": {
          "base_uri": "https://localhost:8080/"
        },
        "id": "G8wSW8FmIV__",
        "outputId": "2f0c3df4-1741-4593-c57a-a6e19419dcb1"
      },
      "execution_count": 33,
      "outputs": [
        {
          "output_type": "stream",
          "name": "stdout",
          "text": [
            "5k fold cross validation r2 score 0.9792344164538322, std 0.035027082688558794\n",
            "5k fold cross validation mean absolute error 570.223310546875, std 478.1654800886633\n",
            "5k fold cross validation mean magnitude of relative error 2.855058564422535, std 0.6667048314579468\n",
            "5k fold cross validation pred of 25% 0.8126315789473685, std 0.08510055971119045\n"
          ]
        }
      ]
    },
    {
      "cell_type": "code",
      "source": [
        "neuralNetwork.fit()\n",
        "train_predictions = neuralNetwork.predict(X_train)\n",
        "test_predictions = neuralNetwork.predict(X_test)"
      ],
      "metadata": {
        "colab": {
          "base_uri": "https://localhost:8080/"
        },
        "id": "B45NRBr0IYoB",
        "outputId": "fdd170fc-fb70-45cd-f1c8-7650b3160541"
      },
      "execution_count": 34,
      "outputs": [
        {
          "output_type": "stream",
          "name": "stdout",
          "text": [
            "3/3 [==============================] - 0s 18ms/step\n",
            "1/1 [==============================] - 0s 119ms/step\n"
          ]
        }
      ]
    },
    {
      "cell_type": "code",
      "source": [
        "metrics.scores_DataFrame(y_train, y_test, train_predictions.reshape((train_predictions.shape[0],)), test_predictions.reshape((test_predictions.shape[0],)))"
      ],
      "metadata": {
        "colab": {
          "base_uri": "https://localhost:8080/",
          "height": 175
        },
        "id": "h7nDxtB5IemG",
        "outputId": "ba6c5fb8-5428-43fd-d449-ac7ceee3ac14"
      },
      "execution_count": 35,
      "outputs": [
        {
          "output_type": "execute_result",
          "data": {
            "text/plain": [
              "            Train score  Test score\n",
              "r2_score       0.992034    0.997812\n",
              "MAE          478.003438  589.632731\n",
              "MMRE           0.198939    0.140538\n",
              "PRED (0.25)    0.864583    0.833333"
            ],
            "text/html": [
              "\n",
              "  <div id=\"df-543e066b-a2c8-4c77-af86-3cd8eb9d0b76\">\n",
              "    <div class=\"colab-df-container\">\n",
              "      <div>\n",
              "<style scoped>\n",
              "    .dataframe tbody tr th:only-of-type {\n",
              "        vertical-align: middle;\n",
              "    }\n",
              "\n",
              "    .dataframe tbody tr th {\n",
              "        vertical-align: top;\n",
              "    }\n",
              "\n",
              "    .dataframe thead th {\n",
              "        text-align: right;\n",
              "    }\n",
              "</style>\n",
              "<table border=\"1\" class=\"dataframe\">\n",
              "  <thead>\n",
              "    <tr style=\"text-align: right;\">\n",
              "      <th></th>\n",
              "      <th>Train score</th>\n",
              "      <th>Test score</th>\n",
              "    </tr>\n",
              "  </thead>\n",
              "  <tbody>\n",
              "    <tr>\n",
              "      <th>r2_score</th>\n",
              "      <td>0.992034</td>\n",
              "      <td>0.997812</td>\n",
              "    </tr>\n",
              "    <tr>\n",
              "      <th>MAE</th>\n",
              "      <td>478.003438</td>\n",
              "      <td>589.632731</td>\n",
              "    </tr>\n",
              "    <tr>\n",
              "      <th>MMRE</th>\n",
              "      <td>0.198939</td>\n",
              "      <td>0.140538</td>\n",
              "    </tr>\n",
              "    <tr>\n",
              "      <th>PRED (0.25)</th>\n",
              "      <td>0.864583</td>\n",
              "      <td>0.833333</td>\n",
              "    </tr>\n",
              "  </tbody>\n",
              "</table>\n",
              "</div>\n",
              "      <button class=\"colab-df-convert\" onclick=\"convertToInteractive('df-543e066b-a2c8-4c77-af86-3cd8eb9d0b76')\"\n",
              "              title=\"Convert this dataframe to an interactive table.\"\n",
              "              style=\"display:none;\">\n",
              "        \n",
              "  <svg xmlns=\"http://www.w3.org/2000/svg\" height=\"24px\"viewBox=\"0 0 24 24\"\n",
              "       width=\"24px\">\n",
              "    <path d=\"M0 0h24v24H0V0z\" fill=\"none\"/>\n",
              "    <path d=\"M18.56 5.44l.94 2.06.94-2.06 2.06-.94-2.06-.94-.94-2.06-.94 2.06-2.06.94zm-11 1L8.5 8.5l.94-2.06 2.06-.94-2.06-.94L8.5 2.5l-.94 2.06-2.06.94zm10 10l.94 2.06.94-2.06 2.06-.94-2.06-.94-.94-2.06-.94 2.06-2.06.94z\"/><path d=\"M17.41 7.96l-1.37-1.37c-.4-.4-.92-.59-1.43-.59-.52 0-1.04.2-1.43.59L10.3 9.45l-7.72 7.72c-.78.78-.78 2.05 0 2.83L4 21.41c.39.39.9.59 1.41.59.51 0 1.02-.2 1.41-.59l7.78-7.78 2.81-2.81c.8-.78.8-2.07 0-2.86zM5.41 20L4 18.59l7.72-7.72 1.47 1.35L5.41 20z\"/>\n",
              "  </svg>\n",
              "      </button>\n",
              "      \n",
              "  <style>\n",
              "    .colab-df-container {\n",
              "      display:flex;\n",
              "      flex-wrap:wrap;\n",
              "      gap: 12px;\n",
              "    }\n",
              "\n",
              "    .colab-df-convert {\n",
              "      background-color: #E8F0FE;\n",
              "      border: none;\n",
              "      border-radius: 50%;\n",
              "      cursor: pointer;\n",
              "      display: none;\n",
              "      fill: #1967D2;\n",
              "      height: 32px;\n",
              "      padding: 0 0 0 0;\n",
              "      width: 32px;\n",
              "    }\n",
              "\n",
              "    .colab-df-convert:hover {\n",
              "      background-color: #E2EBFA;\n",
              "      box-shadow: 0px 1px 2px rgba(60, 64, 67, 0.3), 0px 1px 3px 1px rgba(60, 64, 67, 0.15);\n",
              "      fill: #174EA6;\n",
              "    }\n",
              "\n",
              "    [theme=dark] .colab-df-convert {\n",
              "      background-color: #3B4455;\n",
              "      fill: #D2E3FC;\n",
              "    }\n",
              "\n",
              "    [theme=dark] .colab-df-convert:hover {\n",
              "      background-color: #434B5C;\n",
              "      box-shadow: 0px 1px 3px 1px rgba(0, 0, 0, 0.15);\n",
              "      filter: drop-shadow(0px 1px 2px rgba(0, 0, 0, 0.3));\n",
              "      fill: #FFFFFF;\n",
              "    }\n",
              "  </style>\n",
              "\n",
              "      <script>\n",
              "        const buttonEl =\n",
              "          document.querySelector('#df-543e066b-a2c8-4c77-af86-3cd8eb9d0b76 button.colab-df-convert');\n",
              "        buttonEl.style.display =\n",
              "          google.colab.kernel.accessAllowed ? 'block' : 'none';\n",
              "\n",
              "        async function convertToInteractive(key) {\n",
              "          const element = document.querySelector('#df-543e066b-a2c8-4c77-af86-3cd8eb9d0b76');\n",
              "          const dataTable =\n",
              "            await google.colab.kernel.invokeFunction('convertToInteractive',\n",
              "                                                     [key], {});\n",
              "          if (!dataTable) return;\n",
              "\n",
              "          const docLinkHtml = 'Like what you see? Visit the ' +\n",
              "            '<a target=\"_blank\" href=https://colab.research.google.com/notebooks/data_table.ipynb>data table notebook</a>'\n",
              "            + ' to learn more about interactive tables.';\n",
              "          element.innerHTML = '';\n",
              "          dataTable['output_type'] = 'display_data';\n",
              "          await google.colab.output.renderOutput(dataTable, element);\n",
              "          const docLink = document.createElement('div');\n",
              "          docLink.innerHTML = docLinkHtml;\n",
              "          element.appendChild(docLink);\n",
              "        }\n",
              "      </script>\n",
              "    </div>\n",
              "  </div>\n",
              "  "
            ]
          },
          "metadata": {},
          "execution_count": 35
        }
      ]
    },
    {
      "cell_type": "code",
      "source": [
        "neuralNetwork.plot_history()"
      ],
      "metadata": {
        "colab": {
          "base_uri": "https://localhost:8080/",
          "height": 350
        },
        "id": "tGMpFKZMIf9e",
        "outputId": "ebad9dde-8a32-432e-83e4-e1ac81c8b412"
      },
      "execution_count": 38,
      "outputs": [
        {
          "output_type": "display_data",
          "data": {
            "text/plain": [
              "<Figure size 1080x360 with 2 Axes>"
            ],
            "image/png": "[encoded data removed]"
          },
          "metadata": {
            "needs_background": "light"
          }
        }
      ]
    },
    {
      "cell_type": "markdown",
      "source": [
        "# Genetic algortihms"
      ],
      "metadata": {
        "id": "q1g5jRbKbUOu"
      }
    },
    {
      "cell_type": "code",
      "source": [
        "parameters = {\n",
        "    'learning_rate': [0.001, 0.01, 0.1],\n",
        "    'momentum': [0.001, 0.01, 0.1],\n",
        "    'Dropout': [0, 0.01, 0.1, 0.2, 0.5],\n",
        "    'batch_size': [10, 11, 12, 15]\n",
        "}"
      ],
      "metadata": {
        "id": "7sahiVdlbSoX"
      },
      "execution_count": 13,
      "outputs": []
    },
    {
      "cell_type": "code",
      "source": [
        "optimizer = GeneticAlgorithm(parameters, X_train, y_train, 6, 0.999, 270, 0.01, 2)"
      ],
      "metadata": {
        "id": "KgbE5B3ob0wU"
      },
      "execution_count": 14,
      "outputs": []
    },
    {
      "cell_type": "code",
      "source": [
        "best_params = optimizer.evolution()"
      ],
      "metadata": {
        "colab": {
          "base_uri": "https://localhost:8080/"
        },
        "id": "7MVFHPcgdu56",
        "outputId": "00635f0c-0218-470e-fcd4-39f4e78fbdb1"
      },
      "execution_count": 15,
      "outputs": [
        {
          "metadata": {
            "tags": null
          },
          "name": "stderr",
          "output_type": "stream",
          "text": [
            "WARNING:tensorflow:5 out of the last 5 calls to <function Model.make_predict_function.<locals>.predict_function at 0x7f6356701f80> triggered tf.function retracing. Tracing is expensive and the excessive number of tracings could be due to (1) creating @tf.function repeatedly in a loop, (2) passing tensors with different shapes, (3) passing Python objects instead of tensors. For (1), please define your @tf.function outside of the loop. For (2), @tf.function has reduce_retracing=True option that can avoid unnecessary retracing. For (3), please refer to https://www.tensorflow.org/guide/function#controlling_retracing and https://www.tensorflow.org/api_docs/python/tf/function for  more details.\n",
            "WARNING:tensorflow:6 out of the last 6 calls to <function Model.make_predict_function.<locals>.predict_function at 0x7f6354ad07a0> triggered tf.function retracing. Tracing is expensive and the excessive number of tracings could be due to (1) creating @tf.function repeatedly in a loop, (2) passing tensors with different shapes, (3) passing Python objects instead of tensors. For (1), please define your @tf.function outside of the loop. For (2), @tf.function has reduce_retracing=True option that can avoid unnecessary retracing. For (3), please refer to https://www.tensorflow.org/guide/function#controlling_retracing and https://www.tensorflow.org/api_docs/python/tf/function for  more details.\n"
          ]
        }
      ]
    },
    {
      "cell_type": "code",
      "source": [
        "best_params[0]"
      ],
      "metadata": {
        "colab": {
          "base_uri": "https://localhost:8080/"
        },
        "id": "RtfT1h1DPK-k",
        "outputId": "f725e97d-3078-4b17-d888-b0fbd9dc4218"
      },
      "execution_count": 42,
      "outputs": [
        {
          "output_type": "execute_result",
          "data": {
            "text/plain": [
              "{'learning_rate': 0.01, 'momentum': 0.1, 'Dropout': 0.01, 'batch_size': 10}"
            ]
          },
          "metadata": {},
          "execution_count": 42
        }
      ]
    },
    {
      "cell_type": "code",
      "source": [
        "with tf.device(device_name):\n",
        "  neuralNetwork = NeuralNetwork(best_params[0], X_train, y_train, 3000, 10)\n",
        "  scores = neuralNetwork.cv_scores(metrics)\n",
        "  time.time()"
      ],
      "metadata": {
        "id": "lpnRBdUkwk9g"
      },
      "execution_count": 43,
      "outputs": []
    },
    {
      "cell_type": "code",
      "source": [
        "print('5k fold cross validation r2 score {}, std {}'.format(scores['r2'].mean(), scores['r2'].std()))\n",
        "print('5k fold cross validation mean absolute error {}, std {}'.format(scores['mae'].mean(), scores['mae'].std()))\n",
        "print('5k fold cross validation mean magnitude of relative error {}, std {}'.format(scores['mmre'].mean(), scores['mmre'].std()))\n",
        "print('5k fold cross validation pred of 25% {}, std {}'.format(scores['pred'].mean(), scores['pred'].std()))"
      ],
      "metadata": {
        "colab": {
          "base_uri": "https://localhost:8080/"
        },
        "id": "RBHN7IXQyCzZ",
        "outputId": "5f772ed2-08f8-46c5-9489-b0dddcf0179f"
      },
      "execution_count": 44,
      "outputs": [
        {
          "output_type": "stream",
          "name": "stdout",
          "text": [
            "5k fold cross validation r2 score 0.9848647162070522, std 0.016853019000177737\n",
            "5k fold cross validation mean absolute error 662.461599763569, std 360.61972546432395\n",
            "5k fold cross validation mean magnitude of relative error 2.895281550308847, std 0.6567255175592287\n",
            "5k fold cross validation pred of 25% 0.791578947368421, std 0.05780854828524626\n"
          ]
        }
      ]
    },
    {
      "cell_type": "code",
      "source": [
        "neuralNetwork.fit()\n",
        "train_predictions = neuralNetwork.predict(X_train)\n",
        "test_predictions = neuralNetwork.predict(X_test)"
      ],
      "metadata": {
        "colab": {
          "base_uri": "https://localhost:8080/"
        },
        "id": "oBene4PGeNJR",
        "outputId": "fa1ccee8-45a7-4700-d595-fb10fcaf500e"
      },
      "execution_count": 45,
      "outputs": [
        {
          "output_type": "stream",
          "name": "stdout",
          "text": [
            "3/3 [==============================] - 0s 13ms/step\n",
            "1/1 [==============================] - 0s 160ms/step\n"
          ]
        }
      ]
    },
    {
      "cell_type": "code",
      "source": [
        "metrics.scores_DataFrame(y_train, y_test, train_predictions.reshape((train_predictions.shape[0],)), test_predictions.reshape((test_predictions.shape[0],)))"
      ],
      "metadata": {
        "colab": {
          "base_uri": "https://localhost:8080/",
          "height": 175
        },
        "id": "h5vDkfEw0Cds",
        "outputId": "39f9dee8-165a-4c29-c0f3-5b14acb78437"
      },
      "execution_count": 46,
      "outputs": [
        {
          "output_type": "execute_result",
          "data": {
            "text/plain": [
              "            Train score  Test score\n",
              "r2_score       0.998072    0.998921\n",
              "MAE          351.868856  362.726339\n",
              "MMRE           0.132551    0.086567\n",
              "PRED (0.25)     0.84375       0.875"
            ],
            "text/html": [
              "\n",
              "  <div id=\"df-1383baea-dda9-47de-8b07-f72d1cdb32eb\">\n",
              "    <div class=\"colab-df-container\">\n",
              "      <div>\n",
              "<style scoped>\n",
              "    .dataframe tbody tr th:only-of-type {\n",
              "        vertical-align: middle;\n",
              "    }\n",
              "\n",
              "    .dataframe tbody tr th {\n",
              "        vertical-align: top;\n",
              "    }\n",
              "\n",
              "    .dataframe thead th {\n",
              "        text-align: right;\n",
              "    }\n",
              "</style>\n",
              "<table border=\"1\" class=\"dataframe\">\n",
              "  <thead>\n",
              "    <tr style=\"text-align: right;\">\n",
              "      <th></th>\n",
              "      <th>Train score</th>\n",
              "      <th>Test score</th>\n",
              "    </tr>\n",
              "  </thead>\n",
              "  <tbody>\n",
              "    <tr>\n",
              "      <th>r2_score</th>\n",
              "      <td>0.998072</td>\n",
              "      <td>0.998921</td>\n",
              "    </tr>\n",
              "    <tr>\n",
              "      <th>MAE</th>\n",
              "      <td>351.868856</td>\n",
              "      <td>362.726339</td>\n",
              "    </tr>\n",
              "    <tr>\n",
              "      <th>MMRE</th>\n",
              "      <td>0.132551</td>\n",
              "      <td>0.086567</td>\n",
              "    </tr>\n",
              "    <tr>\n",
              "      <th>PRED (0.25)</th>\n",
              "      <td>0.84375</td>\n",
              "      <td>0.875</td>\n",
              "    </tr>\n",
              "  </tbody>\n",
              "</table>\n",
              "</div>\n",
              "      <button class=\"colab-df-convert\" onclick=\"convertToInteractive('df-1383baea-dda9-47de-8b07-f72d1cdb32eb')\"\n",
              "              title=\"Convert this dataframe to an interactive table.\"\n",
              "              style=\"display:none;\">\n",
              "        \n",
              "  <svg xmlns=\"http://www.w3.org/2000/svg\" height=\"24px\"viewBox=\"0 0 24 24\"\n",
              "       width=\"24px\">\n",
              "    <path d=\"M0 0h24v24H0V0z\" fill=\"none\"/>\n",
              "    <path d=\"M18.56 5.44l.94 2.06.94-2.06 2.06-.94-2.06-.94-.94-2.06-.94 2.06-2.06.94zm-11 1L8.5 8.5l.94-2.06 2.06-.94-2.06-.94L8.5 2.5l-.94 2.06-2.06.94zm10 10l.94 2.06.94-2.06 2.06-.94-2.06-.94-.94-2.06-.94 2.06-2.06.94z\"/><path d=\"M17.41 7.96l-1.37-1.37c-.4-.4-.92-.59-1.43-.59-.52 0-1.04.2-1.43.59L10.3 9.45l-7.72 7.72c-.78.78-.78 2.05 0 2.83L4 21.41c.39.39.9.59 1.41.59.51 0 1.02-.2 1.41-.59l7.78-7.78 2.81-2.81c.8-.78.8-2.07 0-2.86zM5.41 20L4 18.59l7.72-7.72 1.47 1.35L5.41 20z\"/>\n",
              "  </svg>\n",
              "      </button>\n",
              "      \n",
              "  <style>\n",
              "    .colab-df-container {\n",
              "      display:flex;\n",
              "      flex-wrap:wrap;\n",
              "      gap: 12px;\n",
              "    }\n",
              "\n",
              "    .colab-df-convert {\n",
              "      background-color: #E8F0FE;\n",
              "      border: none;\n",
              "      border-radius: 50%;\n",
              "      cursor: pointer;\n",
              "      display: none;\n",
              "      fill: #1967D2;\n",
              "      height: 32px;\n",
              "      padding: 0 0 0 0;\n",
              "      width: 32px;\n",
              "    }\n",
              "\n",
              "    .colab-df-convert:hover {\n",
              "      background-color: #E2EBFA;\n",
              "      box-shadow: 0px 1px 2px rgba(60, 64, 67, 0.3), 0px 1px 3px 1px rgba(60, 64, 67, 0.15);\n",
              "      fill: #174EA6;\n",
              "    }\n",
              "\n",
              "    [theme=dark] .colab-df-convert {\n",
              "      background-color: #3B4455;\n",
              "      fill: #D2E3FC;\n",
              "    }\n",
              "\n",
              "    [theme=dark] .colab-df-convert:hover {\n",
              "      background-color: #434B5C;\n",
              "      box-shadow: 0px 1px 3px 1px rgba(0, 0, 0, 0.15);\n",
              "      filter: drop-shadow(0px 1px 2px rgba(0, 0, 0, 0.3));\n",
              "      fill: #FFFFFF;\n",
              "    }\n",
              "  </style>\n",
              "\n",
              "      <script>\n",
              "        const buttonEl =\n",
              "          document.querySelector('#df-1383baea-dda9-47de-8b07-f72d1cdb32eb button.colab-df-convert');\n",
              "        buttonEl.style.display =\n",
              "          google.colab.kernel.accessAllowed ? 'block' : 'none';\n",
              "\n",
              "        async function convertToInteractive(key) {\n",
              "          const element = document.querySelector('#df-1383baea-dda9-47de-8b07-f72d1cdb32eb');\n",
              "          const dataTable =\n",
              "            await google.colab.kernel.invokeFunction('convertToInteractive',\n",
              "                                                     [key], {});\n",
              "          if (!dataTable) return;\n",
              "\n",
              "          const docLinkHtml = 'Like what you see? Visit the ' +\n",
              "            '<a target=\"_blank\" href=https://colab.research.google.com/notebooks/data_table.ipynb>data table notebook</a>'\n",
              "            + ' to learn more about interactive tables.';\n",
              "          element.innerHTML = '';\n",
              "          dataTable['output_type'] = 'display_data';\n",
              "          await google.colab.output.renderOutput(dataTable, element);\n",
              "          const docLink = document.createElement('div');\n",
              "          docLink.innerHTML = docLinkHtml;\n",
              "          element.appendChild(docLink);\n",
              "        }\n",
              "      </script>\n",
              "    </div>\n",
              "  </div>\n",
              "  "
            ]
          },
          "metadata": {},
          "execution_count": 46
        }
      ]
    },
    {
      "cell_type": "code",
      "source": [
        "neuralNetwork.plot_history()"
      ],
      "metadata": {
        "colab": {
          "base_uri": "https://localhost:8080/",
          "height": 350
        },
        "id": "jeyACzFBwg2l",
        "outputId": "dcccfc4a-26be-4928-ee89-dbe7e33afb84"
      },
      "execution_count": 47,
      "outputs": [
        {
          "output_type": "display_data",
          "data": {
            "text/plain": [
              "<Figure size 1080x360 with 2 Axes>"
            ],
            "image/png": "[encoded data removed]"
          },
          "metadata": {
            "needs_background": "light"
          }
        }
      ]
    },
    {
      "cell_type": "code",
      "source": [
        "optimizer.plot_generations_scores('nn_ga')"
      ],
      "metadata": {
        "colab": {
          "base_uri": "https://localhost:8080/",
          "height": 617
        },
        "id": "AXdRSQE0zO7n",
        "outputId": "5903795e-6db3-43ea-eeba-54b19ee1d0ea"
      },
      "execution_count": 48,
      "outputs": [
        {
          "output_type": "display_data",
          "data": {
            "text/plain": [
              "<Figure size 1080x720 with 1 Axes>"
            ],
            "image/png": "[encoded data removed]"
          },
          "metadata": {
            "needs_background": "light"
          }
        }
      ]
    },
    {
      "cell_type": "code",
      "source": [
        "tf.keras.utils.plot_model(NeuralNetwork(best_params[0], X_train, y_train, 3000, 10).create_network(), to_file='/content/final_nn_model.pdf')"
      ],
      "metadata": {
        "id": "r68qQrtt0RPr"
      },
      "execution_count": 59,
      "outputs": []
    },
    {
      "cell_type": "code",
      "source": [
        ""
      ],
      "metadata": {
        "id": "uOmlngeLeFnc"
      },
      "execution_count": null,
      "outputs": []
    }
  ]
}