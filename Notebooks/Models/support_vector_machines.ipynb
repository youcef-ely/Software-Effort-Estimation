{
  "cells": [
    {
      "cell_type": "code",
      "execution_count": 1,
      "metadata": {
        "id": "qnNlvEXvVC1J"
      },
      "outputs": [],
      "source": [
        "import sys\n",
        "import os\n",
        "\n",
        "module_path = os.path.abspath(os.path.join('..'))\n",
        "if module_path not in sys.path:\n",
        "    sys.path.append(module_path+\"\\\\src\")\n",
        "    sys.path.append(module_path+\"\\\\References\")\n",
        "\n",
        "\n",
        "import data_preprocessing as dp\n",
        "import metrics\n",
        "import genetic_algorithm as ga"
      ]
    },
    {
      "cell_type": "code",
      "execution_count": 2,
      "metadata": {
        "id": "f7tiY465VJSo"
      },
      "outputs": [],
      "source": [
        "import pandas as pd\n",
        "import numpy as np\n",
        "import random\n",
        "from sklearn.model_selection import train_test_split, cross_val_score, KFold\n",
        "from sklearn.metrics import make_scorer\n",
        "from sklearn.preprocessing import StandardScaler"
      ]
    },
    {
      "cell_type": "code",
      "execution_count": 3,
      "metadata": {
        "colab": {
          "base_uri": "https://localhost:8080/",
          "height": 473
        },
        "id": "UCQZvzlXVK-K",
        "outputId": "65477b93-5053-4e92-8eda-c1be50456e7f"
      },
      "outputs": [
        {
          "data": {
            "text/html": [
              "\n",
              "  <div id=\"df-7a4531f7-072b-49e3-bbed-91f8177f1b0f\">\n",
              "    <div class=\"colab-df-container\">\n",
              "      <div>\n",
              "<style scoped>\n",
              "    .dataframe tbody tr th:only-of-type {\n",
              "        vertical-align: middle;\n",
              "    }\n",
              "\n",
              "    .dataframe tbody tr th {\n",
              "        vertical-align: top;\n",
              "    }\n",
              "\n",
              "    .dataframe thead th {\n",
              "        text-align: right;\n",
              "    }\n",
              "</style>\n",
              "<table border=\"1\" class=\"dataframe\">\n",
              "  <thead>\n",
              "    <tr style=\"text-align: right;\">\n",
              "      <th></th>\n",
              "      <th>Unnamed: 0</th>\n",
              "      <th>Team size**1 x Actual duration**1</th>\n",
              "      <th>Dedicated team members**1 x Actual duration**1</th>\n",
              "      <th>Actual duration**1 x Development environment adequacy**1 x 11-20**1</th>\n",
              "      <th>Team size**1 x 21-30**1 x Inaccurate requirements specifications and required the re-analysis of the software requirements**1</th>\n",
              "      <th>User resistance**1 x Project manager**1 x 21-30**1</th>\n",
              "      <th>Development environment adequacy**1 x 21-30**1 x Inaccurate requirements specifications and required the re-analysis of the software requirements**1</th>\n",
              "      <th>Actual duration**1 x 21-30**1 x Inaccurate requirements specifications and required the re-analysis of the software requirements**1</th>\n",
              "      <th>Requirment stability**1 x 21-30**1 x Inaccurate requirements specifications and required the re-analysis of the software requirements**1</th>\n",
              "      <th>Dedicated team members**1 x Technical stability**1 x Tool availability**1</th>\n",
              "      <th>...</th>\n",
              "      <th>Dedicated team members**1 x Actual duration**1 x Economic instability impact**1</th>\n",
              "      <th>Technical stability**1 x 21-30**1 x Accurate requirements specifications used to develop the software system**1</th>\n",
              "      <th>Dedicated team members**1 x Actual duration**1 x Accurate requirements specifications used to develop the software system**1</th>\n",
              "      <th>Dedicated team members**1 x Users stability**1 x 1-5**1</th>\n",
              "      <th>Object points**1 x Project manager**1 x &gt;500**1</th>\n",
              "      <th>Team size**1 x Developer**1 x &gt;500**1</th>\n",
              "      <th>Dedicated team members**1 x Users stability**1 x Accurate requirements specifications used to develop the software system**1</th>\n",
              "      <th>Dedicated team members**1 x Team cohesion**1 x Developer incentives policy**1</th>\n",
              "      <th>Requirment stability**1 x Tool availability**1 x 11-20**1</th>\n",
              "      <th>Actual effort</th>\n",
              "    </tr>\n",
              "  </thead>\n",
              "  <tbody>\n",
              "    <tr>\n",
              "      <th>0</th>\n",
              "      <td>0</td>\n",
              "      <td>18.0</td>\n",
              "      <td>18.0</td>\n",
              "      <td>0</td>\n",
              "      <td>0</td>\n",
              "      <td>0.0</td>\n",
              "      <td>0</td>\n",
              "      <td>0</td>\n",
              "      <td>0.0</td>\n",
              "      <td>42</td>\n",
              "      <td>...</td>\n",
              "      <td>18.0</td>\n",
              "      <td>0</td>\n",
              "      <td>18.0</td>\n",
              "      <td>0.0</td>\n",
              "      <td>0</td>\n",
              "      <td>6</td>\n",
              "      <td>11.333333</td>\n",
              "      <td>96</td>\n",
              "      <td>0.000000</td>\n",
              "      <td>3168.0</td>\n",
              "    </tr>\n",
              "    <tr>\n",
              "      <th>1</th>\n",
              "      <td>1</td>\n",
              "      <td>9.0</td>\n",
              "      <td>9.0</td>\n",
              "      <td>0</td>\n",
              "      <td>0</td>\n",
              "      <td>0.0</td>\n",
              "      <td>0</td>\n",
              "      <td>0</td>\n",
              "      <td>0.0</td>\n",
              "      <td>24</td>\n",
              "      <td>...</td>\n",
              "      <td>27.0</td>\n",
              "      <td>0</td>\n",
              "      <td>0.0</td>\n",
              "      <td>0.0</td>\n",
              "      <td>0</td>\n",
              "      <td>0</td>\n",
              "      <td>0.000000</td>\n",
              "      <td>108</td>\n",
              "      <td>0.000000</td>\n",
              "      <td>1584.0</td>\n",
              "    </tr>\n",
              "    <tr>\n",
              "      <th>2</th>\n",
              "      <td>2</td>\n",
              "      <td>30.0</td>\n",
              "      <td>30.0</td>\n",
              "      <td>0</td>\n",
              "      <td>0</td>\n",
              "      <td>0.0</td>\n",
              "      <td>0</td>\n",
              "      <td>0</td>\n",
              "      <td>0.0</td>\n",
              "      <td>48</td>\n",
              "      <td>...</td>\n",
              "      <td>60.0</td>\n",
              "      <td>0</td>\n",
              "      <td>0.0</td>\n",
              "      <td>0.0</td>\n",
              "      <td>0</td>\n",
              "      <td>0</td>\n",
              "      <td>0.000000</td>\n",
              "      <td>180</td>\n",
              "      <td>0.000000</td>\n",
              "      <td>5280.0</td>\n",
              "    </tr>\n",
              "    <tr>\n",
              "      <th>3</th>\n",
              "      <td>3</td>\n",
              "      <td>36.0</td>\n",
              "      <td>24.0</td>\n",
              "      <td>6</td>\n",
              "      <td>0</td>\n",
              "      <td>0.0</td>\n",
              "      <td>0</td>\n",
              "      <td>0</td>\n",
              "      <td>0.0</td>\n",
              "      <td>32</td>\n",
              "      <td>...</td>\n",
              "      <td>24.0</td>\n",
              "      <td>0</td>\n",
              "      <td>24.0</td>\n",
              "      <td>0.0</td>\n",
              "      <td>0</td>\n",
              "      <td>0</td>\n",
              "      <td>20.000000</td>\n",
              "      <td>16</td>\n",
              "      <td>10.031746</td>\n",
              "      <td>5280.0</td>\n",
              "    </tr>\n",
              "    <tr>\n",
              "      <th>4</th>\n",
              "      <td>4</td>\n",
              "      <td>216.0</td>\n",
              "      <td>216.0</td>\n",
              "      <td>24</td>\n",
              "      <td>0</td>\n",
              "      <td>0.0</td>\n",
              "      <td>0</td>\n",
              "      <td>0</td>\n",
              "      <td>0.0</td>\n",
              "      <td>36</td>\n",
              "      <td>...</td>\n",
              "      <td>648.0</td>\n",
              "      <td>0</td>\n",
              "      <td>216.0</td>\n",
              "      <td>0.0</td>\n",
              "      <td>0</td>\n",
              "      <td>0</td>\n",
              "      <td>17.000000</td>\n",
              "      <td>54</td>\n",
              "      <td>18.603175</td>\n",
              "      <td>38016.0</td>\n",
              "    </tr>\n",
              "  </tbody>\n",
              "</table>\n",
              "<p>5 rows × 44 columns</p>\n",
              "</div>\n",
              "      <button class=\"colab-df-convert\" onclick=\"convertToInteractive('df-7a4531f7-072b-49e3-bbed-91f8177f1b0f')\"\n",
              "              title=\"Convert this dataframe to an interactive table.\"\n",
              "              style=\"display:none;\">\n",
              "        \n",
              "  <svg xmlns=\"http://www.w3.org/2000/svg\" height=\"24px\"viewBox=\"0 0 24 24\"\n",
              "       width=\"24px\">\n",
              "    <path d=\"M0 0h24v24H0V0z\" fill=\"none\"/>\n",
              "    <path d=\"M18.56 5.44l.94 2.06.94-2.06 2.06-.94-2.06-.94-.94-2.06-.94 2.06-2.06.94zm-11 1L8.5 8.5l.94-2.06 2.06-.94-2.06-.94L8.5 2.5l-.94 2.06-2.06.94zm10 10l.94 2.06.94-2.06 2.06-.94-2.06-.94-.94-2.06-.94 2.06-2.06.94z\"/><path d=\"M17.41 7.96l-1.37-1.37c-.4-.4-.92-.59-1.43-.59-.52 0-1.04.2-1.43.59L10.3 9.45l-7.72 7.72c-.78.78-.78 2.05 0 2.83L4 21.41c.39.39.9.59 1.41.59.51 0 1.02-.2 1.41-.59l7.78-7.78 2.81-2.81c.8-.78.8-2.07 0-2.86zM5.41 20L4 18.59l7.72-7.72 1.47 1.35L5.41 20z\"/>\n",
              "  </svg>\n",
              "      </button>\n",
              "      \n",
              "  <style>\n",
              "    .colab-df-container {\n",
              "      display:flex;\n",
              "      flex-wrap:wrap;\n",
              "      gap: 12px;\n",
              "    }\n",
              "\n",
              "    .colab-df-convert {\n",
              "      background-color: #E8F0FE;\n",
              "      border: none;\n",
              "      border-radius: 50%;\n",
              "      cursor: pointer;\n",
              "      display: none;\n",
              "      fill: #1967D2;\n",
              "      height: 32px;\n",
              "      padding: 0 0 0 0;\n",
              "      width: 32px;\n",
              "    }\n",
              "\n",
              "    .colab-df-convert:hover {\n",
              "      background-color: #E2EBFA;\n",
              "      box-shadow: 0px 1px 2px rgba(60, 64, 67, 0.3), 0px 1px 3px 1px rgba(60, 64, 67, 0.15);\n",
              "      fill: #174EA6;\n",
              "    }\n",
              "\n",
              "    [theme=dark] .colab-df-convert {\n",
              "      background-color: #3B4455;\n",
              "      fill: #D2E3FC;\n",
              "    }\n",
              "\n",
              "    [theme=dark] .colab-df-convert:hover {\n",
              "      background-color: #434B5C;\n",
              "      box-shadow: 0px 1px 3px 1px rgba(0, 0, 0, 0.15);\n",
              "      filter: drop-shadow(0px 1px 2px rgba(0, 0, 0, 0.3));\n",
              "      fill: #FFFFFF;\n",
              "    }\n",
              "  </style>\n",
              "\n",
              "      <script>\n",
              "        const buttonEl =\n",
              "          document.querySelector('#df-7a4531f7-072b-49e3-bbed-91f8177f1b0f button.colab-df-convert');\n",
              "        buttonEl.style.display =\n",
              "          google.colab.kernel.accessAllowed ? 'block' : 'none';\n",
              "\n",
              "        async function convertToInteractive(key) {\n",
              "          const element = document.querySelector('#df-7a4531f7-072b-49e3-bbed-91f8177f1b0f');\n",
              "          const dataTable =\n",
              "            await google.colab.kernel.invokeFunction('convertToInteractive',\n",
              "                                                     [key], {});\n",
              "          if (!dataTable) return;\n",
              "\n",
              "          const docLinkHtml = 'Like what you see? Visit the ' +\n",
              "            '<a target=\"_blank\" href=https://colab.research.google.com/notebooks/data_table.ipynb>data table notebook</a>'\n",
              "            + ' to learn more about interactive tables.';\n",
              "          element.innerHTML = '';\n",
              "          dataTable['output_type'] = 'display_data';\n",
              "          await google.colab.output.renderOutput(dataTable, element);\n",
              "          const docLink = document.createElement('div');\n",
              "          docLink.innerHTML = docLinkHtml;\n",
              "          element.appendChild(docLink);\n",
              "        }\n",
              "      </script>\n",
              "    </div>\n",
              "  </div>\n",
              "  "
            ],
            "text/plain": [
              "   Unnamed: 0  Team size**1 x Actual duration**1  \\\n",
              "0           0                               18.0   \n",
              "1           1                                9.0   \n",
              "2           2                               30.0   \n",
              "3           3                               36.0   \n",
              "4           4                              216.0   \n",
              "\n",
              "   Dedicated team members**1 x Actual duration**1  \\\n",
              "0                                            18.0   \n",
              "1                                             9.0   \n",
              "2                                            30.0   \n",
              "3                                            24.0   \n",
              "4                                           216.0   \n",
              "\n",
              "   Actual duration**1 x Development environment adequacy**1 x 11-20**1  \\\n",
              "0                                                  0                     \n",
              "1                                                  0                     \n",
              "2                                                  0                     \n",
              "3                                                  6                     \n",
              "4                                                 24                     \n",
              "\n",
              "   Team size**1 x 21-30**1 x Inaccurate requirements specifications and required the re-analysis of the software requirements**1  \\\n",
              "0                                                  0                                                                               \n",
              "1                                                  0                                                                               \n",
              "2                                                  0                                                                               \n",
              "3                                                  0                                                                               \n",
              "4                                                  0                                                                               \n",
              "\n",
              "   User resistance**1 x Project manager**1 x 21-30**1  \\\n",
              "0                                                0.0    \n",
              "1                                                0.0    \n",
              "2                                                0.0    \n",
              "3                                                0.0    \n",
              "4                                                0.0    \n",
              "\n",
              "   Development environment adequacy**1 x 21-30**1 x Inaccurate requirements specifications and required the re-analysis of the software requirements**1  \\\n",
              "0                                                  0                                                                                                      \n",
              "1                                                  0                                                                                                      \n",
              "2                                                  0                                                                                                      \n",
              "3                                                  0                                                                                                      \n",
              "4                                                  0                                                                                                      \n",
              "\n",
              "   Actual duration**1 x 21-30**1 x Inaccurate requirements specifications and required the re-analysis of the software requirements**1  \\\n",
              "0                                                  0                                                                                     \n",
              "1                                                  0                                                                                     \n",
              "2                                                  0                                                                                     \n",
              "3                                                  0                                                                                     \n",
              "4                                                  0                                                                                     \n",
              "\n",
              "   Requirment stability**1 x 21-30**1 x Inaccurate requirements specifications and required the re-analysis of the software requirements**1  \\\n",
              "0                                                0.0                                                                                          \n",
              "1                                                0.0                                                                                          \n",
              "2                                                0.0                                                                                          \n",
              "3                                                0.0                                                                                          \n",
              "4                                                0.0                                                                                          \n",
              "\n",
              "   Dedicated team members**1 x Technical stability**1 x Tool availability**1  \\\n",
              "0                                                 42                           \n",
              "1                                                 24                           \n",
              "2                                                 48                           \n",
              "3                                                 32                           \n",
              "4                                                 36                           \n",
              "\n",
              "   ...  \\\n",
              "0  ...   \n",
              "1  ...   \n",
              "2  ...   \n",
              "3  ...   \n",
              "4  ...   \n",
              "\n",
              "   Dedicated team members**1 x Actual duration**1 x Economic instability impact**1  \\\n",
              "0                                               18.0                                 \n",
              "1                                               27.0                                 \n",
              "2                                               60.0                                 \n",
              "3                                               24.0                                 \n",
              "4                                              648.0                                 \n",
              "\n",
              "   Technical stability**1 x 21-30**1 x Accurate requirements specifications used to develop the software system**1  \\\n",
              "0                                                  0                                                                 \n",
              "1                                                  0                                                                 \n",
              "2                                                  0                                                                 \n",
              "3                                                  0                                                                 \n",
              "4                                                  0                                                                 \n",
              "\n",
              "   Dedicated team members**1 x Actual duration**1 x Accurate requirements specifications used to develop the software system**1  \\\n",
              "0                                               18.0                                                                              \n",
              "1                                                0.0                                                                              \n",
              "2                                                0.0                                                                              \n",
              "3                                               24.0                                                                              \n",
              "4                                              216.0                                                                              \n",
              "\n",
              "   Dedicated team members**1 x Users stability**1 x 1-5**1  \\\n",
              "0                                                0.0         \n",
              "1                                                0.0         \n",
              "2                                                0.0         \n",
              "3                                                0.0         \n",
              "4                                                0.0         \n",
              "\n",
              "   Object points**1 x Project manager**1 x >500**1  \\\n",
              "0                                                0   \n",
              "1                                                0   \n",
              "2                                                0   \n",
              "3                                                0   \n",
              "4                                                0   \n",
              "\n",
              "   Team size**1 x Developer**1 x >500**1  \\\n",
              "0                                      6   \n",
              "1                                      0   \n",
              "2                                      0   \n",
              "3                                      0   \n",
              "4                                      0   \n",
              "\n",
              "   Dedicated team members**1 x Users stability**1 x Accurate requirements specifications used to develop the software system**1  \\\n",
              "0                                          11.333333                                                                              \n",
              "1                                           0.000000                                                                              \n",
              "2                                           0.000000                                                                              \n",
              "3                                          20.000000                                                                              \n",
              "4                                          17.000000                                                                              \n",
              "\n",
              "   Dedicated team members**1 x Team cohesion**1 x Developer incentives policy**1  \\\n",
              "0                                                 96                               \n",
              "1                                                108                               \n",
              "2                                                180                               \n",
              "3                                                 16                               \n",
              "4                                                 54                               \n",
              "\n",
              "   Requirment stability**1 x Tool availability**1 x 11-20**1  Actual effort  \n",
              "0                                           0.000000                 3168.0  \n",
              "1                                           0.000000                 1584.0  \n",
              "2                                           0.000000                 5280.0  \n",
              "3                                          10.031746                 5280.0  \n",
              "4                                          18.603175                38016.0  \n",
              "\n",
              "[5 rows x 44 columns]"
            ]
          },
          "execution_count": 3,
          "metadata": {},
          "output_type": "execute_result"
        }
      ],
      "source": [
        "data = pd.read_excel('/content/final_data.xlsx')\n",
        "data.head()"
      ]
    },
    {
      "cell_type": "code",
      "execution_count": 4,
      "metadata": {
        "id": "kwJR7vnfVVP2"
      },
      "outputs": [],
      "source": [
        "target = data['Actual effort']\n",
        "X = data.drop(['Unnamed: 0', 'Actual effort'], axis = 1)"
      ]
    },
    {
      "cell_type": "markdown",
      "metadata": {
        "id": "vr1ch7XeVZVA"
      },
      "source": [
        "# Support Vector Regression"
      ]
    },
    {
      "cell_type": "code",
      "execution_count": 5,
      "metadata": {
        "id": "OX2tcUZQVXOw"
      },
      "outputs": [],
      "source": [
        "from sklearn.svm import LinearSVR"
      ]
    },
    {
      "cell_type": "code",
      "execution_count": 6,
      "metadata": {
        "id": "H10SGgUfVe4c"
      },
      "outputs": [],
      "source": [
        "X_train, X_test, y_train, y_test = train_test_split(X, target, test_size = 0.3, random_state = 24)"
      ]
    },
    {
      "cell_type": "code",
      "execution_count": 7,
      "metadata": {
        "id": "FZfRCGwoVhMC"
      },
      "outputs": [],
      "source": [
        "X_train, X_test = pd.DataFrame(X_train, columns = X.columns), pd.DataFrame(X_test, columns = X.columns)"
      ]
    },
    {
      "cell_type": "code",
      "execution_count": 8,
      "metadata": {
        "id": "QbKTp3PDVirG"
      },
      "outputs": [],
      "source": [
        "scaler, X_train = dp.scaling_numerical_data(X_train.columns, X_train)\n",
        "X_test = scaler.transform(X_test)"
      ]
    },
    {
      "cell_type": "code",
      "execution_count": 9,
      "metadata": {
        "id": "EWC58v7eWZhE"
      },
      "outputs": [],
      "source": [
        "y_scaler = StandardScaler()\n",
        "y_train_sc = y_scaler.fit_transform(y_train.to_numpy().reshape((-1, 1)))\n",
        "y_test_sc = y_scaler.transform(y_test.to_numpy().reshape((-1, 1)))"
      ]
    },
    {
      "cell_type": "code",
      "execution_count": 10,
      "metadata": {
        "id": "2MAzp0ziW_CK"
      },
      "outputs": [],
      "source": [
        "from sklearn.utils.validation import column_or_1d"
      ]
    },
    {
      "cell_type": "code",
      "execution_count": 11,
      "metadata": {
        "id": "aeyVTPKqXEnE"
      },
      "outputs": [],
      "source": [
        "y_train_sc, y_test_sc = column_or_1d(y_train_sc), column_or_1d(y_test_sc)"
      ]
    },
    {
      "cell_type": "code",
      "execution_count": 12,
      "metadata": {
        "id": "2-DWwlmyUBaT"
      },
      "outputs": [],
      "source": [
        "mmre= make_scorer(metrics.mean_magnitude_of_relative_error)\n",
        "mae = make_scorer(metrics.mean_absolute_error)\n",
        "pred = make_scorer(metrics.pred)\n",
        "mre = make_scorer(metrics.magnitude_relative_error)"
      ]
    },
    {
      "cell_type": "markdown",
      "metadata": {
        "id": "GgHfXa1CVpCt"
      },
      "source": [
        "## Cross Validation score"
      ]
    },
    {
      "cell_type": "markdown",
      "metadata": {
        "id": "alQr06r3VrmR"
      },
      "source": [
        "#### 10k fold cross validation"
      ]
    },
    {
      "cell_type": "code",
      "execution_count": 13,
      "metadata": {
        "id": "vz0hzPOyvxjb"
      },
      "outputs": [],
      "source": [
        "from sklearn.compose import TransformedTargetRegressor\n",
        "linearSVR = TransformedTargetRegressor(regressor = LinearSVR(random_state = 0), \n",
        "                                       transformer = StandardScaler())"
      ]
    },
    {
      "cell_type": "code",
      "execution_count": null,
      "metadata": {
        "id": "bCAyVLAWVkOr"
      },
      "outputs": [],
      "source": [
        "r2_ = cross_val_score(linearSVR, X_train, y_train, cv = KFold(10, shuffle=True, random_state = 37))\n",
        "mae_ = cross_val_score(linearSVR, X_train, y_train, cv = KFold(10, shuffle=True, random_state = 37), scoring = mae)\n",
        "mmre_ = np.abs(cross_val_score(linearSVR, X_train, y_train, cv = KFold(10, shuffle=True, random_state = 37), scoring = mmre))\n",
        "pred_ = cross_val_score(linearSVR, X_train, y_train, cv = KFold(10, shuffle=True, random_state = 37), scoring = pred)"
      ]
    },
    {
      "cell_type": "code",
      "execution_count": 15,
      "metadata": {
        "colab": {
          "base_uri": "https://localhost:8080/"
        },
        "id": "iU3ZLo04bRF3",
        "outputId": "9841cd27-40fe-44c6-8bd4-b7af82ebaaa0"
      },
      "outputs": [
        {
          "name": "stdout",
          "output_type": "stream",
          "text": [
            "10k fold cross validation r2 score 0.9978401543598047, std 0.0022588138857782525\n",
            "10k fold cross validation mean absolute error 271.7077922890397, std 88.08290593216496\n",
            "10k fold cross validation mean magnitude of relative error 0.09209492475686853, std 0.03105058109931842\n",
            "10k fold cross validation pred of 25% 0.8680555555555556, std 0.08476774733148404\n"
          ]
        }
      ],
      "source": [
        "print('10k fold cross validation r2 score {}, std {}'.format(r2_.mean(), r2_.std()))\n",
        "print('10k fold cross validation mean absolute error {}, std {}'.format(mae_.mean(), mae_.std()))\n",
        "print('10k fold cross validation mean magnitude of relative error {}, std {}'.format(mmre_.mean(), mmre_.std()))\n",
        "print('10k fold cross validation pred of 25% {}, std {}'.format(pred_.mean(), pred_.std()))"
      ]
    },
    {
      "cell_type": "markdown",
      "metadata": {
        "id": "ynrhVN8YXvRd"
      },
      "source": [
        "#### 5k fold cross validation"
      ]
    },
    {
      "cell_type": "code",
      "execution_count": null,
      "metadata": {
        "id": "LQ-fTniybTyz"
      },
      "outputs": [],
      "source": [
        "r2_ = cross_val_score(linearSVR, X_train, y_train, cv = KFold(5, shuffle=True, random_state = 37))\n",
        "mae_ = cross_val_score(linearSVR, X_train, y_train, cv = KFold(5, shuffle=True, random_state = 37), scoring = mae)\n",
        "mmre_ = np.abs(cross_val_score(linearSVR, X_train, y_train, cv = KFold(5, shuffle=True, random_state = 37), scoring = mmre))\n",
        "pred_ = cross_val_score(linearSVR, X_train, y_train, cv = KFold(5, shuffle=True, random_state = 37), scoring = pred)"
      ]
    },
    {
      "cell_type": "code",
      "execution_count": 17,
      "metadata": {
        "colab": {
          "base_uri": "https://localhost:8080/"
        },
        "id": "DonwvVIRbZaO",
        "outputId": "3059b43e-da9c-4c2f-dd64-c525ce601543"
      },
      "outputs": [
        {
          "name": "stdout",
          "output_type": "stream",
          "text": [
            "5k fold cross validation r2 score 0.9980428940593914, std 0.0014779751210158515\n",
            "5k fold cross validation mean absolute error 335.6442670673297, std 42.17441948097582\n",
            "5k fold cross validation mean magnitude of relative error 0.11123149239423218, std 0.02771389180845688\n",
            "5k fold cross validation pred of 25% 0.8676470588235293, std 0.06308120761625652\n"
          ]
        }
      ],
      "source": [
        "print('5k fold cross validation r2 score {}, std {}'.format(r2_.mean(), r2_.std()))\n",
        "print('5k fold cross validation mean absolute error {}, std {}'.format(mae_.mean(), mae_.std()))\n",
        "print('5k fold cross validation mean magnitude of relative error {}, std {}'.format(mmre_.mean(), mmre_.std()))\n",
        "print('5k fold cross validation pred of 25% {}, std {}'.format(pred_.mean(), pred_.std()))"
      ]
    },
    {
      "cell_type": "markdown",
      "metadata": {
        "id": "JWkw3rDbbe9z"
      },
      "source": [
        "# Modeling\n"
      ]
    },
    {
      "cell_type": "code",
      "execution_count": 18,
      "metadata": {
        "colab": {
          "base_uri": "https://localhost:8080/"
        },
        "id": "JeweFzeJXxkh",
        "outputId": "723bc1ad-1881-41f2-a934-d5b7ffa4f99b"
      },
      "outputs": [
        {
          "name": "stderr",
          "output_type": "stream",
          "text": [
            "/usr/local/lib/python3.7/dist-packages/sklearn/svm/_base.py:1208: ConvergenceWarning: Liblinear failed to converge, increase the number of iterations.\n",
            "  ConvergenceWarning,\n",
            "/usr/local/lib/python3.7/dist-packages/sklearn/base.py:451: UserWarning: X does not have valid feature names, but LinearSVR was fitted with feature names\n",
            "  \"X does not have valid feature names, but\"\n"
          ]
        },
        {
          "data": {
            "text/plain": [
              "(0.9997306911914592, 0.9950020116374846)"
            ]
          },
          "execution_count": 18,
          "metadata": {},
          "output_type": "execute_result"
        }
      ],
      "source": [
        "svr_model = linearSVR\n",
        "svr_model.fit(X_train, y_train_sc)\n",
        "svr_model.score(X_train, y_train_sc), svr_model.score(X_test, y_test_sc)"
      ]
    },
    {
      "cell_type": "markdown",
      "metadata": {
        "id": "itpbBKCPYT4X"
      },
      "source": [
        "#### Metrics"
      ]
    },
    {
      "cell_type": "code",
      "execution_count": 19,
      "metadata": {
        "colab": {
          "base_uri": "https://localhost:8080/"
        },
        "id": "ufacsf-KYRSH",
        "outputId": "b04c2747-fd5c-4690-b45f-cce7e096f280"
      },
      "outputs": [
        {
          "name": "stderr",
          "output_type": "stream",
          "text": [
            "/usr/local/lib/python3.7/dist-packages/sklearn/base.py:451: UserWarning: X does not have valid feature names, but LinearSVR was fitted with feature names\n",
            "  \"X does not have valid feature names, but\"\n"
          ]
        }
      ],
      "source": [
        "train_predictions = y_scaler.inverse_transform(svr_model.predict(X_train).reshape((-1, 1))).reshape((len(y_train), ))\n",
        "test_predictions = y_scaler.inverse_transform(svr_model.predict(X_test).reshape((-1, 1))).reshape((len(y_test), ))"
      ]
    },
    {
      "cell_type": "code",
      "execution_count": 20,
      "metadata": {
        "colab": {
          "base_uri": "https://localhost:8080/",
          "height": 175
        },
        "id": "M19DlOHEYnlS",
        "outputId": "091d764e-0aab-4909-f2f5-464677ef74b9"
      },
      "outputs": [
        {
          "data": {
            "text/html": [
              "\n",
              "  <div id=\"df-3a0f5609-636f-4283-9dec-f039a4f1a7d5\">\n",
              "    <div class=\"colab-df-container\">\n",
              "      <div>\n",
              "<style scoped>\n",
              "    .dataframe tbody tr th:only-of-type {\n",
              "        vertical-align: middle;\n",
              "    }\n",
              "\n",
              "    .dataframe tbody tr th {\n",
              "        vertical-align: top;\n",
              "    }\n",
              "\n",
              "    .dataframe thead th {\n",
              "        text-align: right;\n",
              "    }\n",
              "</style>\n",
              "<table border=\"1\" class=\"dataframe\">\n",
              "  <thead>\n",
              "    <tr style=\"text-align: right;\">\n",
              "      <th></th>\n",
              "      <th>Train score</th>\n",
              "      <th>Test score</th>\n",
              "    </tr>\n",
              "  </thead>\n",
              "  <tbody>\n",
              "    <tr>\n",
              "      <th>r2_score</th>\n",
              "      <td>0.999731</td>\n",
              "      <td>0.995002</td>\n",
              "    </tr>\n",
              "    <tr>\n",
              "      <th>MAE</th>\n",
              "      <td>156.64467</td>\n",
              "      <td>434.262321</td>\n",
              "    </tr>\n",
              "    <tr>\n",
              "      <th>MMRE</th>\n",
              "      <td>0.054429</td>\n",
              "      <td>0.100988</td>\n",
              "    </tr>\n",
              "    <tr>\n",
              "      <th>PRED (0.25)</th>\n",
              "      <td>0.952381</td>\n",
              "      <td>0.916667</td>\n",
              "    </tr>\n",
              "  </tbody>\n",
              "</table>\n",
              "</div>\n",
              "      <button class=\"colab-df-convert\" onclick=\"convertToInteractive('df-3a0f5609-636f-4283-9dec-f039a4f1a7d5')\"\n",
              "              title=\"Convert this dataframe to an interactive table.\"\n",
              "              style=\"display:none;\">\n",
              "        \n",
              "  <svg xmlns=\"http://www.w3.org/2000/svg\" height=\"24px\"viewBox=\"0 0 24 24\"\n",
              "       width=\"24px\">\n",
              "    <path d=\"M0 0h24v24H0V0z\" fill=\"none\"/>\n",
              "    <path d=\"M18.56 5.44l.94 2.06.94-2.06 2.06-.94-2.06-.94-.94-2.06-.94 2.06-2.06.94zm-11 1L8.5 8.5l.94-2.06 2.06-.94-2.06-.94L8.5 2.5l-.94 2.06-2.06.94zm10 10l.94 2.06.94-2.06 2.06-.94-2.06-.94-.94-2.06-.94 2.06-2.06.94z\"/><path d=\"M17.41 7.96l-1.37-1.37c-.4-.4-.92-.59-1.43-.59-.52 0-1.04.2-1.43.59L10.3 9.45l-7.72 7.72c-.78.78-.78 2.05 0 2.83L4 21.41c.39.39.9.59 1.41.59.51 0 1.02-.2 1.41-.59l7.78-7.78 2.81-2.81c.8-.78.8-2.07 0-2.86zM5.41 20L4 18.59l7.72-7.72 1.47 1.35L5.41 20z\"/>\n",
              "  </svg>\n",
              "      </button>\n",
              "      \n",
              "  <style>\n",
              "    .colab-df-container {\n",
              "      display:flex;\n",
              "      flex-wrap:wrap;\n",
              "      gap: 12px;\n",
              "    }\n",
              "\n",
              "    .colab-df-convert {\n",
              "      background-color: #E8F0FE;\n",
              "      border: none;\n",
              "      border-radius: 50%;\n",
              "      cursor: pointer;\n",
              "      display: none;\n",
              "      fill: #1967D2;\n",
              "      height: 32px;\n",
              "      padding: 0 0 0 0;\n",
              "      width: 32px;\n",
              "    }\n",
              "\n",
              "    .colab-df-convert:hover {\n",
              "      background-color: #E2EBFA;\n",
              "      box-shadow: 0px 1px 2px rgba(60, 64, 67, 0.3), 0px 1px 3px 1px rgba(60, 64, 67, 0.15);\n",
              "      fill: #174EA6;\n",
              "    }\n",
              "\n",
              "    [theme=dark] .colab-df-convert {\n",
              "      background-color: #3B4455;\n",
              "      fill: #D2E3FC;\n",
              "    }\n",
              "\n",
              "    [theme=dark] .colab-df-convert:hover {\n",
              "      background-color: #434B5C;\n",
              "      box-shadow: 0px 1px 3px 1px rgba(0, 0, 0, 0.15);\n",
              "      filter: drop-shadow(0px 1px 2px rgba(0, 0, 0, 0.3));\n",
              "      fill: #FFFFFF;\n",
              "    }\n",
              "  </style>\n",
              "\n",
              "      <script>\n",
              "        const buttonEl =\n",
              "          document.querySelector('#df-3a0f5609-636f-4283-9dec-f039a4f1a7d5 button.colab-df-convert');\n",
              "        buttonEl.style.display =\n",
              "          google.colab.kernel.accessAllowed ? 'block' : 'none';\n",
              "\n",
              "        async function convertToInteractive(key) {\n",
              "          const element = document.querySelector('#df-3a0f5609-636f-4283-9dec-f039a4f1a7d5');\n",
              "          const dataTable =\n",
              "            await google.colab.kernel.invokeFunction('convertToInteractive',\n",
              "                                                     [key], {});\n",
              "          if (!dataTable) return;\n",
              "\n",
              "          const docLinkHtml = 'Like what you see? Visit the ' +\n",
              "            '<a target=\"_blank\" href=https://colab.research.google.com/notebooks/data_table.ipynb>data table notebook</a>'\n",
              "            + ' to learn more about interactive tables.';\n",
              "          element.innerHTML = '';\n",
              "          dataTable['output_type'] = 'display_data';\n",
              "          await google.colab.output.renderOutput(dataTable, element);\n",
              "          const docLink = document.createElement('div');\n",
              "          docLink.innerHTML = docLinkHtml;\n",
              "          element.appendChild(docLink);\n",
              "        }\n",
              "      </script>\n",
              "    </div>\n",
              "  </div>\n",
              "  "
            ],
            "text/plain": [
              "            Train score  Test score\n",
              "r2_score       0.999731    0.995002\n",
              "MAE           156.64467  434.262321\n",
              "MMRE           0.054429    0.100988\n",
              "PRED (0.25)    0.952381    0.916667"
            ]
          },
          "execution_count": 20,
          "metadata": {},
          "output_type": "execute_result"
        }
      ],
      "source": [
        "metrics.scores_DataFrame(y_train, y_test, train_predictions, test_predictions)"
      ]
    },
    {
      "cell_type": "markdown",
      "metadata": {
        "id": "1gasjXq6o2MJ"
      },
      "source": [
        "# Optimize LinearSVR paramaters with GA-Algorithms\n"
      ]
    },
    {
      "cell_type": "code",
      "execution_count": 21,
      "metadata": {
        "id": "pZw5Mv0qdMYb"
      },
      "outputs": [],
      "source": [
        "params = {'epsilon': np.linspace(0, 2, 20), 'tol': np.linspace(0, 0.1, 2000), \n",
        "          'max_iter': [10, 100, 1000, 10000], 'C': np.linspace(0, 100, 2000)}"
      ]
    },
    {
      "cell_type": "code",
      "execution_count": 22,
      "metadata": {
        "id": "G5nfUZ-PqCRn"
      },
      "outputs": [],
      "source": [
        "ga_alg = ga.GeneticAlgorithm(LinearSVR(random_state = 0), params, X_train, y_train_sc, 6, 0.999, 120)"
      ]
    },
    {
      "cell_type": "code",
      "execution_count": null,
      "metadata": {
        "id": "rRlzAiItqK8y"
      },
      "outputs": [],
      "source": [
        "best_parameters = ga_alg.evolution()"
      ]
    },
    {
      "cell_type": "code",
      "execution_count": 24,
      "metadata": {
        "colab": {
          "base_uri": "https://localhost:8080/"
        },
        "id": "o5lA9dII4jVx",
        "outputId": "0092ba04-df8a-4738-a882-151126e4dd3e"
      },
      "outputs": [
        {
          "data": {
            "text/plain": [
              "{'epsilon': 0.0,\n",
              " 'tol': 0.03526763381690846,\n",
              " 'max_iter': 1000,\n",
              " 'C': 1.250625312656328}"
            ]
          },
          "execution_count": 24,
          "metadata": {},
          "output_type": "execute_result"
        }
      ],
      "source": [
        "best_parameters[0]"
      ]
    },
    {
      "cell_type": "code",
      "execution_count": 25,
      "metadata": {
        "id": "OHP4U2lGLznF"
      },
      "outputs": [],
      "source": [
        "linearSVR = TransformedTargetRegressor(regressor = LinearSVR(random_state = 0, **best_parameters[0]), \n",
        "                                       transformer = StandardScaler())"
      ]
    },
    {
      "cell_type": "code",
      "execution_count": null,
      "metadata": {
        "id": "MAoeYlw8p1DL"
      },
      "outputs": [],
      "source": [
        "r2_ = cross_val_score(linearSVR, X_train, y_train, cv = KFold(5, shuffle=True, random_state = 37))\n",
        "mae_ = cross_val_score(linearSVR, X_train, y_train, cv = KFold(5, shuffle=True, random_state = 37), scoring = mae)\n",
        "mmre_ = cross_val_score(linearSVR, X_train, y_train, cv = KFold(5, shuffle=True, random_state = 37), scoring = mmre)\n",
        "pred_ = cross_val_score(linearSVR, X_train, y_train, cv = KFold(5, shuffle=True, random_state = 37), scoring = pred)"
      ]
    },
    {
      "cell_type": "code",
      "execution_count": 27,
      "metadata": {
        "colab": {
          "base_uri": "https://localhost:8080/"
        },
        "id": "LpFws8CuqBm4",
        "outputId": "334db542-b411-4b52-b1d6-d3faf963a16f"
      },
      "outputs": [
        {
          "name": "stdout",
          "output_type": "stream",
          "text": [
            "5k fold cross validation r2 score 0.9985085470764178, std 0.0009233597534956075\n",
            "5k fold cross validation mean absolute error 287.26946476283825, std 29.266235788379976\n",
            "5k fold cross validation mean magnitude of relative error 0.09047741358953106, std 0.022846376294749643\n",
            "5k fold cross validation pred of 25% 0.8926470588235293, std 0.06891396772858814\n"
          ]
        }
      ],
      "source": [
        "print('5k fold cross validation r2 score {}, std {}'.format(r2_.mean(), r2_.std()))\n",
        "print('5k fold cross validation mean absolute error {}, std {}'.format(mae_.mean(), mae_.std()))\n",
        "print('5k fold cross validation mean magnitude of relative error {}, std {}'.format(mmre_.mean(), mmre_.std()))\n",
        "print('5k fold cross validation pred of 25% {}, std {}'.format(pred_.mean(), pred_.std()))"
      ]
    },
    {
      "cell_type": "code",
      "execution_count": 28,
      "metadata": {
        "colab": {
          "base_uri": "https://localhost:8080/"
        },
        "id": "UBvCOmdhqMa9",
        "outputId": "45d5db83-a9ea-48ee-faf3-34ae8322301f"
      },
      "outputs": [
        {
          "name": "stderr",
          "output_type": "stream",
          "text": [
            "/usr/local/lib/python3.7/dist-packages/sklearn/svm/_base.py:1208: ConvergenceWarning: Liblinear failed to converge, increase the number of iterations.\n",
            "  ConvergenceWarning,\n"
          ]
        },
        {
          "data": {
            "text/plain": [
              "TransformedTargetRegressor(regressor=LinearSVR(C=1.250625312656328,\n",
              "                                               random_state=0,\n",
              "                                               tol=0.03526763381690846),\n",
              "                           transformer=StandardScaler())"
            ]
          },
          "execution_count": 28,
          "metadata": {},
          "output_type": "execute_result"
        }
      ],
      "source": [
        "svr_model = linearSVR\n",
        "svr_model.fit(X_train, y_train_sc)"
      ]
    },
    {
      "cell_type": "code",
      "execution_count": 29,
      "metadata": {
        "colab": {
          "base_uri": "https://localhost:8080/"
        },
        "id": "JbYb3fTFAWAF",
        "outputId": "dfc32d04-f25e-42b9-cef2-1263501034b5"
      },
      "outputs": [
        {
          "name": "stderr",
          "output_type": "stream",
          "text": [
            "/usr/local/lib/python3.7/dist-packages/sklearn/base.py:451: UserWarning: X does not have valid feature names, but LinearSVR was fitted with feature names\n",
            "  \"X does not have valid feature names, but\"\n"
          ]
        }
      ],
      "source": [
        "train_predictions = y_scaler.inverse_transform(svr_model.predict(X_train).reshape((-1, 1))).reshape((len(y_train), ))\n",
        "test_predictions = y_scaler.inverse_transform(svr_model.predict(X_test).reshape((-1, 1))).reshape((len(y_test), ))"
      ]
    },
    {
      "cell_type": "code",
      "execution_count": 30,
      "metadata": {
        "colab": {
          "base_uri": "https://localhost:8080/",
          "height": 175
        },
        "id": "6diW2VRPb18L",
        "outputId": "c23da602-0538-472e-9e49-05409c0895ee"
      },
      "outputs": [
        {
          "data": {
            "text/html": [
              "\n",
              "  <div id=\"df-9d9a4e4a-5a28-4ff4-9a5e-1a7e8901cb90\">\n",
              "    <div class=\"colab-df-container\">\n",
              "      <div>\n",
              "<style scoped>\n",
              "    .dataframe tbody tr th:only-of-type {\n",
              "        vertical-align: middle;\n",
              "    }\n",
              "\n",
              "    .dataframe tbody tr th {\n",
              "        vertical-align: top;\n",
              "    }\n",
              "\n",
              "    .dataframe thead th {\n",
              "        text-align: right;\n",
              "    }\n",
              "</style>\n",
              "<table border=\"1\" class=\"dataframe\">\n",
              "  <thead>\n",
              "    <tr style=\"text-align: right;\">\n",
              "      <th></th>\n",
              "      <th>Train score</th>\n",
              "      <th>Test score</th>\n",
              "    </tr>\n",
              "  </thead>\n",
              "  <tbody>\n",
              "    <tr>\n",
              "      <th>r2_score</th>\n",
              "      <td>0.999759</td>\n",
              "      <td>0.994166</td>\n",
              "    </tr>\n",
              "    <tr>\n",
              "      <th>MAE</th>\n",
              "      <td>148.200617</td>\n",
              "      <td>432.047381</td>\n",
              "    </tr>\n",
              "    <tr>\n",
              "      <th>MMRE</th>\n",
              "      <td>0.05317</td>\n",
              "      <td>0.110009</td>\n",
              "    </tr>\n",
              "    <tr>\n",
              "      <th>PRED (0.25)</th>\n",
              "      <td>0.964286</td>\n",
              "      <td>0.861111</td>\n",
              "    </tr>\n",
              "  </tbody>\n",
              "</table>\n",
              "</div>\n",
              "      <button class=\"colab-df-convert\" onclick=\"convertToInteractive('df-9d9a4e4a-5a28-4ff4-9a5e-1a7e8901cb90')\"\n",
              "              title=\"Convert this dataframe to an interactive table.\"\n",
              "              style=\"display:none;\">\n",
              "        \n",
              "  <svg xmlns=\"http://www.w3.org/2000/svg\" height=\"24px\"viewBox=\"0 0 24 24\"\n",
              "       width=\"24px\">\n",
              "    <path d=\"M0 0h24v24H0V0z\" fill=\"none\"/>\n",
              "    <path d=\"M18.56 5.44l.94 2.06.94-2.06 2.06-.94-2.06-.94-.94-2.06-.94 2.06-2.06.94zm-11 1L8.5 8.5l.94-2.06 2.06-.94-2.06-.94L8.5 2.5l-.94 2.06-2.06.94zm10 10l.94 2.06.94-2.06 2.06-.94-2.06-.94-.94-2.06-.94 2.06-2.06.94z\"/><path d=\"M17.41 7.96l-1.37-1.37c-.4-.4-.92-.59-1.43-.59-.52 0-1.04.2-1.43.59L10.3 9.45l-7.72 7.72c-.78.78-.78 2.05 0 2.83L4 21.41c.39.39.9.59 1.41.59.51 0 1.02-.2 1.41-.59l7.78-7.78 2.81-2.81c.8-.78.8-2.07 0-2.86zM5.41 20L4 18.59l7.72-7.72 1.47 1.35L5.41 20z\"/>\n",
              "  </svg>\n",
              "      </button>\n",
              "      \n",
              "  <style>\n",
              "    .colab-df-container {\n",
              "      display:flex;\n",
              "      flex-wrap:wrap;\n",
              "      gap: 12px;\n",
              "    }\n",
              "\n",
              "    .colab-df-convert {\n",
              "      background-color: #E8F0FE;\n",
              "      border: none;\n",
              "      border-radius: 50%;\n",
              "      cursor: pointer;\n",
              "      display: none;\n",
              "      fill: #1967D2;\n",
              "      height: 32px;\n",
              "      padding: 0 0 0 0;\n",
              "      width: 32px;\n",
              "    }\n",
              "\n",
              "    .colab-df-convert:hover {\n",
              "      background-color: #E2EBFA;\n",
              "      box-shadow: 0px 1px 2px rgba(60, 64, 67, 0.3), 0px 1px 3px 1px rgba(60, 64, 67, 0.15);\n",
              "      fill: #174EA6;\n",
              "    }\n",
              "\n",
              "    [theme=dark] .colab-df-convert {\n",
              "      background-color: #3B4455;\n",
              "      fill: #D2E3FC;\n",
              "    }\n",
              "\n",
              "    [theme=dark] .colab-df-convert:hover {\n",
              "      background-color: #434B5C;\n",
              "      box-shadow: 0px 1px 3px 1px rgba(0, 0, 0, 0.15);\n",
              "      filter: drop-shadow(0px 1px 2px rgba(0, 0, 0, 0.3));\n",
              "      fill: #FFFFFF;\n",
              "    }\n",
              "  </style>\n",
              "\n",
              "      <script>\n",
              "        const buttonEl =\n",
              "          document.querySelector('#df-9d9a4e4a-5a28-4ff4-9a5e-1a7e8901cb90 button.colab-df-convert');\n",
              "        buttonEl.style.display =\n",
              "          google.colab.kernel.accessAllowed ? 'block' : 'none';\n",
              "\n",
              "        async function convertToInteractive(key) {\n",
              "          const element = document.querySelector('#df-9d9a4e4a-5a28-4ff4-9a5e-1a7e8901cb90');\n",
              "          const dataTable =\n",
              "            await google.colab.kernel.invokeFunction('convertToInteractive',\n",
              "                                                     [key], {});\n",
              "          if (!dataTable) return;\n",
              "\n",
              "          const docLinkHtml = 'Like what you see? Visit the ' +\n",
              "            '<a target=\"_blank\" href=https://colab.research.google.com/notebooks/data_table.ipynb>data table notebook</a>'\n",
              "            + ' to learn more about interactive tables.';\n",
              "          element.innerHTML = '';\n",
              "          dataTable['output_type'] = 'display_data';\n",
              "          await google.colab.output.renderOutput(dataTable, element);\n",
              "          const docLink = document.createElement('div');\n",
              "          docLink.innerHTML = docLinkHtml;\n",
              "          element.appendChild(docLink);\n",
              "        }\n",
              "      </script>\n",
              "    </div>\n",
              "  </div>\n",
              "  "
            ],
            "text/plain": [
              "            Train score  Test score\n",
              "r2_score       0.999759    0.994166\n",
              "MAE          148.200617  432.047381\n",
              "MMRE            0.05317    0.110009\n",
              "PRED (0.25)    0.964286    0.861111"
            ]
          },
          "execution_count": 30,
          "metadata": {},
          "output_type": "execute_result"
        }
      ],
      "source": [
        "metrics.scores_DataFrame(y_train, y_test, train_predictions, test_predictions)"
      ]
    },
    {
      "cell_type": "code",
      "execution_count": 33,
      "metadata": {
        "colab": {
          "base_uri": "https://localhost:8080/",
          "height": 606
        },
        "id": "ZraRyKACAoxt",
        "outputId": "df7082e5-f4f7-4970-db10-8c20c9097f4b"
      },
      "outputs": [
        {
          "data": {
            "image/png": "[encoded data removed]",
            "text/plain": [
              "<Figure size 1080x720 with 1 Axes>"
            ]
          },
          "metadata": {
            "needs_background": "light"
          },
          "output_type": "display_data"
        }
      ],
      "source": [
        "fig = ga_alg.plot_generations_scores()"
      ]
    },
    {
      "cell_type": "code",
      "execution_count": 34,
      "metadata": {
        "id": "FYDH4hY_qEVd"
      },
      "outputs": [],
      "source": [
        "fig.savefig('/content/svr_ga.pdf')"
      ]
    }
  ],
  "metadata": {
    "colab": {
      "collapsed_sections": [],
      "name": "support_vector_machines.ipynb",
      "provenance": []
    },
    "kernelspec": {
      "display_name": "Python 3.8.3 ('base')",
      "language": "python",
      "name": "python3"
    },
    "language_info": {
      "name": "python",
      "version": "3.8.3"
    },
    "vscode": {
      "interpreter": {
        "hash": "f08154012ddadd8e950e6e9e035c7a7b32c136e7647e9b7c77e02eb723a8bedb"
      }
    }
  },
  "nbformat": 4,
  "nbformat_minor": 0
}
